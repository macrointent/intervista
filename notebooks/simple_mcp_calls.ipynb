{
 "cells": [
  {
   "cell_type": "code",
   "execution_count": 2,
   "metadata": {},
   "outputs": [],
   "source": [
    "import json\n",
    "from fastmcp import Client"
   ]
  },
  {
   "cell_type": "code",
   "execution_count": 3,
   "metadata": {},
   "outputs": [],
   "source": [
    "server_url = \"http://localhost:8090/simple\" "
   ]
  },
  {
   "cell_type": "markdown",
   "metadata": {},
   "source": [
    "# Invoke from MCP Server with extra header"
   ]
  },
  {
   "cell_type": "code",
   "execution_count": 24,
   "metadata": {},
   "outputs": [
    {
     "name": "stdout",
     "output_type": "stream",
     "text": [
      "meta=None content=[TextContent(type='text', text='successfully processed Hello World! for session my-mantix-backend-session.', annotations=None, meta=None)] structuredContent={'result': 'successfully processed Hello World! for session my-mantix-backend-session.'} isError=False\n"
     ]
    }
   ],
   "source": [
    "from fastmcp.client.transports import StreamableHttpTransport\n",
    "\n",
    "transport = StreamableHttpTransport(\n",
    "    url=server_url,\n",
    "    headers={\n",
    "        \"X-Mantix-Session\": \"my-mantix-backend-session\"\n",
    "    }\n",
    ")\n",
    "client = Client(transport)\n",
    "\n",
    "async with Client(transport) as client:\n",
    "    params = {\"data\": \"Hello World!\"}\n",
    "    result = await client.call_tool_mcp(\"do_something\", params)\n",
    "    print(result)\n",
    "    "
   ]
  },
  {
   "cell_type": "markdown",
   "metadata": {},
   "source": [
    "# get all tools from MCP server"
   ]
  },
  {
   "cell_type": "code",
   "execution_count": 102,
   "metadata": {},
   "outputs": [
    {
     "name": "stdout",
     "output_type": "stream",
     "text": [
      "name='get_catalog' title=None description=None inputSchema={'properties': {}, 'type': 'object'} outputSchema={'properties': {'result': {'title': 'Result', 'type': 'string'}}, 'required': ['result'], 'title': '_WrappedResult', 'type': 'object', 'x-fastmcp-wrap-result': True} annotations=None meta=None\n",
      "name='get_form' title=None description=None inputSchema={'properties': {'form_id': {'title': 'Form Id', 'type': 'string'}}, 'required': ['form_id'], 'type': 'object'} outputSchema={'properties': {'result': {'title': 'Result', 'type': 'string'}}, 'required': ['result'], 'title': '_WrappedResult', 'type': 'object', 'x-fastmcp-wrap-result': True} annotations=None meta=None\n",
      "name='submit_form' title=None description=None inputSchema={'properties': {'form_id': {'title': 'Form Id', 'type': 'string'}, 'data': {'title': 'Data', 'type': 'string'}}, 'required': ['form_id', 'data'], 'type': 'object'} outputSchema={'properties': {'result': {'title': 'Result', 'type': 'string'}}, 'required': ['result'], 'title': '_WrappedResult', 'type': 'object', 'x-fastmcp-wrap-result': True} annotations=None meta=None\n"
     ]
    }
   ],
   "source": [
    "async with Client(server_url) as client:\n",
    "    mcp_tools = await client.list_tools()\n",
    "for tool_info in list(mcp_tools):\n",
    "    print(f\"{tool_info}\")"
   ]
  },
  {
   "cell_type": "markdown",
   "metadata": {},
   "source": [
    "# get catalog of all products from MCP server"
   ]
  },
  {
   "cell_type": "code",
   "execution_count": 103,
   "metadata": {},
   "outputs": [
    {
     "name": "stdout",
     "output_type": "stream",
     "text": [
      "{\"64\": {\"id\": 64, \"displayName\": \"FirmenSchutzbrief by ELEMENT\", \"tag\": [\"Versicherung\", \"Gesch\\u00e4ftskundentarif\", \"FirmenSchutz\", \"Einzelversicherung\", \"Multiger\\u00e4tetarif\"], \"attribute\": [{\"displayName\": \"DocumentChecker: Id Dokumentenattribut\", \"displayDescription\": \"\", \"value\": \"-300\", \"visible\": false}, {\"displayName\": \"DocumentChecker: Name Attribut an Vertrag\", \"displayDescription\": \"\", \"value\": \"Versicherungsschein-Nr.\", \"visible\": false}, {\"displayName\": \"Mindestvertragslaufzeit\", \"displayDescription\": \"\", \"value\": \"12\", \"visible\": false}, {\"displayName\": \"max. Laufzeit Monate\", \"displayDescription\": \"\", \"value\": \"60\", \"visible\": false}, {\"displayName\": \"Zahlungsart\", \"displayDescription\": \"\", \"value\": \"\\u00dcberweisung\", \"visible\": false}, {\"displayName\": \"Zahlungsweise\", \"displayDescription\": \"\", \"value\": \"einmalig\", \"visible\": false}]}, \"3415\": {\"id\": 3415, \"displayName\": \"HandySchutzbrief Basis ohne Diebstahl (Risikotr\\u00e4ger ELEMENT)\", \"tag\": [\"Privatkundentarif\", \"Versicherung\", \"Basis\", \"Einzelversicherung\", \"Check24\"], \"attribute\": [{\"displayName\": \"weltweiter Rundum-Schutz\", \"displayDescription\": \"\", \"value\": \"true\", \"visible\": true}, {\"displayName\": \"1 neues oder gebrauchtes Handy (jedes Ger\\u00e4tealter)\", \"displayDescription\": \"\", \"value\": \"true\", \"visible\": true}, {\"displayName\": \"Displaysch\\u00e4den\", \"displayDescription\": \"\", \"value\": \"true\", \"visible\": true}, {\"displayName\": \"Verschlei\\u00df Akku\", \"displayDescription\": \"\", \"value\": \"false\", \"visible\": true}, {\"displayName\": \"Garantieverl\\u00e4ngerung nach Ablauf der Garantie\", \"displayDescription\": \"\", \"value\": \"true\", \"visible\": true}, {\"displayName\": \"Fl\\u00fcssigkeitssch\\u00e4den inkl. Witterung\", \"displayDescription\": \"\", \"value\": \"true\", \"visible\": true}, {\"displayName\": \"Diebstahl\", \"displayDescription\": \"\", \"value\": \"false\", \"visible\": true}, {\"displayName\": \"Selbstbeteiligung 10% vom Kaufpreis\", \"displayDescription\": \"\", \"value\": \"true\", \"visible\": true}, {\"displayName\": \"T\\u00e4gliche K\\u00fcndigungsoption\", \"displayDescription\": \"\", \"value\": \"true\", \"visible\": true}, {\"displayName\": \"Wartefrist Wochen\", \"displayDescription\": \"Wird der Versicherungsvertrag f\\u00fcr das versicherte Ger\\u00e4t erst nach dem Kaufdatum abgeschlossen, gilt eine Wartezeit von vier Wochen ab Abschluss des Versicherungsvertrages. F\\u00fcr vor oder w\\u00e4hrend der Wartezeit eingetretene\\r\\nVersicherungsf\\u00e4lle besteht kein Versicherungsschutz.\", \"value\": null, \"visible\": false}, {\"displayName\": \"Wartefrist (in Wochen) nach Ger\\u00e4tealter\", \"displayDescription\": \"Wird der Versicherungsvertrag f\\u00fcr das versicherte Ger\\u00e4t erst nach dem Kaufdatum abgeschlossen, kannst du Dein Ger\\u00e4t kostenpflichtig und auf Dein eigenes Risiko zur \\u00dcberpr\\u00fcfung an die Smartphoniker GmbH, Ger\\u00e4tepr\\u00fcfung Schutzgarant, Bahnhofstra\\u00dfe 30, 24223 Schwentinental einsenden, um das Ger\\u00e4t ohne Wartezeit zu versichern. Sobald die SCHUZTGARANT GmbH Schadenservice den mangelfreien Zustand best\\u00e4tigt, verzichten wir auf die Wartezeit. Schickst Du Dein Ger\\u00e4t nicht zur \\u00dcberpr\\u00fcfung ein gilt f\\u00fcr Ger\\u00e4te mit einem Ger\\u00e4tealter bis 42 Tage keine Wartezeit, f\\u00fcr Ger\\u00e4te mit einem Ger\\u00e4tealter bis 180 Tage eine Wartezeit von sechs Wochen ab Abschluss des Versicherungsvertrages. F\\u00fcr Ger\\u00e4te mit einem Ger\\u00e4tealter bis 360 Tage gilt eine Wartezeit von zw\\u00f6lf Wochen ab Abschluss des Versicherungsvertrages. Ger\\u00e4te, die \\u00e4lter als 360 Tage bei Abschluss des Versicherungsvertrages sind k\\u00f6nnen nur mit \\u00dcberpr\\u00fcfung versichert werden. Die Berechnung des Ger\\u00e4tealters erfolgt auf Grundlage des Kaufdatums des Ger\\u00e4tes, welches Du durch einen Kaufbeleg nachweisen musst. F\\u00fcr vor oder w\\u00e4hrend der Wartezeit eingetretene Versicherungsf\\u00e4lle besteht kein Versicherungsschutz.\", \"value\": \"Tage[42]=0\\r\\nTage[180]=6\\r\\nTage[3000]=12\", \"visible\": false}, {\"displayName\": \"Schutzbeginn\", \"displayDescription\": \"\", \"value\": null, \"visible\": false}, {\"displayName\": \"Zahlungsart\", \"displayDescription\": \"\", \"value\": \"Lastschrift\", \"visible\": false}, {\"displayName\": \"Zahlungsweise\", \"displayDescription\": \"\", \"value\": \"monatlich\", \"visible\": false}]}, \"3424\": {\"id\": 3424, \"displayName\": \"HandySchutzbrief Basis ohne Diebstahl (Risikotr\\u00e4ger ELEMENT)\", \"tag\": [\"Privatkundentarif\", \"Versicherung\", \"Basis\", \"Einzelversicherung\", \"Check24\"], \"attribute\": [{\"displayName\": \"weltweiter Rundum-Schutz\", \"displayDescription\": \"\", \"value\": \"true\", \"visible\": true}, {\"displayName\": \"1 neues oder gebrauchtes Handy (jedes Ger\\u00e4tealter)\", \"displayDescription\": \"\", \"value\": \"true\", \"visible\": true}, {\"displayName\": \"Displaysch\\u00e4den\", \"displayDescription\": \"\", \"value\": \"true\", \"visible\": true}, {\"displayName\": \"Verschlei\\u00df Akku\", \"displayDescription\": \"\", \"value\": \"false\", \"visible\": true}, {\"displayName\": \"Garantieverl\\u00e4ngerung nach Ablauf der Garantie\", \"displayDescription\": \"\", \"value\": \"true\", \"visible\": true}, {\"displayName\": \"Fl\\u00fcssigkeitssch\\u00e4den inkl. Witterung\", \"displayDescription\": \"\", \"value\": \"true\", \"visible\": true}, {\"displayName\": \"Diebstahl\", \"displayDescription\": \"\", \"value\": \"false\", \"visible\": true}, {\"displayName\": \"Selbstbeteiligung 10% vom Kaufpreis\", \"displayDescription\": \"\", \"value\": \"true\", \"visible\": true}, {\"displayName\": \"T\\u00e4gliche K\\u00fcndigungsoption\", \"displayDescription\": \"\", \"value\": \"true\", \"visible\": true}, {\"displayName\": \"Wartefrist Wochen\", \"displayDescription\": \"Wird der Versicherungsvertrag f\\u00fcr das versicherte Ger\\u00e4t erst nach dem Kaufdatum abgeschlossen, gilt eine Wartezeit von vier Wochen ab Abschluss des Versicherungsvertrages. F\\u00fcr vor oder w\\u00e4hrend der Wartezeit eingetretene\\r\\nVersicherungsf\\u00e4lle besteht kein Versicherungsschutz.\", \"value\": null, \"visible\": false}, {\"displayName\": \"Wartefrist (in Wochen) nach Ger\\u00e4tealter\", \"displayDescription\": \"Wird der Versicherungsvertrag f\\u00fcr das versicherte Ger\\u00e4t erst nach dem Kaufdatum abgeschlossen, kannst du Dein Ger\\u00e4t kostenpflichtig und auf Dein eigenes Risiko zur \\u00dcberpr\\u00fcfung an die Smartphoniker GmbH, Ger\\u00e4tepr\\u00fcfung Schutzgarant, Bahnhofstra\\u00dfe 30, 24223 Schwentinental einsenden, um das Ger\\u00e4t ohne Wartezeit zu versichern. Sobald die SCHUZTGARANT GmbH Schadenservice den mangelfreien Zustand best\\u00e4tigt, verzichten wir auf die Wartezeit. Schickst Du Dein Ger\\u00e4t nicht zur \\u00dcberpr\\u00fcfung ein gilt f\\u00fcr Ger\\u00e4te mit einem Ger\\u00e4tealter bis 42 Tage keine Wartezeit, f\\u00fcr Ger\\u00e4te mit einem Ger\\u00e4tealter bis 180 Tage eine Wartezeit von sechs Wochen ab Abschluss des Versicherungsvertrages. F\\u00fcr Ger\\u00e4te mit einem Ger\\u00e4tealter bis 360 Tage gilt eine Wartezeit von zw\\u00f6lf Wochen ab Abschluss des Versicherungsvertrages. Ger\\u00e4te, die \\u00e4lter als 360 Tage bei Abschluss des Versicherungsvertrages sind k\\u00f6nnen nur mit \\u00dcberpr\\u00fcfung versichert werden. Die Berechnung des Ger\\u00e4tealters erfolgt auf Grundlage des Kaufdatums des Ger\\u00e4tes, welches Du durch einen Kaufbeleg nachweisen musst. F\\u00fcr vor oder w\\u00e4hrend der Wartezeit eingetretene Versicherungsf\\u00e4lle besteht kein Versicherungsschutz.\", \"value\": \"Tage[42]=0\\r\\nTage[180]=6\\r\\nTage[3000]=12\", \"visible\": false}, {\"displayName\": \"Schutzbeginn\", \"displayDescription\": \"\", \"value\": null, \"visible\": false}, {\"displayName\": \"Zahlungsart\", \"displayDescription\": \"\", \"value\": \"Lastschrift\", \"visible\": false}, {\"displayName\": \"Zahlungsweise\", \"displayDescription\": \"\", \"value\": \"Jahresbeitrag\", \"visible\": false}]}, \"3436\": {\"id\": 3436, \"displayName\": \"HandySchutzbrief Premium mit Diebstahl (Risikotr\\u00e4ger ELEMENT)\", \"tag\": [\"Privatkundentarif\", \"Versicherung\", \"Premium\", \"Einzelversicherung\", \"Check24\"], \"attribute\": [{\"displayName\": \"weltweiter Rundum-Schutz\", \"displayDescription\": \"\", \"value\": \"true\", \"visible\": true}, {\"displayName\": \"1 neues oder gebrauchtes Handy (jedes Ger\\u00e4tealter)\", \"displayDescription\": \"\", \"value\": \"true\", \"visible\": true}, {\"displayName\": \"Displaysch\\u00e4den\", \"displayDescription\": \"\", \"value\": \"true\", \"visible\": true}, {\"displayName\": \"Verschlei\\u00df Akku\", \"displayDescription\": \"\", \"value\": \"true\", \"visible\": true}, {\"displayName\": \"Garantieverl\\u00e4ngerung nach Ablauf der Garantie\", \"displayDescription\": \"\", \"value\": \"true\", \"visible\": true}, {\"displayName\": \"Fl\\u00fcssigkeitssch\\u00e4den inkl. Witterung\", \"displayDescription\": \"\", \"value\": \"true\", \"visible\": true}, {\"displayName\": \"Diebstahl\", \"displayDescription\": \"\", \"value\": \"true\", \"visible\": true}, {\"displayName\": \"Selbstbeteiligung 0\\u20ac\", \"displayDescription\": \"\", \"value\": \"true\", \"visible\": true}, {\"displayName\": \"T\\u00e4gliche K\\u00fcndigungsoption\", \"displayDescription\": \"\", \"value\": \"true\", \"visible\": true}, {\"displayName\": \"Wartefrist Wochen\", \"displayDescription\": \"Wird der Versicherungsvertrag f\\u00fcr das versicherte Ger\\u00e4t erst nach dem Kaufdatum abgeschlossen, gilt eine Wartezeit von vier Wochen ab Abschluss des Versicherungsvertrages. F\\u00fcr vor oder w\\u00e4hrend der Wartezeit eingetretene\\r\\nVersicherungsf\\u00e4lle besteht kein Versicherungsschutz.\", \"value\": \"\", \"visible\": false}, {\"displayName\": \"Wartefrist (in Wochen) nach Ger\\u00e4tealter\", \"displayDescription\": \"Wird der Versicherungsvertrag f\\u00fcr das versicherte Ger\\u00e4t erst nach dem Kaufdatum abgeschlossen, kannst du Dein Ger\\u00e4t kostenpflichtig und auf Dein eigenes Risiko zur \\u00dcberpr\\u00fcfung an die Smartphoniker GmbH, Ger\\u00e4tepr\\u00fcfung Schutzgarant, Bahnhofstra\\u00dfe 30, 24223 Schwentinental einsenden, um das Ger\\u00e4t ohne Wartezeit zu versichern. Sobald die SCHUZTGARANT GmbH Schadenservice den mangelfreien Zustand best\\u00e4tigt, verzichten wir auf die Wartezeit. Schickst Du Dein Ger\\u00e4t nicht zur \\u00dcberpr\\u00fcfung ein gilt f\\u00fcr Ger\\u00e4te mit einem Ger\\u00e4tealter bis 42 Tage keine Wartezeit, f\\u00fcr Ger\\u00e4te mit einem Ger\\u00e4tealter bis 180 Tage eine Wartezeit von sechs Wochen ab Abschluss des Versicherungsvertrages. F\\u00fcr Ger\\u00e4te mit einem Ger\\u00e4tealter bis 360 Tage gilt eine Wartezeit von zw\\u00f6lf Wochen ab Abschluss des Versicherungsvertrages. Ger\\u00e4te, die \\u00e4lter als 360 Tage bei Abschluss des Versicherungsvertrages sind k\\u00f6nnen nur mit \\u00dcberpr\\u00fcfung versichert werden. Die Berechnung des Ger\\u00e4tealters erfolgt auf Grundlage des Kaufdatums des Ger\\u00e4tes, welches Du durch einen Kaufbeleg nachweisen musst. F\\u00fcr vor oder w\\u00e4hrend der Wartezeit eingetretene Versicherungsf\\u00e4lle besteht kein Versicherungsschutz.\", \"value\": \"Tage[42]=0\\r\\nTage[180]=6\\r\\nTage[3000]=12\", \"visible\": false}, {\"displayName\": \"Schutzbeginn\", \"displayDescription\": \"\", \"value\": null, \"visible\": false}, {\"displayName\": \"Zahlungsart\", \"displayDescription\": \"\", \"value\": \"Lastschrift\", \"visible\": false}]}, \"3448\": {\"id\": 3448, \"displayName\": \"HandySchutzbrief Premium Online mit Diebstahl (Risikotr\\u00e4ger ELEMENT)\", \"tag\": [\"Privatkundentarif\", \"Online\", \"Versicherung\", \"Premium\", \"Einzelversicherung\"], \"attribute\": [{\"displayName\": \"weltweiter Rundum-Schutz\", \"displayDescription\": \"\", \"value\": \"true\", \"visible\": true}, {\"displayName\": \"1 neues oder gebrauchtes Handy (jedes Ger\\u00e4tealter)\", \"displayDescription\": \"\", \"value\": \"true\", \"visible\": true}, {\"displayName\": \"Displaysch\\u00e4den\", \"displayDescription\": \"\", \"value\": \"true\", \"visible\": true}, {\"displayName\": \"Verschlei\\u00df Akku\", \"displayDescription\": \"\", \"value\": \"true\", \"visible\": true}, {\"displayName\": \"Garantieverl\\u00e4ngerung nach Ablauf der Garantie\", \"displayDescription\": \"\", \"value\": \"true\", \"visible\": true}, {\"displayName\": \"Fl\\u00fcssigkeitssch\\u00e4den inkl. Witterung\", \"displayDescription\": \"\", \"value\": \"true\", \"visible\": true}, {\"displayName\": \"Diebstahl\", \"displayDescription\": \"\", \"value\": \"true\", \"visible\": true}, {\"displayName\": \"Selbstbeteiligung 0\\u20ac\", \"displayDescription\": \"\", \"value\": \"true\", \"visible\": true}, {\"displayName\": \"T\\u00e4gliche K\\u00fcndigungsoption\", \"displayDescription\": \"\", \"value\": \"true\", \"visible\": true}, {\"displayName\": \"Wartefrist Wochen\", \"displayDescription\": \"Wird der Versicherungsvertrag f\\u00fcr das versicherte Ger\\u00e4t erst nach dem Kaufdatum abgeschlossen, gilt eine Wartezeit von vier Wochen ab Abschluss des Versicherungsvertrages. F\\u00fcr vor oder w\\u00e4hrend der Wartezeit eingetretene\\r\\nVersicherungsf\\u00e4lle besteht kein Versicherungsschutz.\", \"value\": \"\", \"visible\": false}, {\"displayName\": \"Wartefrist Wochen 2\", \"displayDescription\": \"Wird der Versicherungsvertrag f\\u00fcr das versicherte Ger\\u00e4t erst nach dem Kaufdatum abgeschlossen, kannst du Dein Ger\\u00e4t kostenpflichtig und auf Dein eigenes Risiko zur \\u00dcberpr\\u00fcfung an die Smartphoniker GmbH, Ger\\u00e4tepr\\u00fcfung Schutzgarant, Bahnhofstra\\u00dfe 30, 24223 Schwentinental einsenden, um das Ger\\u00e4t ohne Wartezeit zu versichern. Sobald die SCHUZTGARANT GmbH Schadenservice den mangelfreien Zustand best\\u00e4tigt, verzichten wir auf die Wartezeit. Schickst Du Dein Ger\\u00e4t nicht zur \\u00dcberpr\\u00fcfung ein gilt f\\u00fcr Ger\\u00e4te mit einem Ger\\u00e4tealter bis 90 Tage eine Wartezeit von vier Wochen ab Abschluss des Versicherungsvertrages. F\\u00fcr Ger\\u00e4te mit einem Ger\\u00e4tealter bis 180 Tage gilt eine Wartezeit von zus\\u00e4tzlichen vier Wochen ab Abschluss des Versicherungsvertrages. F\\u00fcr Ger\\u00e4te mit einem Ger\\u00e4tealter bis 360 Tage gilt eine Wartezeit von zus\\u00e4tzlichen vier Wochen ab Abschluss des Versicherungsvertrages. Ger\\u00e4te, die \\u00e4lter als 360 Tage bei Abschluss des Versicherungsvertrages sind k\\u00f6nnen nur mit \\u00dcberpr\\u00fcfung versichert werden. Die Berechnung des Ger\\u00e4tealters erfolgt auf Grundlag des Kaufdatums des Ger\\u00e4tes, welches Du durch einen Kaufbeleg nachweisen musst. F\\u00fcr vor oder w\\u00e4hrend der Wartezeit eingetretene Versicherungsf\\u00e4lle besteht kein Versicherungsschutz.\", \"value\": \"Tage[42]=0\\r\\nTage[180]=6\\r\\nTage[3000]=12\", \"visible\": false}, {\"displayName\": \"Schutzbeginn\", \"displayDescription\": \"\", \"value\": null, \"visible\": false}, {\"displayName\": \"Zahlungsart\", \"displayDescription\": \"\", \"value\": \"Lastschrift\", \"visible\": false}, {\"displayName\": \"Zahlungsweise\", \"displayDescription\": \"\", \"value\": \"j\\u00e4hrlich\", \"visible\": false}]}, \"3571\": {\"id\": 3571, \"displayName\": \"HandySchutzbrief Mobilfunk Basis ohne Diebstahl (Risikotr\\u00e4ger ELEMENT)\", \"tag\": [\"Privatkundentarif\", \"Versicherung\", \"Basis\", \"Einzelversicherung\", \"Check24\"], \"attribute\": [{\"displayName\": \"Mobilfunk X-Selling\", \"displayDescription\": \"\", \"value\": \"true\", \"visible\": false}, {\"displayName\": \"weltweiter Rundum-Schutz\", \"displayDescription\": \"\", \"value\": \"true\", \"visible\": true}, {\"displayName\": \"1 neues oder gebrauchtes Handy (jedes Ger\\u00e4tealter)\", \"displayDescription\": \"\", \"value\": \"true\", \"visible\": true}, {\"displayName\": \"Displaysch\\u00e4den\", \"displayDescription\": \"\", \"value\": \"true\", \"visible\": true}, {\"displayName\": \"Verschlei\\u00df Akku\", \"displayDescription\": \"\", \"value\": \"false\", \"visible\": true}, {\"displayName\": \"Garantieverl\\u00e4ngerung nach Ablauf der Garantie\", \"displayDescription\": \"\", \"value\": \"true\", \"visible\": true}, {\"displayName\": \"Fl\\u00fcssigkeitssch\\u00e4den inkl. Witterung\", \"displayDescription\": \"\", \"value\": \"true\", \"visible\": true}, {\"displayName\": \"Diebstahl\", \"displayDescription\": \"\", \"value\": \"false\", \"visible\": true}, {\"displayName\": \"Selbstbeteiligung 10% vom Kaufpreis\", \"displayDescription\": \"\", \"value\": \"true\", \"visible\": true}, {\"displayName\": \"T\\u00e4gliche K\\u00fcndigungsoption\", \"displayDescription\": \"\", \"value\": \"true\", \"visible\": true}, {\"displayName\": \"Wartefrist Wochen\", \"displayDescription\": \"Wird der Versicherungsvertrag f\\u00fcr das versicherte Ger\\u00e4t erst nach dem Kaufdatum abgeschlossen, gilt eine Wartezeit von vier Wochen ab Abschluss des Versicherungsvertrages. F\\u00fcr vor oder w\\u00e4hrend der Wartezeit eingetretene\\r\\nVersicherungsf\\u00e4lle besteht kein Versicherungsschutz.\", \"value\": null, \"visible\": false}, {\"displayName\": \"Wartefrist (in Wochen) nach Ger\\u00e4tealter\", \"displayDescription\": \"Wird der Versicherungsvertrag f\\u00fcr das versicherte Ger\\u00e4t erst nach dem Kaufdatum abgeschlossen, kannst du Dein Ger\\u00e4t kostenpflichtig und auf Dein eigenes Risiko zur \\u00dcberpr\\u00fcfung an die Smartphoniker GmbH, Ger\\u00e4tepr\\u00fcfung Schutzgarant, Bahnhofstra\\u00dfe 30, 24223 Schwentinental einsenden, um das Ger\\u00e4t ohne Wartezeit zu versichern. Sobald die SCHUZTGARANT GmbH Schadenservice den mangelfreien Zustand best\\u00e4tigt, verzichten wir auf die Wartezeit. Schickst Du Dein Ger\\u00e4t nicht zur \\u00dcberpr\\u00fcfung ein gilt f\\u00fcr Ger\\u00e4te mit einem Ger\\u00e4tealter bis 42 Tage keine Wartezeit, f\\u00fcr Ger\\u00e4te mit einem Ger\\u00e4tealter bis 180 Tage eine Wartezeit von sechs Wochen ab Abschluss des Versicherungsvertrages. F\\u00fcr Ger\\u00e4te mit einem Ger\\u00e4tealter bis 360 Tage gilt eine Wartezeit von zw\\u00f6lf Wochen ab Abschluss des Versicherungsvertrages. Ger\\u00e4te, die \\u00e4lter als 360 Tage bei Abschluss des Versicherungsvertrages sind k\\u00f6nnen nur mit \\u00dcberpr\\u00fcfung versichert werden. Die Berechnung des Ger\\u00e4tealters erfolgt auf Grundlage des Kaufdatums des Ger\\u00e4tes, welches Du durch einen Kaufbeleg nachweisen musst. F\\u00fcr vor oder w\\u00e4hrend der Wartezeit eingetretene Versicherungsf\\u00e4lle besteht kein Versicherungsschutz.\", \"value\": \"Tage[42]=0\\r\\nTage[180]=6\\r\\nTage[3000]=12\", \"visible\": false}, {\"displayName\": \"Schutzbeginn\", \"displayDescription\": \"\", \"value\": null, \"visible\": false}, {\"displayName\": \"Zahlungsart\", \"displayDescription\": \"\", \"value\": \"Lastschrift\", \"visible\": false}, {\"displayName\": \"Zahlungsweise\", \"displayDescription\": \"\", \"value\": \"monatlich\", \"visible\": false}]}, \"3610\": {\"id\": 3610, \"displayName\": \"HandySchutzbrief Mobilfunk Premium ohne Diebstahl (Risikotr\\u00e4ger HELVETIA)\", \"tag\": [\"Check24\", \"Einzelversicherung\", \"Premium\", \"Privatkundentarif\", \"Versicherung\"], \"attribute\": [{\"displayName\": \"Mobilfunk X-Selling\", \"displayDescription\": \"\", \"value\": \"true\", \"visible\": false}, {\"displayName\": \"weltweiter Rundum-Schutz\", \"displayDescription\": \"\", \"value\": \"true\", \"visible\": true}, {\"displayName\": \"Maximales Ger\\u00e4tealter Tage\", \"displayDescription\": \"\", \"value\": \"14\", \"visible\": true}, {\"displayName\": \"Displaysch\\u00e4den\", \"displayDescription\": \"\", \"value\": \"true\", \"visible\": true}, {\"displayName\": \"Verschlei\\u00df Akku\", \"displayDescription\": \"\", \"value\": \"true\", \"visible\": true}, {\"displayName\": \"Garantieverl\\u00e4ngerung nach Ablauf der Garantie\", \"displayDescription\": \"\", \"value\": \"true\", \"visible\": true}, {\"displayName\": \"Fl\\u00fcssigkeitssch\\u00e4den inkl. Witterung\", \"displayDescription\": \"\", \"value\": \"true\", \"visible\": true}, {\"displayName\": \"Diebstahl\", \"displayDescription\": \"\", \"value\": \"false\", \"visible\": true}, {\"displayName\": \"Selbstbeteiligung 0\\u20ac\", \"displayDescription\": \"\", \"value\": \"true\", \"visible\": true}, {\"displayName\": \"T\\u00e4gliche K\\u00fcndigungsoption\", \"displayDescription\": \"\", \"value\": \"true\", \"visible\": true}, {\"displayName\": \"Wartefrist Wochen\", \"displayDescription\": \"Wird der Versicherungsvertrag f\\u00fcr das versicherte Ger\\u00e4t erst nach dem Kaufdatum abgeschlossen, gilt eine Wartezeit von vier Wochen ab Abschluss des Versicherungsvertrages. F\\u00fcr vor oder w\\u00e4hrend der Wartezeit eingetretene\\r\\nVersicherungsf\\u00e4lle besteht kein Versicherungsschutz.\", \"value\": \"\", \"visible\": false}, {\"displayName\": \"Wartefrist (in Wochen) nach Ger\\u00e4tealter\", \"displayDescription\": \"Wird der Versicherungsvertrag f\\u00fcr das versicherte Ger\\u00e4t erst nach dem Kaufdatum abgeschlossen, kannst du Dein Ger\\u00e4t kostenpflichtig und auf Dein eigenes Risiko zur \\u00dcberpr\\u00fcfung an die Smartphoniker GmbH, Ger\\u00e4tepr\\u00fcfung Schutzgarant, Bahnhofstra\\u00dfe 30, 24223 Schwentinental einsenden, um das Ger\\u00e4t ohne Wartezeit zu versichern. Sobald die SCHUZTGARANT GmbH Schadenservice den mangelfreien Zustand best\\u00e4tigt, verzichten wir auf die Wartezeit. Schickst Du Dein Ger\\u00e4t nicht zur \\u00dcberpr\\u00fcfung ein gilt f\\u00fcr Ger\\u00e4te mit einem Ger\\u00e4tealter bis 42 Tage keine Wartezeit, f\\u00fcr Ger\\u00e4te mit einem Ger\\u00e4tealter bis 180 Tage eine Wartezeit von sechs Wochen ab Abschluss des Versicherungsvertrages. F\\u00fcr Ger\\u00e4te mit einem Ger\\u00e4tealter bis 360 Tage gilt eine Wartezeit von zw\\u00f6lf Wochen ab Abschluss des Versicherungsvertrages. Ger\\u00e4te, die \\u00e4lter als 360 Tage bei Abschluss des Versicherungsvertrages sind k\\u00f6nnen nur mit \\u00dcberpr\\u00fcfung versichert werden. Die Berechnung des Ger\\u00e4tealters erfolgt auf Grundlage des Kaufdatums des Ger\\u00e4tes, welches Du durch einen Kaufbeleg nachweisen musst. F\\u00fcr vor oder w\\u00e4hrend der Wartezeit eingetretene Versicherungsf\\u00e4lle besteht kein Versicherungsschutz.\", \"value\": \"Tage[42]=0\\r\\nTage[180]=6\\r\\nTage[3000]=12\", \"visible\": false}, {\"displayName\": \"Schutzbeginn\", \"displayDescription\": \"\", \"value\": null, \"visible\": false}, {\"displayName\": \"Zahlungsart\", \"displayDescription\": \"\", \"value\": \"Lastschrift\", \"visible\": false}, {\"displayName\": \"Zahlungsweise\", \"displayDescription\": \"\", \"value\": \"Jahresbeitrag\", \"visible\": false}]}}\n"
     ]
    }
   ],
   "source": [
    "transport = StreamableHttpTransport(\n",
    "    url=server_url,\n",
    "    headers={\n",
    "        \"X-Mantix-Session\": \"my-mantix-backend-session\"\n",
    "    }\n",
    ")\n",
    "\n",
    "async with Client(transport) as client:\n",
    "    params = {}\n",
    "    result = await client.call_tool_mcp(\"get_catalog\", params)\n",
    "    json_schema = result.content[0].text\n",
    "    print(json_schema)"
   ]
  },
  {
   "cell_type": "markdown",
   "metadata": {},
   "source": [
    "# invoke from MCP server with json"
   ]
  },
  {
   "cell_type": "code",
   "execution_count": 5,
   "metadata": {},
   "outputs": [
    {
     "name": "stdout",
     "output_type": "stream",
     "text": [
      "successfully processed {\"typeId\": -10, \"street\": \"Main Street\", \"streetNumber\": \"5A\", \"addition\": null, \"zipcode\": \"10115\", \"city\": \"Berlin\", \"countryCode\": \"DE\"} for session None.\n"
     ]
    }
   ],
   "source": [
    "async with Client(server_url) as client:\n",
    "    address = {\n",
    "        \"typeId\": -10,\n",
    "        \"street\": \"Main Street\",\n",
    "        \"streetNumber\": \"5A\",\n",
    "        \"addition\": None,\n",
    "        \"zipcode\": \"10115\",\n",
    "        \"city\": \"Berlin\",\n",
    "        \"countryCode\": \"DE\"\n",
    "    }\n",
    "    params = {\"data\": json.dumps(address)}\n",
    "    result = await client.call_tool_mcp(\"submit_form\", params)\n",
    "    print(result.content[0].text)\n",
    "    # pretty = json.loads(result.content[0].text)\n",
    "    # print(json.dumps(pretty, indent=2, ensure_ascii=False))\n"
   ]
  },
  {
   "cell_type": "markdown",
   "metadata": {},
   "source": [
    "# receive form definition from MCP and invoke model to submit valid form"
   ]
  },
  {
   "cell_type": "code",
   "execution_count": 16,
   "metadata": {},
   "outputs": [
    {
     "name": "stdout",
     "output_type": "stream",
     "text": [
      "{\"properties\": {\"typeId\": {\"description\": \"Address type. -10 = Private, -11 = Business, -12 = Billing, -13 = Delivery\", \"title\": \"Typeid\", \"type\": \"integer\"}, \"street\": {\"description\": \"Street (without house number)\", \"title\": \"Street\", \"type\": \"string\"}, \"streetNumber\": {\"description\": \"House number\", \"title\": \"Streetnumber\", \"type\": \"string\"}, \"addition\": {\"anyOf\": [{\"type\": \"string\"}, {\"type\": \"null\"}], \"default\": null, \"description\": \"Additional info (e.g. '2nd floor')\", \"title\": \"Addition\"}, \"zipcode\": {\"description\": \"Postal code\", \"title\": \"Zipcode\", \"type\": \"string\"}, \"city\": {\"description\": \"City name\", \"title\": \"City\", \"type\": \"string\"}, \"countryCode\": {\"description\": \"2-char ISO country code (e.g. DE)\", \"maxLength\": 2, \"minLength\": 2, \"title\": \"Countrycode\", \"type\": \"string\"}}, \"required\": [\"typeId\", \"street\", \"streetNumber\", \"zipcode\", \"city\", \"countryCode\"], \"title\": \"Address\", \"type\": \"object\"}\n"
     ]
    }
   ],
   "source": [
    "# receive form\n",
    "async with Client(server_url) as client:\n",
    "    result = await client.call_tool_mcp(\"get_address_form\", {})\n",
    "    json_schema = result.content[0].text\n",
    "    print(json_schema)"
   ]
  },
  {
   "cell_type": "code",
   "execution_count": 24,
   "metadata": {},
   "outputs": [
    {
     "name": "stdout",
     "output_type": "stream",
     "text": [
      "{\"typeId\": -10, \"street\": \"Hauptstr.\", \"streetNumber\": \"3\", \"addition\": \"dritter Stock links\", \"zipcode\": \"12345\", \"city\": \"Musterstadt\", \"countryCode\": \"DE\"}\n"
     ]
    }
   ],
   "source": [
    "# generate data \n",
    "from openai import OpenAI\n",
    "import os\n",
    "import sys\n",
    "sys.path.append(os.path.abspath(\"..\"))\n",
    "from dotenv import load_dotenv\n",
    "load_dotenv()\n",
    "\n",
    "model = os.getenv(\"STACKIT_MODEL_ID\")\n",
    "key = os.getenv(\"STACKIT_KEY\")\n",
    "base = os.getenv(\"STACKIT_BASE\")\n",
    "\n",
    "messages = [\n",
    "    {\"role\":\"system\", \"content\": (f\"You are a technical function that converts user information into this pydantic object: {json_schema}\"\n",
    "                                  \"Ommitt missing fields, unless their values are obvious. Rather respond with incomplete objects (but valid json)\"\n",
    "                                  \"Do not comment on the response, do not provide different options - just return the object.\")}, \n",
    "    # {\"role\":\"user\", \"content\": f\"Ich wohne in der Hauptstr. 3 in 12345 Musterstadt\"},     \n",
    "    # {\"role\":\"user\", \"content\": f\"Ich wohne in der Hauptstr. 3 in Musterstadt\"},     \n",
    "    {\"role\":\"user\", \"content\": f\"Ich wohne in der Hauptstr. 3, dritter Stock links, in 12345 Musterstadt\"},     \n",
    "]\n",
    "\n",
    "client = OpenAI(base_url=base, api_key=key)\n",
    "response = client.chat.completions.create(model=model, messages=messages)\n",
    "json_address = response.choices[0].message.content\n",
    "print(json_address)"
   ]
  },
  {
   "cell_type": "code",
   "execution_count": 25,
   "metadata": {},
   "outputs": [
    {
     "name": "stdout",
     "output_type": "stream",
     "text": [
      "successfully processed {\"typeId\": -10, \"street\": \"Hauptstr.\", \"streetNumber\": \"3\", \"addition\": \"dritter Stock links\", \"zipcode\": \"12345\", \"city\": \"Musterstadt\", \"countryCode\": \"DE\"} for session None.\n"
     ]
    }
   ],
   "source": [
    "# submit data\n",
    "async with Client(server_url) as client:\n",
    "    params = {\"data\": json_address}\n",
    "    result = await client.call_tool_mcp(\"submit_address_form\", params)\n",
    "    print(result.content[0].text)"
   ]
  },
  {
   "cell_type": "markdown",
   "metadata": {},
   "source": [
    "# Locally retrieve raw data to create dynamic form"
   ]
  },
  {
   "cell_type": "code",
   "execution_count": 29,
   "metadata": {},
   "outputs": [
    {
     "name": "stdout",
     "output_type": "stream",
     "text": [
      "{'product': {'productId': 3151, 'productVariantId': 3424, 'name': 'HandySchutzbrief Basis Check24', 'description': 'Element Check24 Basis ohne Diebstahl Jahreszahler AVB 02-2023SGon', 'versionInfo': 'Element Check24 Basis ohne Diebstahl Jahreszahler AVB 02-2023SGon', 'displayName': 'HandySchutzbrief Basis ohne Diebstahl (Risikoträger ELEMENT)', 'tooltip': None, 'state': 'Offen für den Bestand', 'typeId': -101001, 'availableFrom': 1675209600000, 'availableTo': None, 'personSpecific': False, 'providerId': 10, 'providerName': 'ELEMENT', 'providerShortName': 'EL', 'tag': ['Privatkundentarif', 'Versicherung', 'Basis', 'Einzelversicherung', 'Check24'], 'tagrenderdata': None, 'rule': ['de.schutzgarant.core.plugins.ImeiDublettenCheckPlugin', 'de.schutzgarant.core.plugins.BeitragsrechnerHandyschutzbriefPrivat', 'at.intervista.collactive.sellactive.plugin.pdf.xslt.XsltFoPrintPlugin', 'de.schutzgarant.core.plugins.GeraetePlausiPlugin', 'de.schutzgarant.core.plugins.WartezeitenPlugin', 'de.schutzgarant.core.plugins.claim.ClaimAfterDateOfExpiry', 'de.schutzgarant.core.plugins.claim.SchadenVorfristigPlugin', 'at.intervista.collactive.sellactive.plugin.plausi.PersonInformationChecker', 'de.schutzgarant.core.plugins.claim.GarantiezeitraumPlugin', 'de.schutzgarant.core.plugins.claim.ClaimToLateAfterReporting', 'de.schutzgarant.core.plugins.claim.SoftPossibleQuarantineViolationChecker', 'at.intervista.collactive.sellactive.plugin.inkasso.PairFinancePlugin', 'de.schutzgarant.core.plugins.GeraetealterPlugin', 'de.schutzgarant.core.plugins.TechnischePruefungErforderlichPlugin'], 'externalcode': []}, 'attributecategorie': [{'name': 'Allgemeine Kategorie', 'displayName': 'Allgemeine Kategorie', 'rank': 30, 'expandable': False, 'collapse': None, 'header': '', 'footer': '', 'displayAttributeCategoryDtoMap': {'Diebstahl': {'collapse': None, 'header': '', 'footer': ''}, 'SelfActive Erfassung': {'collapse': None, 'header': '', 'footer': ''}, 'Geräteimport': {'collapse': None, 'header': '', 'footer': ''}, 'Provisionierung': {'collapse': None, 'header': '', 'footer': ''}, 'Vertrag': {'collapse': None, 'header': '', 'footer': ''}, 'Vertragsvorlage': {'collapse': None, 'header': '', 'footer': ''}, 'Beitragsberechnung': {'collapse': None, 'header': '', 'footer': ''}, 'TouchActive Extra': {'collapse': None, 'header': '', 'footer': ''}, 'Schaden': {'collapse': None, 'header': '', 'footer': ''}, 'Vermittlermerkmale': {'collapse': None, 'header': '', 'footer': ''}, 'Eingabedaten': {'collapse': None, 'header': '', 'footer': ''}, 'Dokumentgenerierung': {'collapse': None, 'header': '', 'footer': ''}, 'TouchActive Erfassung': {'collapse': None, 'header': '', 'footer': ''}, 'Visuals': {'collapse': None, 'header': '', 'footer': ''}}, 'attribute': [{'attributeId': 331, 'productVariantAttributeId': 13150, 'name': 'Gerätetyp (privat)', 'displayName': 'Gerätetyp', 'displayDescription': '', 'catName': 'Allgemeine Kategorie', 'catDisplayName': 'Allgemeine Kategorie', 'catRank': 30, 'attributeCategoryId': -1, 'placeholder': None, 'description': '', 'type': 'Liste', 'typeId': -102014, 'value': 'Handy/Smartphone', 'inputField': True, 'hide': False, 'advanced': False, 'dynamicLoaderId': None, 'productVariantId': 3424, 'productName': 'HandySchutzbrief Basis Check24', 'personAttributeTypeId': None, 'documentAttributeTypeId': None, 'businessObjectAttributeTypeId': None, 'required': True, 'rank': 100, 'listId': 25, 'properties': {}, 'autocomplete': None, 'autofocus': None, 'readonly': None, 'size': None, 'min': None, 'max': None, 'minDate': None, 'maxDate': None, 'minLength': None, 'maxLength': None, 'placeholderDpva': '', 'stepwise': None, 'aspectDisplayNames': {}, 'listelement': [{'listelementId': 500008, 'name': 'Handy/Smartphone', 'description': None, 'availableFrom': None, 'availableTo': None, 'rank': 100, 'valid': True, 'externalcode': []}, {'listelementId': 500011, 'name': 'Tablet', 'description': None, 'availableFrom': None, 'availableTo': None, 'rank': 200, 'valid': True, 'externalcode': []}, {'listelementId': 500014, 'name': 'Smartwatch', 'description': None, 'availableFrom': None, 'availableTo': None, 'rank': 300, 'valid': True, 'externalcode': []}], 'validationrule': [], 'aspect': ['SelfActive Erfassung', 'Vertragsvorlage', 'TouchActive Erfassung', 'CollActive Erfassung'], 'evaluation': [], 'externalcode': []}]}, {'name': 'Vertragsdetails', 'displayName': 'Vertragsdetails', 'rank': 100, 'expandable': False, 'collapse': None, 'header': '', 'footer': '', 'displayAttributeCategoryDtoMap': {'Beitragsberechnung': {'collapse': None, 'header': '', 'footer': ''}, 'SelfActive Erfassung': {'collapse': None, 'header': '', 'footer': ''}, 'TouchActive Extra': {'collapse': None, 'header': '', 'footer': ''}, 'Vertriebskennzeichen': {'collapse': None, 'header': '', 'footer': ''}, 'Provisionierung': {'collapse': None, 'header': '', 'footer': ''}, 'CollActive Erfassung': {'collapse': None, 'header': '', 'footer': ''}, 'Eingabedaten': {'collapse': None, 'header': '', 'footer': ''}, 'Vertragsvorlage': {'collapse': None, 'header': '', 'footer': ''}, 'Dokumentgenerierung': {'collapse': None, 'header': '', 'footer': ''}, 'TouchActive Erfassung': {'collapse': None, 'header': '', 'footer': ''}}, 'attribute': [{'attributeId': 658, 'productVariantAttributeId': 16870, 'name': 'Vertragsbeginn', 'displayName': 'Vertragsbeginn', 'displayDescription': '', 'catName': 'Vertragsdetails', 'catDisplayName': 'Vertragsdetails', 'catRank': 100, 'attributeCategoryId': 2, 'placeholder': None, 'description': '', 'type': 'Datum', 'typeId': -102012, 'value': None, 'inputField': True, 'hide': True, 'advanced': False, 'dynamicLoaderId': None, 'productVariantId': 3424, 'productName': 'HandySchutzbrief Basis Check24', 'personAttributeTypeId': None, 'documentAttributeTypeId': None, 'businessObjectAttributeTypeId': None, 'required': False, 'rank': 50, 'listId': None, 'properties': {}, 'autocomplete': None, 'autofocus': None, 'readonly': None, 'size': None, 'min': None, 'max': None, 'minDate': None, 'maxDate': None, 'minLength': None, 'maxLength': None, 'placeholderDpva': None, 'stepwise': None, 'aspectDisplayNames': {}, 'listelement': None, 'validationrule': [], 'aspect': ['SelfActive Erfassung'], 'evaluation': [], 'externalcode': []}, {'attributeId': 340, 'productVariantAttributeId': 13153, 'name': 'weltweiter Rundum-Schutz', 'displayName': 'weltweiter Rundum-Schutz', 'displayDescription': '', 'catName': 'Vertragsdetails', 'catDisplayName': 'Vertragsdetails', 'catRank': 100, 'attributeCategoryId': 2, 'placeholder': None, 'description': '', 'type': 'Auswahl', 'typeId': -102010, 'value': 'true', 'inputField': False, 'hide': False, 'advanced': True, 'dynamicLoaderId': None, 'productVariantId': 3424, 'productName': 'HandySchutzbrief Basis Check24', 'personAttributeTypeId': None, 'documentAttributeTypeId': None, 'businessObjectAttributeTypeId': None, 'required': False, 'rank': 100, 'listId': None, 'properties': {}, 'autocomplete': None, 'autofocus': None, 'readonly': None, 'size': None, 'min': None, 'max': None, 'minDate': None, 'maxDate': None, 'minLength': None, 'maxLength': None, 'placeholderDpva': '', 'stepwise': None, 'aspectDisplayNames': {}, 'listelement': None, 'validationrule': None, 'aspect': ['SelfActive Erfassung', 'TouchActive Erfassung', 'Vertriebskennzeichen', 'CollActive Erfassung'], 'evaluation': [], 'externalcode': []}, {'attributeId': 343, 'productVariantAttributeId': 13156, 'name': 'neu oder gebraucht', 'displayName': '1 neues oder gebrauchtes Handy (jedes Gerätealter)', 'displayDescription': '', 'catName': 'Vertragsdetails', 'catDisplayName': 'Vertragsdetails', 'catRank': 100, 'attributeCategoryId': 2, 'placeholder': None, 'description': '', 'type': 'Auswahl', 'typeId': -102010, 'value': 'true', 'inputField': False, 'hide': False, 'advanced': True, 'dynamicLoaderId': None, 'productVariantId': 3424, 'productName': 'HandySchutzbrief Basis Check24', 'personAttributeTypeId': None, 'documentAttributeTypeId': None, 'businessObjectAttributeTypeId': None, 'required': False, 'rank': 210, 'listId': None, 'properties': {}, 'autocomplete': None, 'autofocus': None, 'readonly': None, 'size': None, 'min': None, 'max': None, 'minDate': None, 'maxDate': None, 'minLength': None, 'maxLength': None, 'placeholderDpva': '', 'stepwise': None, 'aspectDisplayNames': {}, 'listelement': None, 'validationrule': None, 'aspect': ['SelfActive Erfassung', 'TouchActive Erfassung', 'Vertriebskennzeichen', 'CollActive Erfassung'], 'evaluation': [], 'externalcode': []}, {'attributeId': 256, 'productVariantAttributeId': 13159, 'name': 'Schäden am Frontdisplay', 'displayName': 'Displayschäden', 'displayDescription': '', 'catName': 'Vertragsdetails', 'catDisplayName': 'Vertragsdetails', 'catRank': 100, 'attributeCategoryId': 2, 'placeholder': None, 'description': '', 'type': 'Auswahl', 'typeId': -102010, 'value': 'true', 'inputField': False, 'hide': False, 'advanced': True, 'dynamicLoaderId': None, 'productVariantId': 3424, 'productName': 'HandySchutzbrief Basis Check24', 'personAttributeTypeId': None, 'documentAttributeTypeId': None, 'businessObjectAttributeTypeId': None, 'required': False, 'rank': 400, 'listId': None, 'properties': {}, 'autocomplete': None, 'autofocus': None, 'readonly': None, 'size': None, 'min': None, 'max': None, 'minDate': None, 'maxDate': None, 'minLength': None, 'maxLength': None, 'placeholderDpva': '', 'stepwise': None, 'aspectDisplayNames': {}, 'listelement': None, 'validationrule': None, 'aspect': ['SelfActive Erfassung', 'TouchActive Erfassung', 'Vertriebskennzeichen', 'CollActive Erfassung'], 'evaluation': [], 'externalcode': []}, {'attributeId': 346, 'productVariantAttributeId': 13162, 'name': 'Verschleiß Akku', 'displayName': 'Verschleiß Akku', 'displayDescription': '', 'catName': 'Vertragsdetails', 'catDisplayName': 'Vertragsdetails', 'catRank': 100, 'attributeCategoryId': 2, 'placeholder': None, 'description': '', 'type': 'Auswahl', 'typeId': -102010, 'value': 'false', 'inputField': False, 'hide': False, 'advanced': True, 'dynamicLoaderId': None, 'productVariantId': 3424, 'productName': 'HandySchutzbrief Basis Check24', 'personAttributeTypeId': None, 'documentAttributeTypeId': None, 'businessObjectAttributeTypeId': None, 'required': False, 'rank': 410, 'listId': None, 'properties': {}, 'autocomplete': None, 'autofocus': None, 'readonly': None, 'size': None, 'min': None, 'max': None, 'minDate': None, 'maxDate': None, 'minLength': None, 'maxLength': None, 'placeholderDpva': '', 'stepwise': None, 'aspectDisplayNames': {}, 'listelement': None, 'validationrule': None, 'aspect': ['SelfActive Erfassung', 'TouchActive Erfassung', 'Vertriebskennzeichen', 'CollActive Erfassung'], 'evaluation': [], 'externalcode': []}, {'attributeId': 349, 'productVariantAttributeId': 13165, 'name': 'Garantieverlängerung', 'displayName': 'Garantieverlängerung nach Ablauf der Garantie', 'displayDescription': '', 'catName': 'Vertragsdetails', 'catDisplayName': 'Vertragsdetails', 'catRank': 100, 'attributeCategoryId': 2, 'placeholder': None, 'description': '', 'type': 'Auswahl', 'typeId': -102010, 'value': 'true', 'inputField': False, 'hide': False, 'advanced': True, 'dynamicLoaderId': None, 'productVariantId': 3424, 'productName': 'HandySchutzbrief Basis Check24', 'personAttributeTypeId': None, 'documentAttributeTypeId': None, 'businessObjectAttributeTypeId': None, 'required': False, 'rank': 420, 'listId': None, 'properties': {}, 'autocomplete': None, 'autofocus': None, 'readonly': None, 'size': None, 'min': None, 'max': None, 'minDate': None, 'maxDate': None, 'minLength': None, 'maxLength': None, 'placeholderDpva': '', 'stepwise': None, 'aspectDisplayNames': {}, 'listelement': None, 'validationrule': None, 'aspect': ['SelfActive Erfassung', 'TouchActive Erfassung', 'Vertriebskennzeichen', 'CollActive Erfassung'], 'evaluation': [], 'externalcode': []}, {'attributeId': 352, 'productVariantAttributeId': 13168, 'name': 'Flüssigkeitsschäden', 'displayName': 'Flüssigkeitsschäden inkl. Witterung', 'displayDescription': '', 'catName': 'Vertragsdetails', 'catDisplayName': 'Vertragsdetails', 'catRank': 100, 'attributeCategoryId': 2, 'placeholder': None, 'description': '', 'type': 'Auswahl', 'typeId': -102010, 'value': 'true', 'inputField': False, 'hide': False, 'advanced': True, 'dynamicLoaderId': None, 'productVariantId': 3424, 'productName': 'HandySchutzbrief Basis Check24', 'personAttributeTypeId': None, 'documentAttributeTypeId': None, 'businessObjectAttributeTypeId': None, 'required': False, 'rank': 430, 'listId': None, 'properties': {}, 'autocomplete': None, 'autofocus': None, 'readonly': None, 'size': None, 'min': None, 'max': None, 'minDate': None, 'maxDate': None, 'minLength': None, 'maxLength': None, 'placeholderDpva': '', 'stepwise': None, 'aspectDisplayNames': {}, 'listelement': None, 'validationrule': None, 'aspect': ['SelfActive Erfassung', 'TouchActive Erfassung', 'Vertriebskennzeichen', 'CollActive Erfassung'], 'evaluation': [], 'externalcode': []}, {'attributeId': 355, 'productVariantAttributeId': 13171, 'name': 'Diebstahl', 'displayName': 'Diebstahl', 'displayDescription': '', 'catName': 'Vertragsdetails', 'catDisplayName': 'Vertragsdetails', 'catRank': 100, 'attributeCategoryId': 2, 'placeholder': None, 'description': '', 'type': 'Auswahl', 'typeId': -102010, 'value': 'false', 'inputField': False, 'hide': False, 'advanced': True, 'dynamicLoaderId': None, 'productVariantId': 3424, 'productName': 'HandySchutzbrief Basis Check24', 'personAttributeTypeId': None, 'documentAttributeTypeId': None, 'businessObjectAttributeTypeId': None, 'required': False, 'rank': 440, 'listId': None, 'properties': {}, 'autocomplete': None, 'autofocus': None, 'readonly': None, 'size': None, 'min': None, 'max': None, 'minDate': None, 'maxDate': None, 'minLength': None, 'maxLength': None, 'placeholderDpva': '', 'stepwise': None, 'aspectDisplayNames': {}, 'listelement': None, 'validationrule': None, 'aspect': ['SelfActive Erfassung', 'TouchActive Erfassung', 'Vertriebskennzeichen', 'CollActive Erfassung'], 'evaluation': [], 'externalcode': []}, {'attributeId': 23, 'productVariantAttributeId': 13144, 'name': 'Selbstbeteiligung 10% vom Kaufpreis', 'displayName': 'Selbstbeteiligung 10% vom Kaufpreis', 'displayDescription': '', 'catName': 'Vertragsdetails', 'catDisplayName': 'Vertragsdetails', 'catRank': 100, 'attributeCategoryId': 2, 'placeholder': None, 'description': '', 'type': 'Auswahl', 'typeId': -102010, 'value': 'true', 'inputField': False, 'hide': False, 'advanced': False, 'dynamicLoaderId': None, 'productVariantId': 3424, 'productName': 'HandySchutzbrief Basis Check24', 'personAttributeTypeId': None, 'documentAttributeTypeId': None, 'businessObjectAttributeTypeId': None, 'required': False, 'rank': 700, 'listId': None, 'properties': {}, 'autocomplete': None, 'autofocus': None, 'readonly': None, 'size': None, 'min': None, 'max': None, 'minDate': None, 'maxDate': None, 'minLength': None, 'maxLength': None, 'placeholderDpva': '', 'stepwise': None, 'aspectDisplayNames': {}, 'listelement': None, 'validationrule': None, 'aspect': ['SelfActive Erfassung', 'TouchActive Erfassung', 'Vertriebskennzeichen', 'Beitragsberechnung', 'CollActive Erfassung'], 'evaluation': [], 'externalcode': []}, {'attributeId': 20, 'productVariantAttributeId': 13210, 'name': 'Tägliche Kündigungsoption', 'displayName': 'Tägliche Kündigungsoption', 'displayDescription': '', 'catName': 'Vertragsdetails', 'catDisplayName': 'Vertragsdetails', 'catRank': 100, 'attributeCategoryId': 2, 'placeholder': None, 'description': '', 'type': 'Auswahl', 'typeId': -102010, 'value': 'true', 'inputField': False, 'hide': False, 'advanced': True, 'dynamicLoaderId': None, 'productVariantId': 3424, 'productName': 'HandySchutzbrief Basis Check24', 'personAttributeTypeId': None, 'documentAttributeTypeId': None, 'businessObjectAttributeTypeId': None, 'required': False, 'rank': 800, 'listId': None, 'properties': {}, 'autocomplete': None, 'autofocus': None, 'readonly': None, 'size': None, 'min': None, 'max': None, 'minDate': None, 'maxDate': None, 'minLength': None, 'maxLength': None, 'placeholderDpva': '', 'stepwise': None, 'aspectDisplayNames': {}, 'listelement': None, 'validationrule': None, 'aspect': ['SelfActive Erfassung', 'TouchActive Erfassung', 'Vertriebskennzeichen', 'CollActive Erfassung'], 'evaluation': [], 'externalcode': []}, {'attributeId': 397, 'productVariantAttributeId': 13213, 'name': 'Wartefrist Wochen', 'displayName': 'Wartefrist Wochen', 'displayDescription': 'Wird der Versicherungsvertrag für das versicherte Gerät erst nach dem Kaufdatum abgeschlossen, gilt eine Wartezeit von vier Wochen ab Abschluss des Versicherungsvertrages. Für vor oder während der Wartezeit eingetretene\\r\\nVersicherungsfälle besteht kein Versicherungsschutz.', 'catName': 'Vertragsdetails', 'catDisplayName': 'Vertragsdetails', 'catRank': 100, 'attributeCategoryId': 2, 'placeholder': None, 'description': 'Wird der Versicherungsvertrag für das versicherte Gerät erst nach dem Kaufdatum abgeschlossen, gilt eine Wartezeit von vier Wochen ab Abschluss des Versicherungsvertrages. Für vor oder während der Wartezeit eingetretene\\r\\nVersicherungsfälle besteht kein Versicherungsschutz.', 'type': 'Zahl', 'typeId': -102011, 'value': None, 'inputField': False, 'hide': True, 'advanced': True, 'dynamicLoaderId': None, 'productVariantId': 3424, 'productName': 'HandySchutzbrief Basis Check24', 'personAttributeTypeId': None, 'documentAttributeTypeId': None, 'businessObjectAttributeTypeId': None, 'required': False, 'rank': 10000, 'listId': None, 'properties': {}, 'autocomplete': None, 'autofocus': None, 'readonly': None, 'size': None, 'min': None, 'max': None, 'minDate': None, 'maxDate': None, 'minLength': None, 'maxLength': None, 'placeholderDpva': None, 'stepwise': None, 'aspectDisplayNames': {}, 'listelement': None, 'validationrule': None, 'aspect': ['SelfActive Erfassung'], 'evaluation': [], 'externalcode': []}, {'attributeId': 472, 'productVariantAttributeId': 13201, 'name': 'Wartefrist Wochen 2', 'displayName': 'Wartefrist (in Wochen) nach Gerätealter', 'displayDescription': 'Wird der Versicherungsvertrag für das versicherte Gerät erst nach dem Kaufdatum abgeschlossen, kannst du Dein Gerät kostenpflichtig und auf Dein eigenes Risiko zur Überprüfung an die Smartphoniker GmbH, Geräteprüfung Schutzgarant, Bahnhofstraße 30, 24223 Schwentinental einsenden, um das Gerät ohne Wartezeit zu versichern. Sobald die SCHUZTGARANT GmbH Schadenservice den mangelfreien Zustand bestätigt, verzichten wir auf die Wartezeit. Schickst Du Dein Gerät nicht zur Überprüfung ein gilt für Geräte mit einem Gerätealter bis 42 Tage keine Wartezeit, für Geräte mit einem Gerätealter bis 180 Tage eine Wartezeit von sechs Wochen ab Abschluss des Versicherungsvertrages. Für Geräte mit einem Gerätealter bis 360 Tage gilt eine Wartezeit von zwölf Wochen ab Abschluss des Versicherungsvertrages. Geräte, die älter als 360 Tage bei Abschluss des Versicherungsvertrages sind können nur mit Überprüfung versichert werden. Die Berechnung des Gerätealters erfolgt auf Grundlage des Kaufdatums des Gerätes, welches Du durch einen Kaufbeleg nachweisen musst. Für vor oder während der Wartezeit eingetretene Versicherungsfälle besteht kein Versicherungsschutz.', 'catName': 'Vertragsdetails', 'catDisplayName': 'Vertragsdetails', 'catRank': 100, 'attributeCategoryId': 2, 'placeholder': None, 'description': 'Wird der Versicherungsvertrag für das versicherte Gerät erst nach dem Kaufdatum abgeschlossen, kannst du Dein Gerät kostenpflichtig und auf Dein eigenes Risiko zur Überprüfung an die Smartphoniker GmbH, Geräteprüfung Schutzgarant, Bahnhofstraße 30, 24223 Schwentinental einsenden, um das Gerät ohne Wartezeit zu versichern. Sobald die SCHUZTGARANT GmbH Schadenservice den mangelfreien Zustand bestätigt, verzichten wir auf die Wartezeit. Schickst Du Dein Gerät nicht zur Überprüfung ein gilt für Geräte mit einem Gerätealter bis 42 Tage keine Wartezeit, für Geräte mit einem Gerätealter bis 180 Tage eine Wartezeit von sechs Wochen ab Abschluss des Versicherungsvertrages. Für Geräte mit einem Gerätealter bis 360 Tage gilt eine Wartezeit von zwölf Wochen ab Abschluss des Versicherungsvertrages. Geräte, die älter als 360 Tage bei Abschluss des Versicherungsvertrages sind können nur mit Überprüfung versichert werden. Die Berechnung des Gerätealters erfolgt auf Grundlage des Kaufdatums des Gerätes, welches Du durch einen Kaufbeleg nachweisen musst. Für vor oder während der Wartezeit eingetretene Versicherungsfälle besteht kein Versicherungsschutz.', 'type': 'Name-Wert', 'typeId': -102159, 'value': 'Tage[42]=0\\r\\nTage[180]=6\\r\\nTage[3000]=12', 'inputField': False, 'hide': True, 'advanced': False, 'dynamicLoaderId': None, 'productVariantId': 3424, 'productName': 'HandySchutzbrief Basis Check24', 'personAttributeTypeId': None, 'documentAttributeTypeId': None, 'businessObjectAttributeTypeId': None, 'required': False, 'rank': 10000, 'listId': None, 'properties': {}, 'autocomplete': None, 'autofocus': None, 'readonly': None, 'size': None, 'min': None, 'max': None, 'minDate': None, 'maxDate': None, 'minLength': None, 'maxLength': None, 'placeholderDpva': '', 'stepwise': None, 'aspectDisplayNames': {}, 'listelement': None, 'validationrule': None, 'aspect': ['SelfActive Erfassung', 'TouchActive Extra'], 'evaluation': [], 'externalcode': []}, {'attributeId': 544, 'productVariantAttributeId': 13216, 'name': 'Schutzbeginn', 'displayName': 'Schutzbeginn', 'displayDescription': '', 'catName': 'Vertragsdetails', 'catDisplayName': 'Vertragsdetails', 'catRank': 100, 'attributeCategoryId': 2, 'placeholder': None, 'description': '', 'type': 'Datum', 'typeId': -102012, 'value': None, 'inputField': False, 'hide': True, 'advanced': True, 'dynamicLoaderId': None, 'productVariantId': 3424, 'productName': 'HandySchutzbrief Basis Check24', 'personAttributeTypeId': None, 'documentAttributeTypeId': None, 'businessObjectAttributeTypeId': None, 'required': False, 'rank': 10000, 'listId': None, 'properties': {}, 'autocomplete': None, 'autofocus': None, 'readonly': None, 'size': None, 'min': None, 'max': None, 'minDate': None, 'maxDate': None, 'minLength': None, 'maxLength': None, 'placeholderDpva': None, 'stepwise': None, 'aspectDisplayNames': {}, 'listelement': None, 'validationrule': None, 'aspect': ['SelfActive Erfassung'], 'evaluation': [], 'externalcode': []}, {'attributeId': 367, 'productVariantAttributeId': 13180, 'name': 'Selbstbeteiligung', 'displayName': 'Selbstbeteiligung', 'displayDescription': '', 'catName': 'Vertragsdetails', 'catDisplayName': 'Vertragsdetails', 'catRank': 100, 'attributeCategoryId': 2, 'placeholder': None, 'description': '', 'type': 'Währung', 'typeId': -102160, 'value': '0.00', 'inputField': True, 'hide': True, 'advanced': True, 'dynamicLoaderId': None, 'productVariantId': 3424, 'productName': 'HandySchutzbrief Basis Check24', 'personAttributeTypeId': None, 'documentAttributeTypeId': None, 'businessObjectAttributeTypeId': None, 'required': False, 'rank': 10700, 'listId': None, 'properties': {}, 'autocomplete': None, 'autofocus': None, 'readonly': None, 'size': None, 'min': None, 'max': None, 'minDate': None, 'maxDate': None, 'minLength': None, 'maxLength': None, 'placeholderDpva': '', 'stepwise': None, 'aspectDisplayNames': {}, 'listelement': None, 'validationrule': [], 'aspect': ['TouchActive Extra', 'Beitragsberechnung', 'SelfActive Erfassung'], 'evaluation': [], 'externalcode': []}]}, {'name': 'Zahlungsinformationen', 'displayName': 'Zahlungsinformationen', 'rank': 200, 'expandable': False, 'collapse': None, 'header': '', 'footer': '', 'displayAttributeCategoryDtoMap': {'Beitragsberechnung': {'collapse': None, 'header': '', 'footer': ''}, 'SelfActive Erfassung': {'collapse': None, 'header': '', 'footer': ''}, 'Konfiguration': {'collapse': None, 'header': '', 'footer': ''}, 'TouchActive Erfassung': {'collapse': None, 'header': '', 'footer': ''}}, 'attribute': [{'attributeId': 376, 'productVariantAttributeId': 13186, 'name': 'Zahlungsart', 'displayName': 'Zahlungsart', 'displayDescription': '', 'catName': 'Zahlungsinformationen', 'catDisplayName': 'Zahlungsinformationen', 'catRank': 200, 'attributeCategoryId': 11, 'placeholder': None, 'description': '', 'type': 'Liste', 'typeId': -102014, 'value': 'Lastschrift', 'inputField': True, 'hide': True, 'advanced': False, 'dynamicLoaderId': None, 'productVariantId': 3424, 'productName': 'HandySchutzbrief Basis Check24', 'personAttributeTypeId': None, 'documentAttributeTypeId': None, 'businessObjectAttributeTypeId': None, 'required': False, 'rank': 100, 'listId': -59, 'properties': {}, 'autocomplete': None, 'autofocus': None, 'readonly': None, 'size': None, 'min': None, 'max': None, 'minDate': None, 'maxDate': None, 'minLength': None, 'maxLength': None, 'placeholderDpva': '', 'stepwise': None, 'aspectDisplayNames': {}, 'listelement': [{'listelementId': -5902, 'name': 'Lastschrift', 'description': None, 'availableFrom': None, 'availableTo': None, 'rank': 0, 'valid': True, 'externalcode': []}], 'validationrule': [{'regularExpression': '(Lastschrift)', 'min': None, 'max': None, 'expectedValidationResult': True, 'validationFailureMessage': 'Nur Lastschrift ist zulässig', 'validationFailureI18N': None, 'minDate': None, 'maxDate': None, 'stepwise': None, 'minLength': None, 'maxLength': None}], 'aspect': ['SelfActive Erfassung', 'TouchActive Erfassung', 'CollActive Erfassung'], 'evaluation': [], 'externalcode': []}, {'attributeId': 379, 'productVariantAttributeId': 13189, 'name': 'Zahlungsweise', 'displayName': 'Zahlungsweise', 'displayDescription': '', 'catName': 'Zahlungsinformationen', 'catDisplayName': 'Zahlungsinformationen', 'catRank': 200, 'attributeCategoryId': 11, 'placeholder': None, 'description': '', 'type': 'Liste', 'typeId': -102014, 'value': 'Jahresbeitrag', 'inputField': True, 'hide': True, 'advanced': False, 'dynamicLoaderId': None, 'productVariantId': 3424, 'productName': 'HandySchutzbrief Basis Check24', 'personAttributeTypeId': None, 'documentAttributeTypeId': None, 'businessObjectAttributeTypeId': None, 'required': False, 'rank': 200, 'listId': -51, 'properties': {}, 'autocomplete': None, 'autofocus': None, 'readonly': None, 'size': None, 'min': None, 'max': None, 'minDate': None, 'maxDate': None, 'minLength': None, 'maxLength': None, 'placeholderDpva': '', 'stepwise': None, 'aspectDisplayNames': {}, 'listelement': [{'listelementId': -5106, 'name': 'Jahresbeitrag', 'description': 'Der Beitrag ist ein Jahresbeitrag, also jährlich zu entrichten.', 'availableFrom': None, 'availableTo': None, 'rank': 70, 'valid': True, 'externalcode': []}], 'validationrule': [{'regularExpression': '^(Jahresbeitrag)$', 'min': None, 'max': None, 'expectedValidationResult': True, 'validationFailureMessage': 'Nur Jahresbeitrag ist zulässig', 'validationFailureI18N': None, 'minDate': None, 'maxDate': None, 'stepwise': None, 'minLength': None, 'maxLength': None}], 'aspect': ['SelfActive Erfassung', 'TouchActive Erfassung', 'CollActive Erfassung'], 'evaluation': [], 'externalcode': []}]}], 'subproduct': [{'productTreeRenderData': {'product': {'productId': 19, 'productVariantId': 3091, 'name': 'Kunde', 'description': 'Privatkunde V01', 'versionInfo': 'Privatkunde V01', 'displayName': 'Vertragsnehmer', 'tooltip': None, 'state': 'Entwurf', 'typeId': -2101, 'availableFrom': 1625104800000, 'availableTo': None, 'personSpecific': False, 'providerId': 4, 'providerName': 'SCHUTZGARANT', 'providerShortName': '', 'tag': [], 'tagrenderdata': None, 'rule': [], 'externalcode': []}, 'attributecategorie': [{'name': 'Personendaten', 'displayName': 'Personendaten', 'rank': 200, 'expandable': False, 'collapse': None, 'header': '', 'footer': '', 'displayAttributeCategoryDtoMap': {'TouchActive Kunde': {'collapse': None, 'header': '', 'footer': ''}, 'SelfActive Erfassung': {'collapse': None, 'header': '', 'footer': ''}, 'Eingabedaten': {'collapse': None, 'header': '', 'footer': ''}}, 'attribute': [{'attributeId': 34, 'productVariantAttributeId': 3751, 'name': 'Anrede (Person)', 'displayName': 'Anrede', 'displayDescription': '', 'catName': 'Personendaten', 'catDisplayName': 'Personendaten', 'catRank': 200, 'attributeCategoryId': 14, 'placeholder': None, 'description': '', 'type': 'Liste', 'typeId': -102014, 'value': None, 'inputField': True, 'hide': False, 'advanced': False, 'dynamicLoaderId': None, 'productVariantId': 3091, 'productName': 'Kunde', 'personAttributeTypeId': -2139095038, 'documentAttributeTypeId': None, 'businessObjectAttributeTypeId': None, 'required': True, 'rank': 100, 'listId': -2, 'properties': {'linebreak': 'true', 'addPleaseSelectItem': 'true'}, 'autocomplete': None, 'autofocus': None, 'readonly': None, 'size': None, 'min': None, 'max': None, 'minDate': None, 'maxDate': None, 'minLength': None, 'maxLength': None, 'placeholderDpva': '', 'stepwise': None, 'aspectDisplayNames': {}, 'listelement': [{'listelementId': -31, 'name': 'Herr', 'description': 'Anrede Herr', 'availableFrom': None, 'availableTo': None, 'rank': 2, 'valid': True, 'externalcode': []}, {'listelementId': -32, 'name': 'Frau', 'description': 'Anrede Frau', 'availableFrom': None, 'availableTo': None, 'rank': 3, 'valid': True, 'externalcode': []}, {'listelementId': -39, 'name': 'Divers', 'description': 'Anrede Divers', 'availableFrom': None, 'availableTo': None, 'rank': 9, 'valid': True, 'externalcode': []}], 'validationrule': [{'regularExpression': '(Herr|Frau|Divers)', 'min': None, 'max': None, 'expectedValidationResult': True, 'validationFailureMessage': 'Nur Herr, Frau oder Divers möglich', 'validationFailureI18N': None, 'minDate': None, 'maxDate': None, 'stepwise': None, 'minLength': None, 'maxLength': None}], 'aspect': ['SelfActive Erfassung', 'TouchActive Kunde'], 'evaluation': [], 'externalcode': []}, {'attributeId': 322, 'productVariantAttributeId': 3769, 'name': 'Vorname (Person)', 'displayName': 'Vorname', 'displayDescription': '', 'catName': 'Personendaten', 'catDisplayName': 'Personendaten', 'catRank': 200, 'attributeCategoryId': 14, 'placeholder': None, 'description': '', 'type': 'Text', 'typeId': -102009, 'value': '', 'inputField': True, 'hide': False, 'advanced': False, 'dynamicLoaderId': None, 'productVariantId': 3091, 'productName': 'Kunde', 'personAttributeTypeId': -2139095037, 'documentAttributeTypeId': None, 'businessObjectAttributeTypeId': None, 'required': False, 'rank': 150, 'listId': None, 'properties': {}, 'autocomplete': None, 'autofocus': None, 'readonly': None, 'size': None, 'min': None, 'max': None, 'minDate': None, 'maxDate': None, 'minLength': None, 'maxLength': None, 'placeholderDpva': '', 'stepwise': None, 'aspectDisplayNames': {}, 'listelement': None, 'validationrule': [], 'aspect': ['SelfActive Erfassung', 'TouchActive Kunde'], 'evaluation': [], 'externalcode': []}, {'attributeId': 31, 'productVariantAttributeId': 3748, 'name': 'Nachname (Person)', 'displayName': 'Nachname', 'displayDescription': '', 'catName': 'Personendaten', 'catDisplayName': 'Personendaten', 'catRank': 200, 'attributeCategoryId': 14, 'placeholder': None, 'description': '', 'type': 'Text', 'typeId': -102009, 'value': '', 'inputField': True, 'hide': False, 'advanced': False, 'dynamicLoaderId': None, 'productVariantId': 3091, 'productName': 'Kunde', 'personAttributeTypeId': -2139095036, 'documentAttributeTypeId': None, 'businessObjectAttributeTypeId': None, 'required': True, 'rank': 200, 'listId': None, 'properties': {}, 'autocomplete': None, 'autofocus': None, 'readonly': None, 'size': None, 'min': None, 'max': None, 'minDate': None, 'maxDate': None, 'minLength': None, 'maxLength': None, 'placeholderDpva': '', 'stepwise': None, 'aspectDisplayNames': {}, 'listelement': None, 'validationrule': [], 'aspect': ['SelfActive Erfassung', 'TouchActive Kunde'], 'evaluation': [], 'externalcode': []}, {'attributeId': 328, 'productVariantAttributeId': 3775, 'name': 'Geburtstag (Person)', 'displayName': 'Geburtstag', 'displayDescription': '', 'catName': 'Personendaten', 'catDisplayName': 'Personendaten', 'catRank': 200, 'attributeCategoryId': 14, 'placeholder': None, 'description': '', 'type': 'Datum', 'typeId': -102012, 'value': None, 'inputField': True, 'hide': False, 'advanced': False, 'dynamicLoaderId': None, 'productVariantId': 3091, 'productName': 'Kunde', 'personAttributeTypeId': -2139095035, 'documentAttributeTypeId': None, 'businessObjectAttributeTypeId': None, 'required': False, 'rank': 299, 'listId': None, 'properties': {}, 'autocomplete': None, 'autofocus': None, 'readonly': None, 'size': None, 'min': None, 'max': None, 'minDate': None, 'maxDate': '-18y', 'minLength': None, 'maxLength': None, 'placeholderDpva': '', 'stepwise': None, 'aspectDisplayNames': {}, 'listelement': None, 'validationrule': [{'regularExpression': '', 'min': None, 'max': None, 'expectedValidationResult': True, 'validationFailureMessage': 'Das Datum überschreitet das maximal zulässige Datum', 'validationFailureI18N': None, 'minDate': '', 'maxDate': '-18y', 'stepwise': None, 'minLength': None, 'maxLength': None}], 'aspect': ['SelfActive Erfassung', 'TouchActive Kunde'], 'evaluation': [], 'externalcode': []}, {'attributeId': 325, 'productVariantAttributeId': 3772, 'name': 'Privatanschrift (Privatanschrift)', 'displayName': 'Anschrift', 'displayDescription': '', 'catName': 'Personendaten', 'catDisplayName': 'Personendaten', 'catRank': 200, 'attributeCategoryId': 14, 'placeholder': None, 'description': '', 'type': 'Autocomplete Adresse', 'typeId': -102164, 'value': None, 'inputField': True, 'hide': False, 'advanced': False, 'dynamicLoaderId': None, 'productVariantId': 3091, 'productName': 'Kunde', 'personAttributeTypeId': -226492406, 'documentAttributeTypeId': None, 'businessObjectAttributeTypeId': None, 'required': True, 'rank': 300, 'listId': None, 'properties': {}, 'autocomplete': None, 'autofocus': None, 'readonly': None, 'size': None, 'min': None, 'max': None, 'minDate': None, 'maxDate': None, 'minLength': None, 'maxLength': None, 'placeholderDpva': '', 'stepwise': None, 'aspectDisplayNames': {}, 'listelement': None, 'validationrule': [], 'aspect': ['SelfActive Erfassung', 'TouchActive Kunde'], 'evaluation': [], 'externalcode': []}]}, {'name': 'Kontaktdaten', 'displayName': 'Kontaktdaten', 'rank': 400, 'expandable': False, 'collapse': None, 'header': '', 'footer': '', 'displayAttributeCategoryDtoMap': {'TouchActive Kunde': {'collapse': None, 'header': '', 'footer': ''}, 'SelfActive Erfassung': {'collapse': None, 'header': '', 'footer': ''}, 'Eingabedaten': {'collapse': None, 'header': '', 'footer': ''}, 'Vertragsvorlage': {'collapse': None, 'header': '', 'footer': ''}}, 'attribute': [{'attributeId': 49, 'productVariantAttributeId': 3754, 'name': 'E-Mail (Kontaktweg)', 'displayName': 'E-Mail', 'displayDescription': '', 'catName': 'Kontaktdaten', 'catDisplayName': 'Kontaktdaten', 'catRank': 400, 'attributeCategoryId': 20, 'placeholder': None, 'description': '', 'type': 'E-Mail', 'typeId': -102170, 'value': '', 'inputField': True, 'hide': False, 'advanced': False, 'dynamicLoaderId': None, 'productVariantId': 3091, 'productName': 'Kunde', 'personAttributeTypeId': -1870659561, 'documentAttributeTypeId': None, 'businessObjectAttributeTypeId': None, 'required': True, 'rank': 100, 'listId': None, 'properties': {'linebreak': 'true'}, 'autocomplete': None, 'autofocus': None, 'readonly': None, 'size': None, 'min': None, 'max': None, 'minDate': None, 'maxDate': None, 'minLength': None, 'maxLength': None, 'placeholderDpva': '', 'stepwise': None, 'aspectDisplayNames': {}, 'listelement': None, 'validationrule': [{'regularExpression': '^[^-\\\\~\\\\*\\\\s][\\\\wäÄöÖüÜ\\\\+\\\\-\\\\.]*@([\\\\w-]+\\\\.)+[\\\\w-]{2,}$', 'min': None, 'max': None, 'expectedValidationResult': True, 'validationFailureMessage': 'Ungültige E-Mail-Adresse', 'validationFailureI18N': None, 'minDate': None, 'maxDate': None, 'stepwise': None, 'minLength': None, 'maxLength': None}], 'aspect': ['SelfActive Erfassung', 'TouchActive Kunde', 'Vertragsvorlage'], 'evaluation': [], 'externalcode': []}, {'attributeId': 52, 'productVariantAttributeId': 3757, 'name': 'Telefon Festnetz (Kontaktweg)', 'displayName': 'Telefon 1', 'displayDescription': '', 'catName': 'Kontaktdaten', 'catDisplayName': 'Kontaktdaten', 'catRank': 400, 'attributeCategoryId': 20, 'placeholder': None, 'description': '', 'type': 'Telefon', 'typeId': -102171, 'value': '', 'inputField': True, 'hide': False, 'advanced': False, 'dynamicLoaderId': None, 'productVariantId': 3091, 'productName': 'Kunde', 'personAttributeTypeId': -1870659564, 'documentAttributeTypeId': None, 'businessObjectAttributeTypeId': None, 'required': True, 'rank': 200, 'listId': None, 'properties': {}, 'autocomplete': None, 'autofocus': None, 'readonly': None, 'size': None, 'min': None, 'max': None, 'minDate': None, 'maxDate': None, 'minLength': None, 'maxLength': None, 'placeholderDpva': '', 'stepwise': None, 'aspectDisplayNames': {}, 'listelement': None, 'validationrule': [], 'aspect': ['SelfActive Erfassung', 'TouchActive Kunde'], 'evaluation': [], 'externalcode': []}, {'attributeId': 55, 'productVariantAttributeId': 3760, 'name': 'Telefon Mobil (Kontaktweg)', 'displayName': 'Telefon 2', 'displayDescription': '', 'catName': 'Kontaktdaten', 'catDisplayName': 'Kontaktdaten', 'catRank': 400, 'attributeCategoryId': 20, 'placeholder': None, 'description': '', 'type': 'Telefon', 'typeId': -102171, 'value': '', 'inputField': True, 'hide': False, 'advanced': False, 'dynamicLoaderId': None, 'productVariantId': 3091, 'productName': 'Kunde', 'personAttributeTypeId': -1870659563, 'documentAttributeTypeId': None, 'businessObjectAttributeTypeId': None, 'required': False, 'rank': 300, 'listId': None, 'properties': {}, 'autocomplete': None, 'autofocus': None, 'readonly': None, 'size': None, 'min': None, 'max': None, 'minDate': None, 'maxDate': None, 'minLength': None, 'maxLength': None, 'placeholderDpva': '', 'stepwise': None, 'aspectDisplayNames': {}, 'listelement': None, 'validationrule': [], 'aspect': ['SelfActive Erfassung', 'TouchActive Kunde'], 'evaluation': [], 'externalcode': []}]}], 'subproduct': []}, 'mandatory': False, 'minCount': 1, 'maxCount': 1, 'bundleProductId': 4081, 'partProductVariantId': 3091, 'bundleProductVariantId': 3424, 'rank': 100}, {'productTreeRenderData': {'product': {'productId': 7, 'productVariantId': 3412, 'name': 'Versicherte Geräte', 'description': 'Versicherte Geräte von Privatkunden Check24 (Bruttopreis)', 'versionInfo': 'Versicherte Geräte von Privatkunden Check24 (Bruttopreis)', 'displayName': 'Versicherte Geräte', 'tooltip': None, 'state': 'Entwurf', 'typeId': -101002, 'availableFrom': 1675209600000, 'availableTo': None, 'personSpecific': False, 'providerId': 7, 'providerName': 'Anbieterübergreifende Bausteine', 'providerShortName': 'Allgemein', 'tag': [], 'tagrenderdata': None, 'rule': [], 'externalcode': []}, 'attributecategorie': [{'name': 'Allgemeine Kategorie', 'displayName': 'Allgemeine Kategorie', 'rank': 30, 'expandable': False, 'collapse': None, 'header': '', 'footer': '', 'displayAttributeCategoryDtoMap': {'Diebstahl': {'collapse': None, 'header': '', 'footer': ''}, 'SelfActive Erfassung': {'collapse': None, 'header': '', 'footer': ''}, 'Geräteimport': {'collapse': None, 'header': '', 'footer': ''}, 'Provisionierung': {'collapse': None, 'header': '', 'footer': ''}, 'Vertrag': {'collapse': None, 'header': '', 'footer': ''}, 'Vertragsvorlage': {'collapse': None, 'header': '', 'footer': ''}, 'Beitragsberechnung': {'collapse': None, 'header': '', 'footer': ''}, 'TouchActive Extra': {'collapse': None, 'header': '', 'footer': ''}, 'Schaden': {'collapse': None, 'header': '', 'footer': ''}, 'Vermittlermerkmale': {'collapse': None, 'header': '', 'footer': ''}, 'Eingabedaten': {'collapse': None, 'header': '', 'footer': ''}, 'Dokumentgenerierung': {'collapse': None, 'header': '', 'footer': ''}, 'TouchActive Erfassung': {'collapse': None, 'header': '', 'footer': ''}, 'Visuals': {'collapse': None, 'header': '', 'footer': ''}}, 'attribute': [{'attributeId': 22, 'productVariantAttributeId': 12802, 'name': 'selectionMarker', 'displayName': 'ausgewählt', 'displayDescription': '', 'catName': 'Allgemeine Kategorie', 'catDisplayName': 'Allgemeine Kategorie', 'catRank': 30, 'attributeCategoryId': -1, 'placeholder': None, 'description': '', 'type': 'Auswahl', 'typeId': -102010, 'value': 'true', 'inputField': True, 'hide': True, 'advanced': False, 'dynamicLoaderId': None, 'productVariantId': 3412, 'productName': 'Versicherte Geräte', 'personAttributeTypeId': None, 'documentAttributeTypeId': None, 'businessObjectAttributeTypeId': None, 'required': False, 'rank': 0, 'listId': None, 'properties': {}, 'autocomplete': None, 'autofocus': None, 'readonly': None, 'size': None, 'min': None, 'max': None, 'minDate': None, 'maxDate': None, 'minLength': None, 'maxLength': None, 'placeholderDpva': '', 'stepwise': None, 'aspectDisplayNames': {}, 'listelement': None, 'validationrule': [], 'aspect': ['SelfActive Erfassung', 'Beitragsberechnung', 'Vertragsvorlage', 'TouchActive Erfassung', 'CollActive Erfassung'], 'evaluation': [], 'externalcode': []}]}, {'name': 'Gerätedaten', 'displayName': 'Gerätedaten', 'rank': 500, 'expandable': False, 'collapse': None, 'header': '', 'footer': '', 'displayAttributeCategoryDtoMap': {'Beitragsberechnung': {'collapse': None, 'header': '', 'footer': ''}, 'SelfActive Erfassung': {'collapse': None, 'header': '', 'footer': ''}, 'CollActive Erfassung': {'collapse': None, 'header': None, 'footer': None}, 'Nacherfassung': {'collapse': None, 'header': '', 'footer': ''}, 'Vertragsvorlage': {'collapse': None, 'header': '', 'footer': ''}, 'TouchActive Erfassung': {'collapse': None, 'header': '', 'footer': ''}}, 'attribute': [{'attributeId': 604, 'productVariantAttributeId': 12832, 'name': 'IMEI-/Seriennummer unbekannt', 'displayName': 'Ich kenne meine IMEI-/Seriennummer noch nicht', 'displayDescription': 'Falls Sie das Gerät bestellt haben und noch auf die Zustellung warten, setzen Sie bitte diesen Haken.', 'catName': 'Gerätedaten', 'catDisplayName': 'Gerätedaten', 'catRank': 500, 'attributeCategoryId': 23, 'placeholder': None, 'description': 'Falls Sie das Gerät bestellt haben und noch auf die Zustellung warten, setzen Sie bitte diesen Haken.', 'type': 'Auswahl', 'typeId': -102010, 'value': 'false', 'inputField': True, 'hide': False, 'advanced': False, 'dynamicLoaderId': None, 'productVariantId': 3412, 'productName': 'Versicherte Geräte', 'personAttributeTypeId': None, 'documentAttributeTypeId': None, 'businessObjectAttributeTypeId': None, 'required': False, 'rank': 20, 'listId': None, 'properties': {}, 'autocomplete': None, 'autofocus': None, 'readonly': None, 'size': None, 'min': None, 'max': None, 'minDate': None, 'maxDate': None, 'minLength': None, 'maxLength': None, 'placeholderDpva': '', 'stepwise': None, 'aspectDisplayNames': {}, 'listelement': None, 'validationrule': [], 'aspect': ['TouchActive Erfassung', 'SelfActive Erfassung', 'CollActive Erfassung'], 'evaluation': [], 'externalcode': []}, {'attributeId': 67, 'productVariantAttributeId': 12820, 'name': 'IMEI-/Seriennummer', 'displayName': 'IMEI-/Seriennummer', 'displayDescription': '<h3 style=\"color: white;\">Wie finde ich die IMEI-Nummer an meinem Gerät?</h3>\\r\\n\\r\\n\\r\\n<h4>Allgemeiner Eingabe-Code:</h4>\\r\\n\\r\\nSie können die IMEI-Nummer auf Ihrem Handy anzeigen lassen. Dafür müssen Sie den folgenden Code als Rufnummer abtippen und auf wählen drücken:\\r\\n\\r\\nCode = *#06*.\\r\\n\\r\\nSollte das Gerät nicht funktionsfähig sein, gibt es folgende weitere Möglichkeiten:\\r\\n\\r\\n<h4>Rückseite des Geräts:</h4>\\r\\n\\r\\nSamsung\\r\\n\\r\\n<h4>Sim-Tray / Sim-Schlitten:</h4>\\r\\n\\r\\nApple / Huawei / OnePlus / Honor / HTC / LG / Sony*\\r\\n\\r\\n* hier befindet sich im Sim-Tray / Sim-Schlitten ein herausziehbarer Zettel, auf dem die IMEI-Nummer steht.\\r\\n\\r\\n<h4>CHECK24 Vertrag:</h4>\\r\\n\\r\\nIm Falle eines Check24 Vertrages in Verbindung mit einem Handy über das Check24 Mobilfunkportal, entnehmen Sie die Nummer aus den Vertragsunterlagen unter dem Punkt Seriennummer/IMEI.\\r\\n\\r\\n(Beispiel. : #HANV-12345678)\"\\r\\n\\r\\n\\r\\n<h3 style=\"color: white;\">Wie finde ich die Seriennummer an meinem Gerät?</h3>\\r\\n\\r\\n\\r\\n<h4>In den Einstellungen:</h4>\\r\\n\\r\\nIn den Geräteeinstellungen wird unter „Geräteinfo“ die Seriennummer angezeigt.\\r\\n\\r\\n<h4>Rückseite des Geräts:</h4>\\r\\n\\r\\nAuf den meisten Geräten befindet sich die Seriennummer auf der Rückseite\\r\\n\\r\\n\\r\\nBei weiteren Fragen können Sie sich gerne jederzeit unter folgender Rufnummer bei unserem Serviceteam melden: 0800 2666555-5', 'catName': 'Gerätedaten', 'catDisplayName': 'Gerätedaten', 'catRank': 500, 'attributeCategoryId': 23, 'placeholder': None, 'description': '<h3 style=\"color: white;\">Wie finde ich die IMEI-Nummer an meinem Gerät?</h3>\\r\\n\\r\\n\\r\\n<h4>Allgemeiner Eingabe-Code:</h4>\\r\\n\\r\\nSie können die IMEI-Nummer auf Ihrem Handy anzeigen lassen. Dafür müssen Sie den folgenden Code als Rufnummer abtippen und auf wählen drücken:\\r\\n\\r\\nCode = *#06*.\\r\\n\\r\\nSollte das Gerät nicht funktionsfähig sein, gibt es folgende weitere Möglichkeiten:\\r\\n\\r\\n<h4>Rückseite des Geräts:</h4>\\r\\n\\r\\nSamsung\\r\\n\\r\\n<h4>Sim-Tray / Sim-Schlitten:</h4>\\r\\n\\r\\nApple / Huawei / OnePlus / Honor / HTC / LG / Sony*\\r\\n\\r\\n* hier befindet sich im Sim-Tray / Sim-Schlitten ein herausziehbarer Zettel, auf dem die IMEI-Nummer steht.\\r\\n\\r\\n<h4>CHECK24 Vertrag:</h4>\\r\\n\\r\\nIm Falle eines Check24 Vertrages in Verbindung mit einem Handy über das Check24 Mobilfunkportal, entnehmen Sie die Nummer aus den Vertragsunterlagen unter dem Punkt Seriennummer/IMEI.\\r\\n\\r\\n(Beispiel. : #HANV-12345678)\"\\r\\n\\r\\n\\r\\n<h3 style=\"color: white;\">Wie finde ich die Seriennummer an meinem Gerät?</h3>\\r\\n\\r\\n\\r\\n<h4>In den Einstellungen:</h4>\\r\\n\\r\\nIn den Geräteeinstellungen wird unter „Geräteinfo“ die Seriennummer angezeigt.\\r\\n\\r\\n<h4>Rückseite des Geräts:</h4>\\r\\n\\r\\nAuf den meisten Geräten befindet sich die Seriennummer auf der Rückseite\\r\\n\\r\\n\\r\\nBei weiteren Fragen können Sie sich gerne jederzeit unter folgender Rufnummer bei unserem Serviceteam melden: 0800 2666555-5', 'type': 'Text', 'typeId': -102009, 'value': '', 'inputField': True, 'hide': False, 'advanced': False, 'dynamicLoaderId': None, 'productVariantId': 3412, 'productName': 'Versicherte Geräte', 'personAttributeTypeId': None, 'documentAttributeTypeId': None, 'businessObjectAttributeTypeId': None, 'required': False, 'rank': 40, 'listId': None, 'properties': {'REPLACE_REGEX': '[^a-zA-Z0-9]', 'optionalInputStyleClass': 'addClearFix', 'REMOVE_NONE_ALPHANUM': '[^a-zA-Z0-9]'}, 'autocomplete': None, 'autofocus': None, 'readonly': None, 'size': None, 'min': None, 'max': None, 'minDate': None, 'maxDate': None, 'minLength': None, 'maxLength': None, 'placeholderDpva': '', 'stepwise': None, 'aspectDisplayNames': {}, 'listelement': None, 'validationrule': [], 'aspect': ['SelfActive Erfassung', 'TouchActive Erfassung', 'Nacherfassung', 'CollActive Erfassung'], 'evaluation': [{'productVariantAttributeId': 12820, 'source': 12832, 'valueRegEx': 'false', 'groupName': '', 'required': True, 'display': True, 'validationRuleRegEx': ''}, {'productVariantAttributeId': 12820, 'source': 12832, 'valueRegEx': 'true', 'groupName': '', 'required': False, 'display': False, 'validationRuleRegEx': ''}], 'externalcode': []}, {'attributeId': 3730, 'productVariantAttributeId': 12841, 'name': 'Gerätepreis (Bereich)', 'displayName': 'Unsubventionierter Kaufpreis', 'displayDescription': 'Der unsubventionierte Kaufpreis ist der zum Kaufzeitpunkt gültige Marktpreis. Wenn das Gerät z.B. im Rahmen eines Mobilfunkvertrags erworben wurde, geben Sie bitte den tatsächlichen Wert des Gerätes zum Zeitpunkt des Kaufs an. Diesen finden Sie auf der Originalrechnung des Verkäufers.', 'catName': 'Gerätedaten', 'catDisplayName': 'Gerätedaten', 'catRank': 500, 'attributeCategoryId': 23, 'placeholder': None, 'description': 'Der unsubventionierte Kaufpreis ist der zum Kaufzeitpunkt gültige Marktpreis. Wenn das Gerät z.B. im Rahmen eines Mobilfunkvertrags erworben wurde, geben Sie bitte den tatsächlichen Wert des Gerätes zum Zeitpunkt des Kaufs an. Diesen finden Sie auf der Originalrechnung des Verkäufers.', 'type': 'Liste', 'typeId': -102014, 'value': '501 - 750 €', 'inputField': True, 'hide': False, 'advanced': False, 'dynamicLoaderId': None, 'productVariantId': 3412, 'productName': 'Versicherte Geräte', 'personAttributeTypeId': None, 'documentAttributeTypeId': None, 'businessObjectAttributeTypeId': None, 'required': True, 'rank': 60, 'listId': 43, 'properties': {}, 'autocomplete': False, 'autofocus': False, 'readonly': False, 'size': None, 'min': None, 'max': None, 'minDate': None, 'maxDate': None, 'minLength': None, 'maxLength': None, 'placeholderDpva': '', 'stepwise': None, 'aspectDisplayNames': {}, 'listelement': [{'listelementId': 500155, 'name': '0 - 250 €', 'description': None, 'availableFrom': None, 'availableTo': None, 'rank': 20, 'valid': True, 'externalcode': []}, {'listelementId': 500158, 'name': '251 - 500 €', 'description': None, 'availableFrom': None, 'availableTo': None, 'rank': 40, 'valid': True, 'externalcode': []}, {'listelementId': 500161, 'name': '501 - 750 €', 'description': None, 'availableFrom': None, 'availableTo': None, 'rank': 60, 'valid': True, 'externalcode': []}, {'listelementId': 500164, 'name': '751 - 1.000 €', 'description': None, 'availableFrom': None, 'availableTo': None, 'rank': 80, 'valid': True, 'externalcode': []}, {'listelementId': 500167, 'name': '1.001 - 1.250 €', 'description': None, 'availableFrom': None, 'availableTo': None, 'rank': 100, 'valid': True, 'externalcode': []}, {'listelementId': 500170, 'name': '1.251 - 1.500 €', 'description': None, 'availableFrom': None, 'availableTo': None, 'rank': 120, 'valid': True, 'externalcode': []}, {'listelementId': 500173, 'name': '1.501 - 1.750 €', 'description': None, 'availableFrom': None, 'availableTo': None, 'rank': 140, 'valid': True, 'externalcode': []}, {'listelementId': 500176, 'name': '1.751 - 2.000 €', 'description': None, 'availableFrom': None, 'availableTo': None, 'rank': 160, 'valid': True, 'externalcode': []}, {'listelementId': 500179, 'name': '2.001 - 2.500 €', 'description': None, 'availableFrom': None, 'availableTo': None, 'rank': 180, 'valid': True, 'externalcode': []}, {'listelementId': 500203, 'name': '2.501 - 3.000 €', 'description': None, 'availableFrom': None, 'availableTo': None, 'rank': 200, 'valid': True, 'externalcode': []}], 'validationrule': [], 'aspect': ['Vertragsvorlage', 'Beitragsberechnung', 'TouchActive Erfassung', 'SelfActive Erfassung', 'CollActive Erfassung'], 'evaluation': [], 'externalcode': []}, {'attributeId': 3733, 'productVariantAttributeId': 12844, 'name': 'Gerätealter', 'displayName': 'Gerätealter', 'displayDescription': 'Für die Berechnung des Gerätealters ist das Datum des Neukaufs relevant, welches auf dem Kaufbeleg ausgewiesen ist. Im Schadenfall wird dieses Datum überprüft.', 'catName': 'Gerätedaten', 'catDisplayName': 'Gerätedaten', 'catRank': 500, 'attributeCategoryId': 23, 'placeholder': None, 'description': 'Für die Berechnung des Gerätealters ist das Datum des Neukaufs relevant, welches auf dem Kaufbeleg ausgewiesen ist. Im Schadenfall wird dieses Datum überprüft.', 'type': 'Liste', 'typeId': -102014, 'value': 'bis 2 Wochen', 'inputField': True, 'hide': False, 'advanced': False, 'dynamicLoaderId': None, 'productVariantId': 3412, 'productName': 'Versicherte Geräte', 'personAttributeTypeId': None, 'documentAttributeTypeId': None, 'businessObjectAttributeTypeId': None, 'required': True, 'rank': 100, 'listId': 46, 'properties': {}, 'autocomplete': None, 'autofocus': None, 'readonly': None, 'size': None, 'min': None, 'max': None, 'minDate': None, 'maxDate': None, 'minLength': None, 'maxLength': None, 'placeholderDpva': '', 'stepwise': None, 'aspectDisplayNames': {}, 'listelement': [{'listelementId': 500182, 'name': 'bis 2 Wochen', 'description': None, 'availableFrom': None, 'availableTo': None, 'rank': 20, 'valid': True, 'externalcode': [{'externalCodeId': 286, 'value': '0', 'aspect': 'SelfActive Erfassung', 'aspectId': 14419}]}, {'listelementId': 500185, 'name': '2 Wochen bis 6 Wochen', 'description': None, 'availableFrom': None, 'availableTo': None, 'rank': 40, 'valid': True, 'externalcode': [{'externalCodeId': 289, 'value': '14', 'aspect': 'SelfActive Erfassung', 'aspectId': 14419}]}, {'listelementId': 500188, 'name': '6 Wochen bis halbes Jahr', 'description': None, 'availableFrom': None, 'availableTo': None, 'rank': 60, 'valid': True, 'externalcode': [{'externalCodeId': 292, 'value': '42', 'aspect': 'SelfActive Erfassung', 'aspectId': 14419}]}, {'listelementId': 500191, 'name': 'halbes Jahr bis 1 Jahr', 'description': None, 'availableFrom': None, 'availableTo': None, 'rank': 80, 'valid': True, 'externalcode': [{'externalCodeId': 295, 'value': '182', 'aspect': 'SelfActive Erfassung', 'aspectId': 14419}]}, {'listelementId': 500194, 'name': '1 Jahr bis 2 Jahre', 'description': None, 'availableFrom': None, 'availableTo': None, 'rank': 100, 'valid': True, 'externalcode': [{'externalCodeId': 298, 'value': '365', 'aspect': 'SelfActive Erfassung', 'aspectId': 14419}]}, {'listelementId': 500197, 'name': 'älter als 2 Jahre', 'description': None, 'availableFrom': None, 'availableTo': None, 'rank': 120, 'valid': True, 'externalcode': [{'externalCodeId': 301, 'value': '730', 'aspect': 'SelfActive Erfassung', 'aspectId': 14419}]}], 'validationrule': [], 'aspect': ['TouchActive Erfassung', 'SelfActive Erfassung', 'CollActive Erfassung'], 'evaluation': [], 'externalcode': []}, {'attributeId': 70, 'productVariantAttributeId': 12811, 'name': 'Hersteller', 'displayName': 'Hersteller', 'displayDescription': 'Wählen Sie hier den gewünschten Hersteller aus, sollte der gewünschte Hersteller nicht aufgelistet sein, wählen Sie bitte hier „Sonstige“ aus. Es öffnet sich automatisch ein weiteres Feld mit „Herstellername“. Geben Sie diesen bitte hier mit an.\\r\\n', 'catName': 'Gerätedaten', 'catDisplayName': 'Gerätedaten', 'catRank': 500, 'attributeCategoryId': 23, 'placeholder': None, 'description': 'Wählen Sie hier den gewünschten Hersteller aus, sollte der gewünschte Hersteller nicht aufgelistet sein, wählen Sie bitte hier „Sonstige“ aus. Es öffnet sich automatisch ein weiteres Feld mit „Herstellername“. Geben Sie diesen bitte hier mit an.\\r\\n', 'type': 'Liste', 'typeId': -102014, 'value': None, 'inputField': True, 'hide': False, 'advanced': False, 'dynamicLoaderId': None, 'productVariantId': 3412, 'productName': 'Versicherte Geräte', 'personAttributeTypeId': None, 'documentAttributeTypeId': None, 'businessObjectAttributeTypeId': None, 'required': True, 'rank': 500, 'listId': 10, 'properties': {}, 'autocomplete': None, 'autofocus': None, 'readonly': None, 'size': None, 'min': None, 'max': None, 'minDate': None, 'maxDate': None, 'minLength': None, 'maxLength': None, 'placeholderDpva': '', 'stepwise': None, 'aspectDisplayNames': {}, 'listelement': [{'listelementId': 300043, 'name': 'Samsung', 'description': None, 'availableFrom': None, 'availableTo': None, 'rank': 10, 'valid': True, 'externalcode': []}, {'listelementId': 300046, 'name': 'Apple', 'description': None, 'availableFrom': None, 'availableTo': None, 'rank': 20, 'valid': True, 'externalcode': []}, {'listelementId': 300049, 'name': 'Huawei', 'description': None, 'availableFrom': None, 'availableTo': None, 'rank': 30, 'valid': True, 'externalcode': []}, {'listelementId': 300052, 'name': 'Xiaomi', 'description': None, 'availableFrom': None, 'availableTo': None, 'rank': 40, 'valid': True, 'externalcode': []}, {'listelementId': 300112, 'name': 'Acer', 'description': None, 'availableFrom': None, 'availableTo': None, 'rank': 100, 'valid': True, 'externalcode': []}, {'listelementId': 300300, 'name': 'AEG', 'description': None, 'availableFrom': None, 'availableTo': None, 'rank': 200, 'valid': True, 'externalcode': []}, {'listelementId': 500098, 'name': 'Alcatel', 'description': None, 'availableFrom': None, 'availableTo': None, 'rank': 300, 'valid': True, 'externalcode': []}, {'listelementId': 500101, 'name': 'Allview', 'description': None, 'availableFrom': None, 'availableTo': None, 'rank': 400, 'valid': True, 'externalcode': []}, {'listelementId': 300302, 'name': 'Amica', 'description': None, 'availableFrom': None, 'availableTo': None, 'rank': 500, 'valid': True, 'externalcode': []}, {'listelementId': 500104, 'name': 'Asus', 'description': None, 'availableFrom': None, 'availableTo': None, 'rank': 700, 'valid': True, 'externalcode': []}, {'listelementId': 300304, 'name': 'ATAG', 'description': None, 'availableFrom': None, 'availableTo': None, 'rank': 800, 'valid': True, 'externalcode': []}, {'listelementId': 300306, 'name': 'Bauknecht', 'description': None, 'availableFrom': None, 'availableTo': None, 'rank': 900, 'valid': True, 'externalcode': []}, {'listelementId': 300308, 'name': 'BEKO', 'description': None, 'availableFrom': None, 'availableTo': None, 'rank': 1000, 'valid': True, 'externalcode': []}, {'listelementId': 500107, 'name': 'Blackberry', 'description': None, 'availableFrom': None, 'availableTo': None, 'rank': 1100, 'valid': True, 'externalcode': []}, {'listelementId': 300310, 'name': 'Blomberg', 'description': None, 'availableFrom': None, 'availableTo': None, 'rank': 1200, 'valid': True, 'externalcode': []}, {'listelementId': 300312, 'name': 'Bomann', 'description': None, 'availableFrom': None, 'availableTo': None, 'rank': 1300, 'valid': True, 'externalcode': []}, {'listelementId': 300314, 'name': 'Bosch (BSH)', 'description': None, 'availableFrom': None, 'availableTo': None, 'rank': 1400, 'valid': True, 'externalcode': []}, {'listelementId': 300316, 'name': 'Candy', 'description': None, 'availableFrom': None, 'availableTo': None, 'rank': 1500, 'valid': True, 'externalcode': []}, {'listelementId': 300200, 'name': 'Canon', 'description': None, 'availableFrom': None, 'availableTo': None, 'rank': 1600, 'valid': True, 'externalcode': []}, {'listelementId': 300115, 'name': 'CAT', 'description': None, 'availableFrom': None, 'availableTo': None, 'rank': 1700, 'valid': True, 'externalcode': []}, {'listelementId': 500110, 'name': 'Caterpillar', 'description': None, 'availableFrom': None, 'availableTo': None, 'rank': 1800, 'valid': True, 'externalcode': []}, {'listelementId': 300318, 'name': 'Clatronic', 'description': None, 'availableFrom': None, 'availableTo': None, 'rank': 1900, 'valid': True, 'externalcode': []}, {'listelementId': 300320, 'name': 'Constructa', 'description': None, 'availableFrom': None, 'availableTo': None, 'rank': 2000, 'valid': True, 'externalcode': []}, {'listelementId': 500113, 'name': 'Cubot', 'description': None, 'availableFrom': None, 'availableTo': None, 'rank': 2100, 'valid': True, 'externalcode': []}, {'listelementId': 300118, 'name': 'DELL', 'description': None, 'availableFrom': None, 'availableTo': None, 'rank': 2200, 'valid': True, 'externalcode': []}, {'listelementId': 500116, 'name': 'Doro', 'description': None, 'availableFrom': None, 'availableTo': None, 'rank': 2300, 'valid': True, 'externalcode': []}, {'listelementId': 300322, 'name': 'Electrolux', 'description': None, 'availableFrom': None, 'availableTo': None, 'rank': 2400, 'valid': True, 'externalcode': []}, {'listelementId': 300324, 'name': 'Elektra Bregenz', 'description': None, 'availableFrom': None, 'availableTo': None, 'rank': 2500, 'valid': True, 'externalcode': []}, {'listelementId': 300064, 'name': 'Epson', 'description': None, 'availableFrom': None, 'availableTo': None, 'rank': 2600, 'valid': True, 'externalcode': []}, {'listelementId': 300326, 'name': 'Exquisit', 'description': None, 'availableFrom': None, 'availableTo': None, 'rank': 2700, 'valid': True, 'externalcode': []}, {'listelementId': 300328, 'name': 'Fagor', 'description': None, 'availableFrom': None, 'availableTo': None, 'rank': 2800, 'valid': True, 'externalcode': []}, {'listelementId': 500119, 'name': 'Fairphone', 'description': None, 'availableFrom': None, 'availableTo': None, 'rank': 2900, 'valid': True, 'externalcode': []}, {'listelementId': 300206, 'name': 'Fujifilm', 'description': None, 'availableFrom': None, 'availableTo': None, 'rank': 3000, 'valid': True, 'externalcode': []}, {'listelementId': 300121, 'name': 'Fujitsu', 'description': None, 'availableFrom': None, 'availableTo': None, 'rank': 3100, 'valid': True, 'externalcode': []}, {'listelementId': 300330, 'name': 'Gaggenau', 'description': None, 'availableFrom': None, 'availableTo': None, 'rank': 3200, 'valid': True, 'externalcode': []}, {'listelementId': 300124, 'name': 'Gigaset', 'description': None, 'availableFrom': None, 'availableTo': None, 'rank': 3300, 'valid': True, 'externalcode': []}, {'listelementId': 500092, 'name': 'Google', 'description': None, 'availableFrom': None, 'availableTo': None, 'rank': 3400, 'valid': True, 'externalcode': []}, {'listelementId': 300208, 'name': 'GoPro', 'description': None, 'availableFrom': None, 'availableTo': None, 'rank': 3500, 'valid': True, 'externalcode': []}, {'listelementId': 300332, 'name': 'Gorenje', 'description': None, 'availableFrom': None, 'availableTo': None, 'rank': 3600, 'valid': True, 'externalcode': []}, {'listelementId': 300334, 'name': 'Grundig', 'description': None, 'availableFrom': None, 'availableTo': None, 'rank': 3700, 'valid': True, 'externalcode': []}, {'listelementId': 300336, 'name': 'Haier', 'description': None, 'availableFrom': None, 'availableTo': None, 'rank': 3800, 'valid': True, 'externalcode': []}, {'listelementId': 300061, 'name': 'Hewlett Packard/HP', 'description': None, 'availableFrom': None, 'availableTo': None, 'rank': 3900, 'valid': True, 'externalcode': []}, {'listelementId': 500122, 'name': 'Honor', 'description': None, 'availableFrom': None, 'availableTo': None, 'rank': 4000, 'valid': True, 'externalcode': []}, {'listelementId': 300338, 'name': 'Hoover', 'description': None, 'availableFrom': None, 'availableTo': None, 'rank': 4100, 'valid': True, 'externalcode': []}, {'listelementId': 500095, 'name': 'HTC', 'description': None, 'availableFrom': None, 'availableTo': None, 'rank': 4200, 'valid': True, 'externalcode': []}, {'listelementId': 300340, 'name': 'Ignis', 'description': None, 'availableFrom': None, 'availableTo': None, 'rank': 4400, 'valid': True, 'externalcode': []}, {'listelementId': 300344, 'name': 'Ikea', 'description': None, 'availableFrom': None, 'availableTo': None, 'rank': 4500, 'valid': True, 'externalcode': []}, {'listelementId': 300342, 'name': 'Indesit', 'description': None, 'availableFrom': None, 'availableTo': None, 'rank': 4600, 'valid': True, 'externalcode': []}, {'listelementId': 300346, 'name': 'ISY', 'description': None, 'availableFrom': None, 'availableTo': None, 'rank': 4700, 'valid': True, 'externalcode': []}, {'listelementId': 300348, 'name': 'Juno', 'description': None, 'availableFrom': None, 'availableTo': None, 'rank': 4800, 'valid': True, 'externalcode': []}, {'listelementId': 300350, 'name': 'Koenic', 'description': None, 'availableFrom': None, 'availableTo': None, 'rank': 4900, 'valid': True, 'externalcode': []}, {'listelementId': 300352, 'name': 'Körting', 'description': None, 'availableFrom': None, 'availableTo': None, 'rank': 5000, 'valid': True, 'externalcode': []}, {'listelementId': 300354, 'name': 'Küppersbusch', 'description': None, 'availableFrom': None, 'availableTo': None, 'rank': 5100, 'valid': True, 'externalcode': []}, {'listelementId': 300210, 'name': 'Leica', 'description': None, 'availableFrom': None, 'availableTo': None, 'rank': 5200, 'valid': True, 'externalcode': []}, {'listelementId': 300058, 'name': 'Lenovo', 'description': None, 'availableFrom': None, 'availableTo': None, 'rank': 5300, 'valid': True, 'externalcode': []}, {'listelementId': 300055, 'name': 'LG', 'description': None, 'availableFrom': None, 'availableTo': None, 'rank': 5400, 'valid': True, 'externalcode': []}, {'listelementId': 300356, 'name': 'Liebherr', 'description': None, 'availableFrom': None, 'availableTo': None, 'rank': 5500, 'valid': True, 'externalcode': []}, {'listelementId': 300127, 'name': 'Microsoft', 'description': None, 'availableFrom': None, 'availableTo': None, 'rank': 5600, 'valid': True, 'externalcode': []}, {'listelementId': 300358, 'name': 'Miele', 'description': None, 'availableFrom': None, 'availableTo': None, 'rank': 5700, 'valid': True, 'externalcode': []}, {'listelementId': 500125, 'name': 'Motorola', 'description': None, 'availableFrom': None, 'availableTo': None, 'rank': 5800, 'valid': True, 'externalcode': []}, {'listelementId': 300360, 'name': 'Neff', 'description': None, 'availableFrom': None, 'availableTo': None, 'rank': 5900, 'valid': True, 'externalcode': []}, {'listelementId': 300202, 'name': 'Nikon', 'description': None, 'availableFrom': None, 'availableTo': None, 'rank': 6000, 'valid': True, 'externalcode': []}, {'listelementId': 300130, 'name': 'Nokia', 'description': None, 'availableFrom': None, 'availableTo': None, 'rank': 6100, 'valid': True, 'externalcode': []}, {'listelementId': 300362, 'name': 'ok', 'description': None, 'availableFrom': None, 'availableTo': None, 'rank': 6200, 'valid': True, 'externalcode': []}, {'listelementId': 300204, 'name': 'Olympus', 'description': None, 'availableFrom': None, 'availableTo': None, 'rank': 6300, 'valid': True, 'externalcode': []}, {'listelementId': 500128, 'name': 'OnePlus', 'description': None, 'availableFrom': None, 'availableTo': None, 'rank': 6400, 'valid': True, 'externalcode': []}, {'listelementId': 300140, 'name': 'OPPO', 'description': None, 'availableFrom': None, 'availableTo': None, 'rank': 6500, 'valid': True, 'externalcode': []}, {'listelementId': 300364, 'name': 'Oranier', 'description': None, 'availableFrom': None, 'availableTo': None, 'rank': 6600, 'valid': True, 'externalcode': []}, {'listelementId': 300133, 'name': 'Panasonic', 'description': None, 'availableFrom': None, 'availableTo': None, 'rank': 6700, 'valid': True, 'externalcode': []}, {'listelementId': 300366, 'name': 'PEAQ', 'description': None, 'availableFrom': None, 'availableTo': None, 'rank': 6800, 'valid': True, 'externalcode': []}, {'listelementId': 300368, 'name': 'Privileg', 'description': None, 'availableFrom': None, 'availableTo': None, 'rank': 6900, 'valid': True, 'externalcode': []}, {'listelementId': 300370, 'name': 'Progress', 'description': None, 'availableFrom': None, 'availableTo': None, 'rank': 7000, 'valid': True, 'externalcode': []}, {'listelementId': 300372, 'name': 'Schaub Lorenz', 'description': None, 'availableFrom': None, 'availableTo': None, 'rank': 7200, 'valid': True, 'externalcode': []}, {'listelementId': 300374, 'name': 'Sharp', 'description': None, 'availableFrom': None, 'availableTo': None, 'rank': 7300, 'valid': True, 'externalcode': []}, {'listelementId': 300376, 'name': 'Sibir', 'description': None, 'availableFrom': None, 'availableTo': None, 'rank': 7400, 'valid': True, 'externalcode': []}, {'listelementId': 300378, 'name': 'Siemens', 'description': None, 'availableFrom': None, 'availableTo': None, 'rank': 7500, 'valid': True, 'externalcode': []}, {'listelementId': 300380, 'name': 'Smeg', 'description': None, 'availableFrom': None, 'availableTo': None, 'rank': 7600, 'valid': True, 'externalcode': []}, {'listelementId': 300136, 'name': 'Sony', 'description': None, 'availableFrom': None, 'availableTo': None, 'rank': 7800, 'valid': True, 'externalcode': []}, {'listelementId': 300382, 'name': 'Teka', 'description': None, 'availableFrom': None, 'availableTo': None, 'rank': 7900, 'valid': True, 'externalcode': []}, {'listelementId': 300384, 'name': 'Termikel', 'description': None, 'availableFrom': None, 'availableTo': None, 'rank': 8000, 'valid': True, 'externalcode': []}, {'listelementId': 300141, 'name': 'UleFone', 'description': None, 'availableFrom': None, 'availableTo': None, 'rank': 8100, 'valid': True, 'externalcode': []}, {'listelementId': 300142, 'name': 'Vivo', 'description': None, 'availableFrom': None, 'availableTo': None, 'rank': 8200, 'valid': True, 'externalcode': []}, {'listelementId': 300386, 'name': 'Whirlpool', 'description': None, 'availableFrom': None, 'availableTo': None, 'rank': 8300, 'valid': True, 'externalcode': []}, {'listelementId': 300143, 'name': 'Wiko', 'description': None, 'availableFrom': None, 'availableTo': None, 'rank': 8400, 'valid': True, 'externalcode': []}, {'listelementId': 300388, 'name': 'Zanker', 'description': None, 'availableFrom': None, 'availableTo': None, 'rank': 8600, 'valid': True, 'externalcode': []}, {'listelementId': 300390, 'name': 'Zanussi', 'description': None, 'availableFrom': None, 'availableTo': None, 'rank': 8700, 'valid': True, 'externalcode': []}, {'listelementId': 500131, 'name': 'ZTE', 'description': None, 'availableFrom': None, 'availableTo': None, 'rank': 8800, 'valid': True, 'externalcode': []}, {'listelementId': 300067, 'name': 'Sonstige', 'description': None, 'availableFrom': None, 'availableTo': None, 'rank': 999999, 'valid': True, 'externalcode': []}], 'validationrule': [], 'aspect': ['SelfActive Erfassung', 'TouchActive Erfassung', 'CollActive Erfassung'], 'evaluation': [], 'externalcode': []}, {'attributeId': 217, 'productVariantAttributeId': 12817, 'name': 'Herstellername', 'displayName': 'Herstellername', 'displayDescription': '', 'catName': 'Gerätedaten', 'catDisplayName': 'Gerätedaten', 'catRank': 500, 'attributeCategoryId': 23, 'placeholder': None, 'description': '', 'type': 'Text', 'typeId': -102009, 'value': '', 'inputField': True, 'hide': False, 'advanced': False, 'dynamicLoaderId': None, 'productVariantId': 3412, 'productName': 'Versicherte Geräte', 'personAttributeTypeId': None, 'documentAttributeTypeId': None, 'businessObjectAttributeTypeId': None, 'required': False, 'rank': 510, 'listId': None, 'properties': {}, 'autocomplete': None, 'autofocus': None, 'readonly': None, 'size': None, 'min': None, 'max': None, 'minDate': None, 'maxDate': None, 'minLength': None, 'maxLength': None, 'placeholderDpva': '', 'stepwise': None, 'aspectDisplayNames': {}, 'listelement': None, 'validationrule': [], 'aspect': ['SelfActive Erfassung', 'TouchActive Erfassung', 'CollActive Erfassung'], 'evaluation': [{'productVariantAttributeId': 12817, 'source': 12811, 'valueRegEx': '(Sonstige|300067)', 'groupName': '', 'required': True, 'display': True, 'validationRuleRegEx': None}], 'externalcode': []}, {'attributeId': 130, 'productVariantAttributeId': 12814, 'name': 'Modell', 'displayName': 'Modell', 'displayDescription': 'Geben Sie hier bitte das Modell / Bezeichnung des Gerätes mit an.', 'catName': 'Gerätedaten', 'catDisplayName': 'Gerätedaten', 'catRank': 500, 'attributeCategoryId': 23, 'placeholder': None, 'description': 'Geben Sie hier bitte das Modell / Bezeichnung des Gerätes mit an.', 'type': 'Text', 'typeId': -102009, 'value': '', 'inputField': True, 'hide': False, 'advanced': False, 'dynamicLoaderId': None, 'productVariantId': 3412, 'productName': 'Versicherte Geräte', 'personAttributeTypeId': None, 'documentAttributeTypeId': None, 'businessObjectAttributeTypeId': None, 'required': True, 'rank': 600, 'listId': None, 'properties': {}, 'autocomplete': None, 'autofocus': None, 'readonly': None, 'size': None, 'min': None, 'max': None, 'minDate': None, 'maxDate': None, 'minLength': None, 'maxLength': None, 'placeholderDpva': '', 'stepwise': None, 'aspectDisplayNames': {}, 'listelement': None, 'validationrule': [{'regularExpression': '.{0,40}', 'min': None, 'max': None, 'expectedValidationResult': True, 'validationFailureMessage': 'Der Modellname darf nicht länger als 40 Zeichen sein.', 'validationFailureI18N': None, 'minDate': None, 'maxDate': None, 'stepwise': None, 'minLength': None, 'maxLength': None}], 'aspect': ['SelfActive Erfassung', 'TouchActive Erfassung', 'CollActive Erfassung'], 'evaluation': [], 'externalcode': []}, {'attributeId': 16, 'productVariantAttributeId': 12823, 'name': 'Herstellergarantie (Monate)', 'displayName': 'Herstellergarantie (Monate)', 'displayDescription': 'Geben Sie hier bitte die Hersteller Garantielaufzeitzeit ein, die Sie beim Kauf des Gerätes erhalten haben (Mindestens 12 Monate).\\r\\n', 'catName': 'Gerätedaten', 'catDisplayName': 'Gerätedaten', 'catRank': 500, 'attributeCategoryId': 23, 'placeholder': None, 'description': 'Geben Sie hier bitte die Hersteller Garantielaufzeitzeit ein, die Sie beim Kauf des Gerätes erhalten haben (Mindestens 12 Monate).\\r\\n', 'type': 'Zahl', 'typeId': -102011, 'value': '24', 'inputField': True, 'hide': False, 'advanced': False, 'dynamicLoaderId': None, 'productVariantId': 3412, 'productName': 'Versicherte Geräte', 'personAttributeTypeId': None, 'documentAttributeTypeId': None, 'businessObjectAttributeTypeId': None, 'required': True, 'rank': 700, 'listId': None, 'properties': {}, 'autocomplete': None, 'autofocus': None, 'readonly': None, 'size': None, 'min': None, 'max': None, 'minDate': None, 'maxDate': None, 'minLength': None, 'maxLength': None, 'placeholderDpva': '', 'stepwise': None, 'aspectDisplayNames': {}, 'listelement': None, 'validationrule': [], 'aspect': ['SelfActive Erfassung'], 'evaluation': [], 'externalcode': []}]}], 'subproduct': []}, 'mandatory': False, 'minCount': 1, 'maxCount': 1, 'bundleProductId': 4093, 'partProductVariantId': 3412, 'bundleProductVariantId': 3424, 'rank': 200}]}\n"
     ]
    }
   ],
   "source": [
    "# retrieve product data from intervista backend\n",
    "from httpx import AsyncClient\n",
    "\n",
    "base = os.getenv(\"INTERVISTA_URL\")\n",
    "path = os.getenv(\"INTERVISTA_PATH\")\n",
    "user = os.getenv(\"INTERVISTA_USER\")\n",
    "pwd = os.getenv(\"INTERVISTA_PWD\")\n",
    "\n",
    "# id = 64\n",
    "# id = 3415\n",
    "id = 3424\n",
    "# id = 3436\n",
    "# id = 3448\n",
    "# id = 3571\n",
    "# id = 3610\n",
    "\n",
    "async with AsyncClient(auth=(user, pwd)) as client:\n",
    "    response = await client.get(f\"{base}{id}{path}\")\n",
    "    raw_data = response.json()[\"result\"][0]\n",
    "\n",
    "print(raw_data)"
   ]
  },
  {
   "cell_type": "code",
   "execution_count": 31,
   "metadata": {},
   "outputs": [],
   "source": [
    "from pydantic import (\n",
    "    Field,\n",
    "    constr,\n",
    "    create_model\n",
    ")\n",
    "from typing import Optional, Literal\n",
    "\n",
    "# create function to retrieve attributes\n",
    "def _extract_attribute_fields(model_name: str, raw_data: str):\n",
    "    fields = {}\n",
    "    attributes = [\n",
    "        attr for cat in raw_data[\"attributecategorie\"] for attr in cat[\"attribute\"]\n",
    "    ]\n",
    "\n",
    "    for attr in attributes:\n",
    "        if not (attr.get(\"inputField\") is True and attr.get(\"hide\") is False):\n",
    "            continue\n",
    "\n",
    "        # Valid Python field name\n",
    "        field_name = f'attribute_{attr[\"attributeId\"]}'\n",
    "\n",
    "        title = attr.get(\"displayName\", \"\")\n",
    "        description = \"\"\n",
    "        attr_type = attr.get(\"type\")\n",
    "        required = attr.get(\"required\", False)\n",
    "        default = attr.get(\"value\", None)\n",
    "\n",
    "        # Choose field type and constraints\n",
    "        if attr_type == \"Liste\":\n",
    "            allowed = tuple(val[\"name\"] for val in attr.get(\"listelement\", []))\n",
    "            field_type = Literal[allowed] if allowed else str\n",
    "            description += f\" (allowed: {', '.join(allowed)})\"\n",
    "        elif attr_type == \"Zahl\":\n",
    "            field_type = int\n",
    "            try:\n",
    "                if default is not None:\n",
    "                    default = int(default)\n",
    "            except:\n",
    "                pass\n",
    "            description += \" (must be integer)\"\n",
    "        elif attr_type == \"Datum\":\n",
    "            field_type = constr(pattern=r\"^\\d{4}-\\d{2}-\\d{2}$\")\n",
    "            description += \" (YYYY-MM-DD)\"\n",
    "        elif attr_type == \"Text\":\n",
    "            field_type = str\n",
    "        elif attr_type == \"Auswahl\":\n",
    "            field_type = bool\n",
    "            try:\n",
    "                if default is not None and isinstance(default, str):\n",
    "                    default = default.lower() == \"true\"\n",
    "            except:\n",
    "                pass\n",
    "        else:\n",
    "            field_type = str\n",
    "\n",
    "        if not required:\n",
    "            field_type = Optional[field_type]\n",
    "            # Default to None if not set\n",
    "            default = default if default is not None else None\n",
    "        else:\n",
    "            default = default if default is not None else ...\n",
    "\n",
    "        fields[field_name] = (\n",
    "            field_type,\n",
    "            Field(title=title, description=description, default=default),\n",
    "        )\n",
    "    return create_model(model_name, **fields)"
   ]
  },
  {
   "cell_type": "code",
   "execution_count": 39,
   "metadata": {},
   "outputs": [
    {
     "name": "stdout",
     "output_type": "stream",
     "text": [
      "[{'name': 'Allgemeine Kategorie', 'displayName': 'Allgemeine Kategorie', 'rank': 30, 'expandable': False, 'collapse': None, 'header': '', 'footer': '', 'displayAttributeCategoryDtoMap': {'Diebstahl': {'collapse': None, 'header': '', 'footer': ''}, 'SelfActive Erfassung': {'collapse': None, 'header': '', 'footer': ''}, 'Geräteimport': {'collapse': None, 'header': '', 'footer': ''}, 'Provisionierung': {'collapse': None, 'header': '', 'footer': ''}, 'Vertrag': {'collapse': None, 'header': '', 'footer': ''}, 'Vertragsvorlage': {'collapse': None, 'header': '', 'footer': ''}, 'Beitragsberechnung': {'collapse': None, 'header': '', 'footer': ''}, 'TouchActive Extra': {'collapse': None, 'header': '', 'footer': ''}, 'Schaden': {'collapse': None, 'header': '', 'footer': ''}, 'Vermittlermerkmale': {'collapse': None, 'header': '', 'footer': ''}, 'Eingabedaten': {'collapse': None, 'header': '', 'footer': ''}, 'Dokumentgenerierung': {'collapse': None, 'header': '', 'footer': ''}, 'TouchActive Erfassung': {'collapse': None, 'header': '', 'footer': ''}, 'Visuals': {'collapse': None, 'header': '', 'footer': ''}}, 'attribute': [{'attributeId': 331, 'productVariantAttributeId': 13150, 'name': 'Gerätetyp (privat)', 'displayName': 'Gerätetyp', 'displayDescription': '', 'catName': 'Allgemeine Kategorie', 'catDisplayName': 'Allgemeine Kategorie', 'catRank': 30, 'attributeCategoryId': -1, 'placeholder': None, 'description': '', 'type': 'Liste', 'typeId': -102014, 'value': 'Handy/Smartphone', 'inputField': True, 'hide': False, 'advanced': False, 'dynamicLoaderId': None, 'productVariantId': 3424, 'productName': 'HandySchutzbrief Basis Check24', 'personAttributeTypeId': None, 'documentAttributeTypeId': None, 'businessObjectAttributeTypeId': None, 'required': True, 'rank': 100, 'listId': 25, 'properties': {}, 'autocomplete': None, 'autofocus': None, 'readonly': None, 'size': None, 'min': None, 'max': None, 'minDate': None, 'maxDate': None, 'minLength': None, 'maxLength': None, 'placeholderDpva': '', 'stepwise': None, 'aspectDisplayNames': {}, 'listelement': [{'listelementId': 500008, 'name': 'Handy/Smartphone', 'description': None, 'availableFrom': None, 'availableTo': None, 'rank': 100, 'valid': True, 'externalcode': []}, {'listelementId': 500011, 'name': 'Tablet', 'description': None, 'availableFrom': None, 'availableTo': None, 'rank': 200, 'valid': True, 'externalcode': []}, {'listelementId': 500014, 'name': 'Smartwatch', 'description': None, 'availableFrom': None, 'availableTo': None, 'rank': 300, 'valid': True, 'externalcode': []}], 'validationrule': [], 'aspect': ['SelfActive Erfassung', 'Vertragsvorlage', 'TouchActive Erfassung', 'CollActive Erfassung'], 'evaluation': [], 'externalcode': []}]}, {'name': 'Vertragsdetails', 'displayName': 'Vertragsdetails', 'rank': 100, 'expandable': False, 'collapse': None, 'header': '', 'footer': '', 'displayAttributeCategoryDtoMap': {'Beitragsberechnung': {'collapse': None, 'header': '', 'footer': ''}, 'SelfActive Erfassung': {'collapse': None, 'header': '', 'footer': ''}, 'TouchActive Extra': {'collapse': None, 'header': '', 'footer': ''}, 'Vertriebskennzeichen': {'collapse': None, 'header': '', 'footer': ''}, 'Provisionierung': {'collapse': None, 'header': '', 'footer': ''}, 'CollActive Erfassung': {'collapse': None, 'header': '', 'footer': ''}, 'Eingabedaten': {'collapse': None, 'header': '', 'footer': ''}, 'Vertragsvorlage': {'collapse': None, 'header': '', 'footer': ''}, 'Dokumentgenerierung': {'collapse': None, 'header': '', 'footer': ''}, 'TouchActive Erfassung': {'collapse': None, 'header': '', 'footer': ''}}, 'attribute': [{'attributeId': 658, 'productVariantAttributeId': 16870, 'name': 'Vertragsbeginn', 'displayName': 'Vertragsbeginn', 'displayDescription': '', 'catName': 'Vertragsdetails', 'catDisplayName': 'Vertragsdetails', 'catRank': 100, 'attributeCategoryId': 2, 'placeholder': None, 'description': '', 'type': 'Datum', 'typeId': -102012, 'value': None, 'inputField': True, 'hide': True, 'advanced': False, 'dynamicLoaderId': None, 'productVariantId': 3424, 'productName': 'HandySchutzbrief Basis Check24', 'personAttributeTypeId': None, 'documentAttributeTypeId': None, 'businessObjectAttributeTypeId': None, 'required': False, 'rank': 50, 'listId': None, 'properties': {}, 'autocomplete': None, 'autofocus': None, 'readonly': None, 'size': None, 'min': None, 'max': None, 'minDate': None, 'maxDate': None, 'minLength': None, 'maxLength': None, 'placeholderDpva': None, 'stepwise': None, 'aspectDisplayNames': {}, 'listelement': None, 'validationrule': [], 'aspect': ['SelfActive Erfassung'], 'evaluation': [], 'externalcode': []}, {'attributeId': 340, 'productVariantAttributeId': 13153, 'name': 'weltweiter Rundum-Schutz', 'displayName': 'weltweiter Rundum-Schutz', 'displayDescription': '', 'catName': 'Vertragsdetails', 'catDisplayName': 'Vertragsdetails', 'catRank': 100, 'attributeCategoryId': 2, 'placeholder': None, 'description': '', 'type': 'Auswahl', 'typeId': -102010, 'value': 'true', 'inputField': False, 'hide': False, 'advanced': True, 'dynamicLoaderId': None, 'productVariantId': 3424, 'productName': 'HandySchutzbrief Basis Check24', 'personAttributeTypeId': None, 'documentAttributeTypeId': None, 'businessObjectAttributeTypeId': None, 'required': False, 'rank': 100, 'listId': None, 'properties': {}, 'autocomplete': None, 'autofocus': None, 'readonly': None, 'size': None, 'min': None, 'max': None, 'minDate': None, 'maxDate': None, 'minLength': None, 'maxLength': None, 'placeholderDpva': '', 'stepwise': None, 'aspectDisplayNames': {}, 'listelement': None, 'validationrule': None, 'aspect': ['SelfActive Erfassung', 'TouchActive Erfassung', 'Vertriebskennzeichen', 'CollActive Erfassung'], 'evaluation': [], 'externalcode': []}, {'attributeId': 343, 'productVariantAttributeId': 13156, 'name': 'neu oder gebraucht', 'displayName': '1 neues oder gebrauchtes Handy (jedes Gerätealter)', 'displayDescription': '', 'catName': 'Vertragsdetails', 'catDisplayName': 'Vertragsdetails', 'catRank': 100, 'attributeCategoryId': 2, 'placeholder': None, 'description': '', 'type': 'Auswahl', 'typeId': -102010, 'value': 'true', 'inputField': False, 'hide': False, 'advanced': True, 'dynamicLoaderId': None, 'productVariantId': 3424, 'productName': 'HandySchutzbrief Basis Check24', 'personAttributeTypeId': None, 'documentAttributeTypeId': None, 'businessObjectAttributeTypeId': None, 'required': False, 'rank': 210, 'listId': None, 'properties': {}, 'autocomplete': None, 'autofocus': None, 'readonly': None, 'size': None, 'min': None, 'max': None, 'minDate': None, 'maxDate': None, 'minLength': None, 'maxLength': None, 'placeholderDpva': '', 'stepwise': None, 'aspectDisplayNames': {}, 'listelement': None, 'validationrule': None, 'aspect': ['SelfActive Erfassung', 'TouchActive Erfassung', 'Vertriebskennzeichen', 'CollActive Erfassung'], 'evaluation': [], 'externalcode': []}, {'attributeId': 256, 'productVariantAttributeId': 13159, 'name': 'Schäden am Frontdisplay', 'displayName': 'Displayschäden', 'displayDescription': '', 'catName': 'Vertragsdetails', 'catDisplayName': 'Vertragsdetails', 'catRank': 100, 'attributeCategoryId': 2, 'placeholder': None, 'description': '', 'type': 'Auswahl', 'typeId': -102010, 'value': 'true', 'inputField': False, 'hide': False, 'advanced': True, 'dynamicLoaderId': None, 'productVariantId': 3424, 'productName': 'HandySchutzbrief Basis Check24', 'personAttributeTypeId': None, 'documentAttributeTypeId': None, 'businessObjectAttributeTypeId': None, 'required': False, 'rank': 400, 'listId': None, 'properties': {}, 'autocomplete': None, 'autofocus': None, 'readonly': None, 'size': None, 'min': None, 'max': None, 'minDate': None, 'maxDate': None, 'minLength': None, 'maxLength': None, 'placeholderDpva': '', 'stepwise': None, 'aspectDisplayNames': {}, 'listelement': None, 'validationrule': None, 'aspect': ['SelfActive Erfassung', 'TouchActive Erfassung', 'Vertriebskennzeichen', 'CollActive Erfassung'], 'evaluation': [], 'externalcode': []}, {'attributeId': 346, 'productVariantAttributeId': 13162, 'name': 'Verschleiß Akku', 'displayName': 'Verschleiß Akku', 'displayDescription': '', 'catName': 'Vertragsdetails', 'catDisplayName': 'Vertragsdetails', 'catRank': 100, 'attributeCategoryId': 2, 'placeholder': None, 'description': '', 'type': 'Auswahl', 'typeId': -102010, 'value': 'false', 'inputField': False, 'hide': False, 'advanced': True, 'dynamicLoaderId': None, 'productVariantId': 3424, 'productName': 'HandySchutzbrief Basis Check24', 'personAttributeTypeId': None, 'documentAttributeTypeId': None, 'businessObjectAttributeTypeId': None, 'required': False, 'rank': 410, 'listId': None, 'properties': {}, 'autocomplete': None, 'autofocus': None, 'readonly': None, 'size': None, 'min': None, 'max': None, 'minDate': None, 'maxDate': None, 'minLength': None, 'maxLength': None, 'placeholderDpva': '', 'stepwise': None, 'aspectDisplayNames': {}, 'listelement': None, 'validationrule': None, 'aspect': ['SelfActive Erfassung', 'TouchActive Erfassung', 'Vertriebskennzeichen', 'CollActive Erfassung'], 'evaluation': [], 'externalcode': []}, {'attributeId': 349, 'productVariantAttributeId': 13165, 'name': 'Garantieverlängerung', 'displayName': 'Garantieverlängerung nach Ablauf der Garantie', 'displayDescription': '', 'catName': 'Vertragsdetails', 'catDisplayName': 'Vertragsdetails', 'catRank': 100, 'attributeCategoryId': 2, 'placeholder': None, 'description': '', 'type': 'Auswahl', 'typeId': -102010, 'value': 'true', 'inputField': False, 'hide': False, 'advanced': True, 'dynamicLoaderId': None, 'productVariantId': 3424, 'productName': 'HandySchutzbrief Basis Check24', 'personAttributeTypeId': None, 'documentAttributeTypeId': None, 'businessObjectAttributeTypeId': None, 'required': False, 'rank': 420, 'listId': None, 'properties': {}, 'autocomplete': None, 'autofocus': None, 'readonly': None, 'size': None, 'min': None, 'max': None, 'minDate': None, 'maxDate': None, 'minLength': None, 'maxLength': None, 'placeholderDpva': '', 'stepwise': None, 'aspectDisplayNames': {}, 'listelement': None, 'validationrule': None, 'aspect': ['SelfActive Erfassung', 'TouchActive Erfassung', 'Vertriebskennzeichen', 'CollActive Erfassung'], 'evaluation': [], 'externalcode': []}, {'attributeId': 352, 'productVariantAttributeId': 13168, 'name': 'Flüssigkeitsschäden', 'displayName': 'Flüssigkeitsschäden inkl. Witterung', 'displayDescription': '', 'catName': 'Vertragsdetails', 'catDisplayName': 'Vertragsdetails', 'catRank': 100, 'attributeCategoryId': 2, 'placeholder': None, 'description': '', 'type': 'Auswahl', 'typeId': -102010, 'value': 'true', 'inputField': False, 'hide': False, 'advanced': True, 'dynamicLoaderId': None, 'productVariantId': 3424, 'productName': 'HandySchutzbrief Basis Check24', 'personAttributeTypeId': None, 'documentAttributeTypeId': None, 'businessObjectAttributeTypeId': None, 'required': False, 'rank': 430, 'listId': None, 'properties': {}, 'autocomplete': None, 'autofocus': None, 'readonly': None, 'size': None, 'min': None, 'max': None, 'minDate': None, 'maxDate': None, 'minLength': None, 'maxLength': None, 'placeholderDpva': '', 'stepwise': None, 'aspectDisplayNames': {}, 'listelement': None, 'validationrule': None, 'aspect': ['SelfActive Erfassung', 'TouchActive Erfassung', 'Vertriebskennzeichen', 'CollActive Erfassung'], 'evaluation': [], 'externalcode': []}, {'attributeId': 355, 'productVariantAttributeId': 13171, 'name': 'Diebstahl', 'displayName': 'Diebstahl', 'displayDescription': '', 'catName': 'Vertragsdetails', 'catDisplayName': 'Vertragsdetails', 'catRank': 100, 'attributeCategoryId': 2, 'placeholder': None, 'description': '', 'type': 'Auswahl', 'typeId': -102010, 'value': 'false', 'inputField': False, 'hide': False, 'advanced': True, 'dynamicLoaderId': None, 'productVariantId': 3424, 'productName': 'HandySchutzbrief Basis Check24', 'personAttributeTypeId': None, 'documentAttributeTypeId': None, 'businessObjectAttributeTypeId': None, 'required': False, 'rank': 440, 'listId': None, 'properties': {}, 'autocomplete': None, 'autofocus': None, 'readonly': None, 'size': None, 'min': None, 'max': None, 'minDate': None, 'maxDate': None, 'minLength': None, 'maxLength': None, 'placeholderDpva': '', 'stepwise': None, 'aspectDisplayNames': {}, 'listelement': None, 'validationrule': None, 'aspect': ['SelfActive Erfassung', 'TouchActive Erfassung', 'Vertriebskennzeichen', 'CollActive Erfassung'], 'evaluation': [], 'externalcode': []}, {'attributeId': 23, 'productVariantAttributeId': 13144, 'name': 'Selbstbeteiligung 10% vom Kaufpreis', 'displayName': 'Selbstbeteiligung 10% vom Kaufpreis', 'displayDescription': '', 'catName': 'Vertragsdetails', 'catDisplayName': 'Vertragsdetails', 'catRank': 100, 'attributeCategoryId': 2, 'placeholder': None, 'description': '', 'type': 'Auswahl', 'typeId': -102010, 'value': 'true', 'inputField': False, 'hide': False, 'advanced': False, 'dynamicLoaderId': None, 'productVariantId': 3424, 'productName': 'HandySchutzbrief Basis Check24', 'personAttributeTypeId': None, 'documentAttributeTypeId': None, 'businessObjectAttributeTypeId': None, 'required': False, 'rank': 700, 'listId': None, 'properties': {}, 'autocomplete': None, 'autofocus': None, 'readonly': None, 'size': None, 'min': None, 'max': None, 'minDate': None, 'maxDate': None, 'minLength': None, 'maxLength': None, 'placeholderDpva': '', 'stepwise': None, 'aspectDisplayNames': {}, 'listelement': None, 'validationrule': None, 'aspect': ['SelfActive Erfassung', 'TouchActive Erfassung', 'Vertriebskennzeichen', 'Beitragsberechnung', 'CollActive Erfassung'], 'evaluation': [], 'externalcode': []}, {'attributeId': 20, 'productVariantAttributeId': 13210, 'name': 'Tägliche Kündigungsoption', 'displayName': 'Tägliche Kündigungsoption', 'displayDescription': '', 'catName': 'Vertragsdetails', 'catDisplayName': 'Vertragsdetails', 'catRank': 100, 'attributeCategoryId': 2, 'placeholder': None, 'description': '', 'type': 'Auswahl', 'typeId': -102010, 'value': 'true', 'inputField': False, 'hide': False, 'advanced': True, 'dynamicLoaderId': None, 'productVariantId': 3424, 'productName': 'HandySchutzbrief Basis Check24', 'personAttributeTypeId': None, 'documentAttributeTypeId': None, 'businessObjectAttributeTypeId': None, 'required': False, 'rank': 800, 'listId': None, 'properties': {}, 'autocomplete': None, 'autofocus': None, 'readonly': None, 'size': None, 'min': None, 'max': None, 'minDate': None, 'maxDate': None, 'minLength': None, 'maxLength': None, 'placeholderDpva': '', 'stepwise': None, 'aspectDisplayNames': {}, 'listelement': None, 'validationrule': None, 'aspect': ['SelfActive Erfassung', 'TouchActive Erfassung', 'Vertriebskennzeichen', 'CollActive Erfassung'], 'evaluation': [], 'externalcode': []}, {'attributeId': 397, 'productVariantAttributeId': 13213, 'name': 'Wartefrist Wochen', 'displayName': 'Wartefrist Wochen', 'displayDescription': 'Wird der Versicherungsvertrag für das versicherte Gerät erst nach dem Kaufdatum abgeschlossen, gilt eine Wartezeit von vier Wochen ab Abschluss des Versicherungsvertrages. Für vor oder während der Wartezeit eingetretene\\r\\nVersicherungsfälle besteht kein Versicherungsschutz.', 'catName': 'Vertragsdetails', 'catDisplayName': 'Vertragsdetails', 'catRank': 100, 'attributeCategoryId': 2, 'placeholder': None, 'description': 'Wird der Versicherungsvertrag für das versicherte Gerät erst nach dem Kaufdatum abgeschlossen, gilt eine Wartezeit von vier Wochen ab Abschluss des Versicherungsvertrages. Für vor oder während der Wartezeit eingetretene\\r\\nVersicherungsfälle besteht kein Versicherungsschutz.', 'type': 'Zahl', 'typeId': -102011, 'value': None, 'inputField': False, 'hide': True, 'advanced': True, 'dynamicLoaderId': None, 'productVariantId': 3424, 'productName': 'HandySchutzbrief Basis Check24', 'personAttributeTypeId': None, 'documentAttributeTypeId': None, 'businessObjectAttributeTypeId': None, 'required': False, 'rank': 10000, 'listId': None, 'properties': {}, 'autocomplete': None, 'autofocus': None, 'readonly': None, 'size': None, 'min': None, 'max': None, 'minDate': None, 'maxDate': None, 'minLength': None, 'maxLength': None, 'placeholderDpva': None, 'stepwise': None, 'aspectDisplayNames': {}, 'listelement': None, 'validationrule': None, 'aspect': ['SelfActive Erfassung'], 'evaluation': [], 'externalcode': []}, {'attributeId': 472, 'productVariantAttributeId': 13201, 'name': 'Wartefrist Wochen 2', 'displayName': 'Wartefrist (in Wochen) nach Gerätealter', 'displayDescription': 'Wird der Versicherungsvertrag für das versicherte Gerät erst nach dem Kaufdatum abgeschlossen, kannst du Dein Gerät kostenpflichtig und auf Dein eigenes Risiko zur Überprüfung an die Smartphoniker GmbH, Geräteprüfung Schutzgarant, Bahnhofstraße 30, 24223 Schwentinental einsenden, um das Gerät ohne Wartezeit zu versichern. Sobald die SCHUZTGARANT GmbH Schadenservice den mangelfreien Zustand bestätigt, verzichten wir auf die Wartezeit. Schickst Du Dein Gerät nicht zur Überprüfung ein gilt für Geräte mit einem Gerätealter bis 42 Tage keine Wartezeit, für Geräte mit einem Gerätealter bis 180 Tage eine Wartezeit von sechs Wochen ab Abschluss des Versicherungsvertrages. Für Geräte mit einem Gerätealter bis 360 Tage gilt eine Wartezeit von zwölf Wochen ab Abschluss des Versicherungsvertrages. Geräte, die älter als 360 Tage bei Abschluss des Versicherungsvertrages sind können nur mit Überprüfung versichert werden. Die Berechnung des Gerätealters erfolgt auf Grundlage des Kaufdatums des Gerätes, welches Du durch einen Kaufbeleg nachweisen musst. Für vor oder während der Wartezeit eingetretene Versicherungsfälle besteht kein Versicherungsschutz.', 'catName': 'Vertragsdetails', 'catDisplayName': 'Vertragsdetails', 'catRank': 100, 'attributeCategoryId': 2, 'placeholder': None, 'description': 'Wird der Versicherungsvertrag für das versicherte Gerät erst nach dem Kaufdatum abgeschlossen, kannst du Dein Gerät kostenpflichtig und auf Dein eigenes Risiko zur Überprüfung an die Smartphoniker GmbH, Geräteprüfung Schutzgarant, Bahnhofstraße 30, 24223 Schwentinental einsenden, um das Gerät ohne Wartezeit zu versichern. Sobald die SCHUZTGARANT GmbH Schadenservice den mangelfreien Zustand bestätigt, verzichten wir auf die Wartezeit. Schickst Du Dein Gerät nicht zur Überprüfung ein gilt für Geräte mit einem Gerätealter bis 42 Tage keine Wartezeit, für Geräte mit einem Gerätealter bis 180 Tage eine Wartezeit von sechs Wochen ab Abschluss des Versicherungsvertrages. Für Geräte mit einem Gerätealter bis 360 Tage gilt eine Wartezeit von zwölf Wochen ab Abschluss des Versicherungsvertrages. Geräte, die älter als 360 Tage bei Abschluss des Versicherungsvertrages sind können nur mit Überprüfung versichert werden. Die Berechnung des Gerätealters erfolgt auf Grundlage des Kaufdatums des Gerätes, welches Du durch einen Kaufbeleg nachweisen musst. Für vor oder während der Wartezeit eingetretene Versicherungsfälle besteht kein Versicherungsschutz.', 'type': 'Name-Wert', 'typeId': -102159, 'value': 'Tage[42]=0\\r\\nTage[180]=6\\r\\nTage[3000]=12', 'inputField': False, 'hide': True, 'advanced': False, 'dynamicLoaderId': None, 'productVariantId': 3424, 'productName': 'HandySchutzbrief Basis Check24', 'personAttributeTypeId': None, 'documentAttributeTypeId': None, 'businessObjectAttributeTypeId': None, 'required': False, 'rank': 10000, 'listId': None, 'properties': {}, 'autocomplete': None, 'autofocus': None, 'readonly': None, 'size': None, 'min': None, 'max': None, 'minDate': None, 'maxDate': None, 'minLength': None, 'maxLength': None, 'placeholderDpva': '', 'stepwise': None, 'aspectDisplayNames': {}, 'listelement': None, 'validationrule': None, 'aspect': ['SelfActive Erfassung', 'TouchActive Extra'], 'evaluation': [], 'externalcode': []}, {'attributeId': 544, 'productVariantAttributeId': 13216, 'name': 'Schutzbeginn', 'displayName': 'Schutzbeginn', 'displayDescription': '', 'catName': 'Vertragsdetails', 'catDisplayName': 'Vertragsdetails', 'catRank': 100, 'attributeCategoryId': 2, 'placeholder': None, 'description': '', 'type': 'Datum', 'typeId': -102012, 'value': None, 'inputField': False, 'hide': True, 'advanced': True, 'dynamicLoaderId': None, 'productVariantId': 3424, 'productName': 'HandySchutzbrief Basis Check24', 'personAttributeTypeId': None, 'documentAttributeTypeId': None, 'businessObjectAttributeTypeId': None, 'required': False, 'rank': 10000, 'listId': None, 'properties': {}, 'autocomplete': None, 'autofocus': None, 'readonly': None, 'size': None, 'min': None, 'max': None, 'minDate': None, 'maxDate': None, 'minLength': None, 'maxLength': None, 'placeholderDpva': None, 'stepwise': None, 'aspectDisplayNames': {}, 'listelement': None, 'validationrule': None, 'aspect': ['SelfActive Erfassung'], 'evaluation': [], 'externalcode': []}, {'attributeId': 367, 'productVariantAttributeId': 13180, 'name': 'Selbstbeteiligung', 'displayName': 'Selbstbeteiligung', 'displayDescription': '', 'catName': 'Vertragsdetails', 'catDisplayName': 'Vertragsdetails', 'catRank': 100, 'attributeCategoryId': 2, 'placeholder': None, 'description': '', 'type': 'Währung', 'typeId': -102160, 'value': '0.00', 'inputField': True, 'hide': True, 'advanced': True, 'dynamicLoaderId': None, 'productVariantId': 3424, 'productName': 'HandySchutzbrief Basis Check24', 'personAttributeTypeId': None, 'documentAttributeTypeId': None, 'businessObjectAttributeTypeId': None, 'required': False, 'rank': 10700, 'listId': None, 'properties': {}, 'autocomplete': None, 'autofocus': None, 'readonly': None, 'size': None, 'min': None, 'max': None, 'minDate': None, 'maxDate': None, 'minLength': None, 'maxLength': None, 'placeholderDpva': '', 'stepwise': None, 'aspectDisplayNames': {}, 'listelement': None, 'validationrule': [], 'aspect': ['TouchActive Extra', 'Beitragsberechnung', 'SelfActive Erfassung'], 'evaluation': [], 'externalcode': []}]}, {'name': 'Zahlungsinformationen', 'displayName': 'Zahlungsinformationen', 'rank': 200, 'expandable': False, 'collapse': None, 'header': '', 'footer': '', 'displayAttributeCategoryDtoMap': {'Beitragsberechnung': {'collapse': None, 'header': '', 'footer': ''}, 'SelfActive Erfassung': {'collapse': None, 'header': '', 'footer': ''}, 'Konfiguration': {'collapse': None, 'header': '', 'footer': ''}, 'TouchActive Erfassung': {'collapse': None, 'header': '', 'footer': ''}}, 'attribute': [{'attributeId': 376, 'productVariantAttributeId': 13186, 'name': 'Zahlungsart', 'displayName': 'Zahlungsart', 'displayDescription': '', 'catName': 'Zahlungsinformationen', 'catDisplayName': 'Zahlungsinformationen', 'catRank': 200, 'attributeCategoryId': 11, 'placeholder': None, 'description': '', 'type': 'Liste', 'typeId': -102014, 'value': 'Lastschrift', 'inputField': True, 'hide': True, 'advanced': False, 'dynamicLoaderId': None, 'productVariantId': 3424, 'productName': 'HandySchutzbrief Basis Check24', 'personAttributeTypeId': None, 'documentAttributeTypeId': None, 'businessObjectAttributeTypeId': None, 'required': False, 'rank': 100, 'listId': -59, 'properties': {}, 'autocomplete': None, 'autofocus': None, 'readonly': None, 'size': None, 'min': None, 'max': None, 'minDate': None, 'maxDate': None, 'minLength': None, 'maxLength': None, 'placeholderDpva': '', 'stepwise': None, 'aspectDisplayNames': {}, 'listelement': [{'listelementId': -5902, 'name': 'Lastschrift', 'description': None, 'availableFrom': None, 'availableTo': None, 'rank': 0, 'valid': True, 'externalcode': []}], 'validationrule': [{'regularExpression': '(Lastschrift)', 'min': None, 'max': None, 'expectedValidationResult': True, 'validationFailureMessage': 'Nur Lastschrift ist zulässig', 'validationFailureI18N': None, 'minDate': None, 'maxDate': None, 'stepwise': None, 'minLength': None, 'maxLength': None}], 'aspect': ['SelfActive Erfassung', 'TouchActive Erfassung', 'CollActive Erfassung'], 'evaluation': [], 'externalcode': []}, {'attributeId': 379, 'productVariantAttributeId': 13189, 'name': 'Zahlungsweise', 'displayName': 'Zahlungsweise', 'displayDescription': '', 'catName': 'Zahlungsinformationen', 'catDisplayName': 'Zahlungsinformationen', 'catRank': 200, 'attributeCategoryId': 11, 'placeholder': None, 'description': '', 'type': 'Liste', 'typeId': -102014, 'value': 'Jahresbeitrag', 'inputField': True, 'hide': True, 'advanced': False, 'dynamicLoaderId': None, 'productVariantId': 3424, 'productName': 'HandySchutzbrief Basis Check24', 'personAttributeTypeId': None, 'documentAttributeTypeId': None, 'businessObjectAttributeTypeId': None, 'required': False, 'rank': 200, 'listId': -51, 'properties': {}, 'autocomplete': None, 'autofocus': None, 'readonly': None, 'size': None, 'min': None, 'max': None, 'minDate': None, 'maxDate': None, 'minLength': None, 'maxLength': None, 'placeholderDpva': '', 'stepwise': None, 'aspectDisplayNames': {}, 'listelement': [{'listelementId': -5106, 'name': 'Jahresbeitrag', 'description': 'Der Beitrag ist ein Jahresbeitrag, also jährlich zu entrichten.', 'availableFrom': None, 'availableTo': None, 'rank': 70, 'valid': True, 'externalcode': []}], 'validationrule': [{'regularExpression': '^(Jahresbeitrag)$', 'min': None, 'max': None, 'expectedValidationResult': True, 'validationFailureMessage': 'Nur Jahresbeitrag ist zulässig', 'validationFailureI18N': None, 'minDate': None, 'maxDate': None, 'stepwise': None, 'minLength': None, 'maxLength': None}], 'aspect': ['SelfActive Erfassung', 'TouchActive Erfassung', 'CollActive Erfassung'], 'evaluation': [], 'externalcode': []}]}]\n",
      "{'properties': {'attribute_331': {'default': 'Handy/Smartphone', 'description': ' (allowed: Handy/Smartphone, Tablet, Smartwatch)', 'enum': ['Handy/Smartphone', 'Tablet', 'Smartwatch'], 'title': 'Gerätetyp', 'type': 'string'}}, 'title': 'Attributes', 'type': 'object'}\n"
     ]
    }
   ],
   "source": [
    "Attributes = _extract_attribute_fields(\"Attributes\", raw_data)\n",
    "print(Attributes.model_json_schema())"
   ]
  },
  {
   "cell_type": "code",
   "execution_count": 44,
   "metadata": {},
   "outputs": [
    {
     "name": "stdout",
     "output_type": "stream",
     "text": [
      "{'properties': {'attribute_604': {'anyOf': [{'type': 'boolean'}, {'type': 'null'}], 'default': False, 'description': '', 'title': 'Ich kenne meine IMEI-/Seriennummer noch nicht'}, 'attribute_67': {'anyOf': [{'type': 'string'}, {'type': 'null'}], 'default': '', 'description': '', 'title': 'IMEI-/Seriennummer'}, 'attribute_3730': {'default': '501 - 750 €', 'description': ' (allowed: 0 - 250 €, 251 - 500 €, 501 - 750 €, 751 - 1.000 €, 1.001 - 1.250 €, 1.251 - 1.500 €, 1.501 - 1.750 €, 1.751 - 2.000 €, 2.001 - 2.500 €, 2.501 - 3.000 €)', 'enum': ['0 - 250 €', '251 - 500 €', '501 - 750 €', '751 - 1.000 €', '1.001 - 1.250 €', '1.251 - 1.500 €', '1.501 - 1.750 €', '1.751 - 2.000 €', '2.001 - 2.500 €', '2.501 - 3.000 €'], 'title': 'Unsubventionierter Kaufpreis', 'type': 'string'}, 'attribute_3733': {'default': 'bis 2 Wochen', 'description': ' (allowed: bis 2 Wochen, 2 Wochen bis 6 Wochen, 6 Wochen bis halbes Jahr, halbes Jahr bis 1 Jahr, 1 Jahr bis 2 Jahre, älter als 2 Jahre)', 'enum': ['bis 2 Wochen', '2 Wochen bis 6 Wochen', '6 Wochen bis halbes Jahr', 'halbes Jahr bis 1 Jahr', '1 Jahr bis 2 Jahre', 'älter als 2 Jahre'], 'title': 'Gerätealter', 'type': 'string'}, 'attribute_70': {'description': ' (allowed: Samsung, Apple, Huawei, Xiaomi, Acer, AEG, Alcatel, Allview, Amica, Asus, ATAG, Bauknecht, BEKO, Blackberry, Blomberg, Bomann, Bosch (BSH), Candy, Canon, CAT, Caterpillar, Clatronic, Constructa, Cubot, DELL, Doro, Electrolux, Elektra Bregenz, Epson, Exquisit, Fagor, Fairphone, Fujifilm, Fujitsu, Gaggenau, Gigaset, Google, GoPro, Gorenje, Grundig, Haier, Hewlett Packard/HP, Honor, Hoover, HTC, Ignis, Ikea, Indesit, ISY, Juno, Koenic, Körting, Küppersbusch, Leica, Lenovo, LG, Liebherr, Microsoft, Miele, Motorola, Neff, Nikon, Nokia, ok, Olympus, OnePlus, OPPO, Oranier, Panasonic, PEAQ, Privileg, Progress, Schaub Lorenz, Sharp, Sibir, Siemens, Smeg, Sony, Teka, Termikel, UleFone, Vivo, Whirlpool, Wiko, Zanker, Zanussi, ZTE, Sonstige)', 'enum': ['Samsung', 'Apple', 'Huawei', 'Xiaomi', 'Acer', 'AEG', 'Alcatel', 'Allview', 'Amica', 'Asus', 'ATAG', 'Bauknecht', 'BEKO', 'Blackberry', 'Blomberg', 'Bomann', 'Bosch (BSH)', 'Candy', 'Canon', 'CAT', 'Caterpillar', 'Clatronic', 'Constructa', 'Cubot', 'DELL', 'Doro', 'Electrolux', 'Elektra Bregenz', 'Epson', 'Exquisit', 'Fagor', 'Fairphone', 'Fujifilm', 'Fujitsu', 'Gaggenau', 'Gigaset', 'Google', 'GoPro', 'Gorenje', 'Grundig', 'Haier', 'Hewlett Packard/HP', 'Honor', 'Hoover', 'HTC', 'Ignis', 'Ikea', 'Indesit', 'ISY', 'Juno', 'Koenic', 'Körting', 'Küppersbusch', 'Leica', 'Lenovo', 'LG', 'Liebherr', 'Microsoft', 'Miele', 'Motorola', 'Neff', 'Nikon', 'Nokia', 'ok', 'Olympus', 'OnePlus', 'OPPO', 'Oranier', 'Panasonic', 'PEAQ', 'Privileg', 'Progress', 'Schaub Lorenz', 'Sharp', 'Sibir', 'Siemens', 'Smeg', 'Sony', 'Teka', 'Termikel', 'UleFone', 'Vivo', 'Whirlpool', 'Wiko', 'Zanker', 'Zanussi', 'ZTE', 'Sonstige'], 'title': 'Hersteller', 'type': 'string'}, 'attribute_217': {'anyOf': [{'type': 'string'}, {'type': 'null'}], 'default': '', 'description': '', 'title': 'Herstellername'}, 'attribute_130': {'default': '', 'description': '', 'title': 'Modell', 'type': 'string'}, 'attribute_16': {'default': 24, 'description': ' (must be integer)', 'title': 'Herstellergarantie (Monate)', 'type': 'integer'}}, 'required': ['attribute_70'], 'title': 'Modules', 'type': 'object'}\n"
     ]
    }
   ],
   "source": [
    "module_data = {}\n",
    "module_data[\"attributecategorie\"] = []\n",
    "for sub_prod in raw_data[\"subproduct\"]:\n",
    "    ppv_id = sub_prod[\"partProductVariantId\"]\n",
    "    if not ppv_id in [19, 3112, 3091]:\n",
    "        module_data[\"attributecategorie\"].extend(\n",
    "            [\n",
    "                cat for cat in sub_prod[\"productTreeRenderData\"][\n",
    "                \"attributecategorie\"\n",
    "                ]\n",
    "            ]\n",
    "        )\n",
    "Modules = _extract_attribute_fields(\"Modules\", module_data)\n",
    "print(Modules.model_json_schema())"
   ]
  },
  {
   "cell_type": "code",
   "execution_count": 70,
   "metadata": {},
   "outputs": [
    {
     "name": "stdout",
     "output_type": "stream",
     "text": [
      "{'$defs': {'Attributes': {'properties': {'attribute_331': {'default': 'Handy/Smartphone', 'description': ' (allowed: Handy/Smartphone, Tablet, Smartwatch)', 'enum': ['Handy/Smartphone', 'Tablet', 'Smartwatch'], 'title': 'Gerätetyp', 'type': 'string'}}, 'title': 'Attributes', 'type': 'object'}, 'Modules': {'properties': {'attribute_604': {'anyOf': [{'type': 'boolean'}, {'type': 'null'}], 'default': False, 'description': '', 'title': 'Ich kenne meine IMEI-/Seriennummer noch nicht'}, 'attribute_67': {'anyOf': [{'type': 'string'}, {'type': 'null'}], 'default': '', 'description': '', 'title': 'IMEI-/Seriennummer'}, 'attribute_3730': {'default': '501 - 750 €', 'description': ' (allowed: 0 - 250 €, 251 - 500 €, 501 - 750 €, 751 - 1.000 €, 1.001 - 1.250 €, 1.251 - 1.500 €, 1.501 - 1.750 €, 1.751 - 2.000 €, 2.001 - 2.500 €, 2.501 - 3.000 €)', 'enum': ['0 - 250 €', '251 - 500 €', '501 - 750 €', '751 - 1.000 €', '1.001 - 1.250 €', '1.251 - 1.500 €', '1.501 - 1.750 €', '1.751 - 2.000 €', '2.001 - 2.500 €', '2.501 - 3.000 €'], 'title': 'Unsubventionierter Kaufpreis', 'type': 'string'}, 'attribute_3733': {'default': 'bis 2 Wochen', 'description': ' (allowed: bis 2 Wochen, 2 Wochen bis 6 Wochen, 6 Wochen bis halbes Jahr, halbes Jahr bis 1 Jahr, 1 Jahr bis 2 Jahre, älter als 2 Jahre)', 'enum': ['bis 2 Wochen', '2 Wochen bis 6 Wochen', '6 Wochen bis halbes Jahr', 'halbes Jahr bis 1 Jahr', '1 Jahr bis 2 Jahre', 'älter als 2 Jahre'], 'title': 'Gerätealter', 'type': 'string'}, 'attribute_70': {'description': ' (allowed: Samsung, Apple, Huawei, Xiaomi, Acer, AEG, Alcatel, Allview, Amica, Asus, ATAG, Bauknecht, BEKO, Blackberry, Blomberg, Bomann, Bosch (BSH), Candy, Canon, CAT, Caterpillar, Clatronic, Constructa, Cubot, DELL, Doro, Electrolux, Elektra Bregenz, Epson, Exquisit, Fagor, Fairphone, Fujifilm, Fujitsu, Gaggenau, Gigaset, Google, GoPro, Gorenje, Grundig, Haier, Hewlett Packard/HP, Honor, Hoover, HTC, Ignis, Ikea, Indesit, ISY, Juno, Koenic, Körting, Küppersbusch, Leica, Lenovo, LG, Liebherr, Microsoft, Miele, Motorola, Neff, Nikon, Nokia, ok, Olympus, OnePlus, OPPO, Oranier, Panasonic, PEAQ, Privileg, Progress, Schaub Lorenz, Sharp, Sibir, Siemens, Smeg, Sony, Teka, Termikel, UleFone, Vivo, Whirlpool, Wiko, Zanker, Zanussi, ZTE, Sonstige)', 'enum': ['Samsung', 'Apple', 'Huawei', 'Xiaomi', 'Acer', 'AEG', 'Alcatel', 'Allview', 'Amica', 'Asus', 'ATAG', 'Bauknecht', 'BEKO', 'Blackberry', 'Blomberg', 'Bomann', 'Bosch (BSH)', 'Candy', 'Canon', 'CAT', 'Caterpillar', 'Clatronic', 'Constructa', 'Cubot', 'DELL', 'Doro', 'Electrolux', 'Elektra Bregenz', 'Epson', 'Exquisit', 'Fagor', 'Fairphone', 'Fujifilm', 'Fujitsu', 'Gaggenau', 'Gigaset', 'Google', 'GoPro', 'Gorenje', 'Grundig', 'Haier', 'Hewlett Packard/HP', 'Honor', 'Hoover', 'HTC', 'Ignis', 'Ikea', 'Indesit', 'ISY', 'Juno', 'Koenic', 'Körting', 'Küppersbusch', 'Leica', 'Lenovo', 'LG', 'Liebherr', 'Microsoft', 'Miele', 'Motorola', 'Neff', 'Nikon', 'Nokia', 'ok', 'Olympus', 'OnePlus', 'OPPO', 'Oranier', 'Panasonic', 'PEAQ', 'Privileg', 'Progress', 'Schaub Lorenz', 'Sharp', 'Sibir', 'Siemens', 'Smeg', 'Sony', 'Teka', 'Termikel', 'UleFone', 'Vivo', 'Whirlpool', 'Wiko', 'Zanker', 'Zanussi', 'ZTE', 'Sonstige'], 'title': 'Hersteller', 'type': 'string'}, 'attribute_217': {'anyOf': [{'type': 'string'}, {'type': 'null'}], 'default': '', 'description': '', 'title': 'Herstellername'}, 'attribute_130': {'default': '', 'description': '', 'title': 'Modell', 'type': 'string'}, 'attribute_16': {'default': 24, 'description': ' (must be integer)', 'title': 'Herstellergarantie (Monate)', 'type': 'integer'}}, 'required': ['attribute_70'], 'title': 'Modules', 'type': 'object'}}, 'properties': {'attributes': {'$ref': '#/$defs/Attributes'}, 'modules': {'$ref': '#/$defs/Modules'}}, 'required': ['attributes', 'modules'], 'title': 'Form', 'type': 'object'}\n"
     ]
    }
   ],
   "source": [
    "form_fields = {}\n",
    "form_fields[\"Attributes\"] = (_extract_attribute_fields(\"Attributes\", raw_data) ,Field(\"Attributes\"))\n",
    "form_fields[\"Modules\"] = (_extract_attribute_fields(\"Modules\", module_data) ,Field(\"Modules\"))\n",
    "\n",
    "Form = create_model(\"Form\", **form_fields)\n",
    "print(json_schema)"
   ]
  },
  {
   "cell_type": "code",
   "execution_count": 47,
   "metadata": {},
   "outputs": [
    {
     "name": "stdout",
     "output_type": "stream",
     "text": [
      "{'$defs': {'Attributes': {'properties': {'attribute_331': {'default': 'Handy/Smartphone', 'description': ' (allowed: Handy/Smartphone, Tablet, Smartwatch)', 'enum': ['Handy/Smartphone', 'Tablet', 'Smartwatch'], 'title': 'Gerätetyp', 'type': 'string'}}, 'title': 'Attributes', 'type': 'object'}, 'Modules': {'properties': {'attribute_604': {'anyOf': [{'type': 'boolean'}, {'type': 'null'}], 'default': False, 'description': '', 'title': 'Ich kenne meine IMEI-/Seriennummer noch nicht'}, 'attribute_67': {'anyOf': [{'type': 'string'}, {'type': 'null'}], 'default': '', 'description': '', 'title': 'IMEI-/Seriennummer'}, 'attribute_3730': {'default': '501 - 750 €', 'description': ' (allowed: 0 - 250 €, 251 - 500 €, 501 - 750 €, 751 - 1.000 €, 1.001 - 1.250 €, 1.251 - 1.500 €, 1.501 - 1.750 €, 1.751 - 2.000 €, 2.001 - 2.500 €, 2.501 - 3.000 €)', 'enum': ['0 - 250 €', '251 - 500 €', '501 - 750 €', '751 - 1.000 €', '1.001 - 1.250 €', '1.251 - 1.500 €', '1.501 - 1.750 €', '1.751 - 2.000 €', '2.001 - 2.500 €', '2.501 - 3.000 €'], 'title': 'Unsubventionierter Kaufpreis', 'type': 'string'}, 'attribute_3733': {'default': 'bis 2 Wochen', 'description': ' (allowed: bis 2 Wochen, 2 Wochen bis 6 Wochen, 6 Wochen bis halbes Jahr, halbes Jahr bis 1 Jahr, 1 Jahr bis 2 Jahre, älter als 2 Jahre)', 'enum': ['bis 2 Wochen', '2 Wochen bis 6 Wochen', '6 Wochen bis halbes Jahr', 'halbes Jahr bis 1 Jahr', '1 Jahr bis 2 Jahre', 'älter als 2 Jahre'], 'title': 'Gerätealter', 'type': 'string'}, 'attribute_70': {'description': ' (allowed: Samsung, Apple, Huawei, Xiaomi, Acer, AEG, Alcatel, Allview, Amica, Asus, ATAG, Bauknecht, BEKO, Blackberry, Blomberg, Bomann, Bosch (BSH), Candy, Canon, CAT, Caterpillar, Clatronic, Constructa, Cubot, DELL, Doro, Electrolux, Elektra Bregenz, Epson, Exquisit, Fagor, Fairphone, Fujifilm, Fujitsu, Gaggenau, Gigaset, Google, GoPro, Gorenje, Grundig, Haier, Hewlett Packard/HP, Honor, Hoover, HTC, Ignis, Ikea, Indesit, ISY, Juno, Koenic, Körting, Küppersbusch, Leica, Lenovo, LG, Liebherr, Microsoft, Miele, Motorola, Neff, Nikon, Nokia, ok, Olympus, OnePlus, OPPO, Oranier, Panasonic, PEAQ, Privileg, Progress, Schaub Lorenz, Sharp, Sibir, Siemens, Smeg, Sony, Teka, Termikel, UleFone, Vivo, Whirlpool, Wiko, Zanker, Zanussi, ZTE, Sonstige)', 'enum': ['Samsung', 'Apple', 'Huawei', 'Xiaomi', 'Acer', 'AEG', 'Alcatel', 'Allview', 'Amica', 'Asus', 'ATAG', 'Bauknecht', 'BEKO', 'Blackberry', 'Blomberg', 'Bomann', 'Bosch (BSH)', 'Candy', 'Canon', 'CAT', 'Caterpillar', 'Clatronic', 'Constructa', 'Cubot', 'DELL', 'Doro', 'Electrolux', 'Elektra Bregenz', 'Epson', 'Exquisit', 'Fagor', 'Fairphone', 'Fujifilm', 'Fujitsu', 'Gaggenau', 'Gigaset', 'Google', 'GoPro', 'Gorenje', 'Grundig', 'Haier', 'Hewlett Packard/HP', 'Honor', 'Hoover', 'HTC', 'Ignis', 'Ikea', 'Indesit', 'ISY', 'Juno', 'Koenic', 'Körting', 'Küppersbusch', 'Leica', 'Lenovo', 'LG', 'Liebherr', 'Microsoft', 'Miele', 'Motorola', 'Neff', 'Nikon', 'Nokia', 'ok', 'Olympus', 'OnePlus', 'OPPO', 'Oranier', 'Panasonic', 'PEAQ', 'Privileg', 'Progress', 'Schaub Lorenz', 'Sharp', 'Sibir', 'Siemens', 'Smeg', 'Sony', 'Teka', 'Termikel', 'UleFone', 'Vivo', 'Whirlpool', 'Wiko', 'Zanker', 'Zanussi', 'ZTE', 'Sonstige'], 'title': 'Hersteller', 'type': 'string'}, 'attribute_217': {'anyOf': [{'type': 'string'}, {'type': 'null'}], 'default': '', 'description': '', 'title': 'Herstellername'}, 'attribute_130': {'default': '', 'description': '', 'title': 'Modell', 'type': 'string'}, 'attribute_16': {'default': 24, 'description': ' (must be integer)', 'title': 'Herstellergarantie (Monate)', 'type': 'integer'}}, 'required': ['attribute_70'], 'title': 'Modules', 'type': 'object'}}, 'properties': {'attributes': {'$ref': '#/$defs/Attributes'}, 'modules': {'$ref': '#/$defs/Modules'}}, 'required': ['attributes', 'modules'], 'title': 'Form', 'type': 'object'}\n"
     ]
    }
   ],
   "source": [
    "from pydantic import BaseModel\n",
    "\n",
    "class Form(BaseModel):\n",
    "    attributes: Attributes = Field(...)\n",
    "    modules: Modules = Field(...)\n",
    "\n",
    "json_schema = Form.model_json_schema()\n",
    "print(json_schema)"
   ]
  },
  {
   "cell_type": "markdown",
   "metadata": {},
   "source": [
    "# Locally fill dynamic form"
   ]
  },
  {
   "cell_type": "code",
   "execution_count": 58,
   "metadata": {},
   "outputs": [
    {
     "name": "stdout",
     "output_type": "stream",
     "text": [
      "{\"attributes\": {\"attribute_331\": \"Handy/Smartphone\"}, \"modules\": {\"attribute_67\": \"123456789012345\"}}\n"
     ]
    }
   ],
   "source": [
    "# generate data \n",
    "from openai import OpenAI\n",
    "import os\n",
    "import sys\n",
    "sys.path.append(os.path.abspath(\"..\"))\n",
    "from dotenv import load_dotenv\n",
    "load_dotenv()\n",
    "\n",
    "model = os.getenv(\"STACKIT_MODEL_ID\")\n",
    "key = os.getenv(\"STACKIT_KEY\")\n",
    "base = os.getenv(\"STACKIT_BASE\")\n",
    "\n",
    "messages = [\n",
    "    {\"role\":\"system\", \"content\": (f\"You are a technical function that converts user information into this pydantic object: {json_schema}\"\n",
    "                                  \"Ommitt missing fields, unless their values are obvious. Rather respond with incomplete objects (but valid json)\"\n",
    "                                  \"Do not comment on the response, do not provide different options - just return the object.\")}, \n",
    "    # {\"role\":\"user\", \"content\": f\"Ich hab gestern für 650€ ein neues Samsung Handy mit 12 Monaten Garantie gekauft. Die IMEI ist 123456789012345.\"},     \n",
    "    {\"role\":\"user\", \"content\": f\"Ich hab gestern ein neues Handy gekauft. Die IMEI ist 123456789012345.\"}, \n",
    "]\n",
    "\n",
    "client = OpenAI(base_url=base, api_key=key)\n",
    "response = client.chat.completions.create(model=model, messages=messages)\n",
    "json_form = response.choices[0].message.content\n",
    "print(json_form)"
   ]
  },
  {
   "cell_type": "markdown",
   "metadata": {},
   "source": [
    "# Locally submit dynamic form"
   ]
  },
  {
   "cell_type": "code",
   "execution_count": 61,
   "metadata": {},
   "outputs": [],
   "source": [
    "\n",
    "def _resolve_ref(schema, ref):\n",
    "    \"\"\"Given a schema and a JSON pointer, resolve and return the referenced schema.\"\"\"\n",
    "    parts = ref.lstrip('#/').split('/')\n",
    "    target = schema\n",
    "    for part in parts:\n",
    "        target = target[part]\n",
    "    return target\n",
    "\n",
    "def _get_schema_for_loc(schema, loc):\n",
    "    \"\"\"\n",
    "    Traverse schema following the err['loc'], resolving refs as needed.\n",
    "    Returns the field schema dict (where 'description', 'title', etc. live).\n",
    "    \"\"\"\n",
    "    node = schema\n",
    "    for i, part in enumerate(loc):\n",
    "        # If $ref exists at this level, resolve it before going further\n",
    "        if \"$ref\" in node.get(\"properties\", {}).get(part, {}):\n",
    "            node = _resolve_ref(schema, node[\"properties\"][part][\"$ref\"])\n",
    "        elif i < len(loc) - 1:\n",
    "            # Go to next level down (should be an object property)\n",
    "            node = node[\"properties\"][part]\n",
    "            # If this node is a $ref (and not directly on .properties), resolve\n",
    "            if \"$ref\" in node:\n",
    "                node = _resolve_ref(schema, node[\"$ref\"])\n",
    "        else:\n",
    "            # Last part is the field itself\n",
    "            node = node[\"properties\"].get(part, {})\n",
    "    return node\n",
    "\n",
    "\n",
    "def _extract_field_info(schema, loc):\n",
    "    \"\"\"Returns title, description, enum for the field at loc in schema.\"\"\"\n",
    "    field_schema = _get_schema_for_loc(schema, loc)\n",
    "    return (\n",
    "        field_schema.get(\"title\", loc[-1]),\n",
    "        field_schema.get(\"description\", \"\"),\n",
    "        field_schema.get(\"enum\", [])\n",
    "    )"
   ]
  },
  {
   "cell_type": "code",
   "execution_count": 66,
   "metadata": {},
   "outputs": [
    {
     "name": "stdout",
     "output_type": "stream",
     "text": [
      "submission failed:\n",
      "Please provide a value for 'attribute_70 (Hersteller)'  (allowed: Samsung, Apple, Huawei, Xiaomi, Acer, AEG, Alcatel, Allview, Amica, Asus, ATAG, Bauknecht, BEKO, Blackberry, Blomberg, Bomann, Bosch (BSH), Candy, Canon, CAT, Caterpillar, Clatronic, Constructa, Cubot, DELL, Doro, Electrolux, Elektra Bregenz, Epson, Exquisit, Fagor, Fairphone, Fujifilm, Fujitsu, Gaggenau, Gigaset, Google, GoPro, Gorenje, Grundig, Haier, Hewlett Packard/HP, Honor, Hoover, HTC, Ignis, Ikea, Indesit, ISY, Juno, Koenic, Körting, Küppersbusch, Leica, Lenovo, LG, Liebherr, Microsoft, Miele, Motorola, Neff, Nikon, Nokia, ok, Olympus, OnePlus, OPPO, Oranier, Panasonic, PEAQ, Privileg, Progress, Schaub Lorenz, Sharp, Sibir, Siemens, Smeg, Sony, Teka, Termikel, UleFone, Vivo, Whirlpool, Wiko, Zanker, Zanussi, ZTE, Sonstige). Possible values: Samsung, Apple, Huawei, Xiaomi, Acer, AEG, Alcatel, Allview, Amica, Asus, ATAG, Bauknecht, BEKO, Blackberry, Blomberg, Bomann, Bosch (BSH), Candy, Canon, CAT, Caterpillar, Clatronic, Constructa, Cubot, DELL, Doro, Electrolux, Elektra Bregenz, Epson, Exquisit, Fagor, Fairphone, Fujifilm, Fujitsu, Gaggenau, Gigaset, Google, GoPro, Gorenje, Grundig, Haier, Hewlett Packard/HP, Honor, Hoover, HTC, Ignis, Ikea, Indesit, ISY, Juno, Koenic, Körting, Küppersbusch, Leica, Lenovo, LG, Liebherr, Microsoft, Miele, Motorola, Neff, Nikon, Nokia, ok, Olympus, OnePlus, OPPO, Oranier, Panasonic, PEAQ, Privileg, Progress, Schaub Lorenz, Sharp, Sibir, Siemens, Smeg, Sony, Teka, Termikel, UleFone, Vivo, Whirlpool, Wiko, Zanker, Zanussi, ZTE, Sonstige\n",
      "This is the full schema: {'$defs': {'Attributes': {'properties': {'attribute_331': {'default': 'Handy/Smartphone', 'description': ' (allowed: Handy/Smartphone, Tablet, Smartwatch)', 'enum': ['Handy/Smartphone', 'Tablet', 'Smartwatch'], 'title': 'Gerätetyp', 'type': 'string'}}, 'title': 'Attributes', 'type': 'object'}, 'Modules': {'properties': {'attribute_604': {'anyOf': [{'type': 'boolean'}, {'type': 'null'}], 'default': False, 'description': '', 'title': 'Ich kenne meine IMEI-/Seriennummer noch nicht'}, 'attribute_67': {'anyOf': [{'type': 'string'}, {'type': 'null'}], 'default': '', 'description': '', 'title': 'IMEI-/Seriennummer'}, 'attribute_3730': {'default': '501 - 750 €', 'description': ' (allowed: 0 - 250 €, 251 - 500 €, 501 - 750 €, 751 - 1.000 €, 1.001 - 1.250 €, 1.251 - 1.500 €, 1.501 - 1.750 €, 1.751 - 2.000 €, 2.001 - 2.500 €, 2.501 - 3.000 €)', 'enum': ['0 - 250 €', '251 - 500 €', '501 - 750 €', '751 - 1.000 €', '1.001 - 1.250 €', '1.251 - 1.500 €', '1.501 - 1.750 €', '1.751 - 2.000 €', '2.001 - 2.500 €', '2.501 - 3.000 €'], 'title': 'Unsubventionierter Kaufpreis', 'type': 'string'}, 'attribute_3733': {'default': 'bis 2 Wochen', 'description': ' (allowed: bis 2 Wochen, 2 Wochen bis 6 Wochen, 6 Wochen bis halbes Jahr, halbes Jahr bis 1 Jahr, 1 Jahr bis 2 Jahre, älter als 2 Jahre)', 'enum': ['bis 2 Wochen', '2 Wochen bis 6 Wochen', '6 Wochen bis halbes Jahr', 'halbes Jahr bis 1 Jahr', '1 Jahr bis 2 Jahre', 'älter als 2 Jahre'], 'title': 'Gerätealter', 'type': 'string'}, 'attribute_70': {'description': ' (allowed: Samsung, Apple, Huawei, Xiaomi, Acer, AEG, Alcatel, Allview, Amica, Asus, ATAG, Bauknecht, BEKO, Blackberry, Blomberg, Bomann, Bosch (BSH), Candy, Canon, CAT, Caterpillar, Clatronic, Constructa, Cubot, DELL, Doro, Electrolux, Elektra Bregenz, Epson, Exquisit, Fagor, Fairphone, Fujifilm, Fujitsu, Gaggenau, Gigaset, Google, GoPro, Gorenje, Grundig, Haier, Hewlett Packard/HP, Honor, Hoover, HTC, Ignis, Ikea, Indesit, ISY, Juno, Koenic, Körting, Küppersbusch, Leica, Lenovo, LG, Liebherr, Microsoft, Miele, Motorola, Neff, Nikon, Nokia, ok, Olympus, OnePlus, OPPO, Oranier, Panasonic, PEAQ, Privileg, Progress, Schaub Lorenz, Sharp, Sibir, Siemens, Smeg, Sony, Teka, Termikel, UleFone, Vivo, Whirlpool, Wiko, Zanker, Zanussi, ZTE, Sonstige)', 'enum': ['Samsung', 'Apple', 'Huawei', 'Xiaomi', 'Acer', 'AEG', 'Alcatel', 'Allview', 'Amica', 'Asus', 'ATAG', 'Bauknecht', 'BEKO', 'Blackberry', 'Blomberg', 'Bomann', 'Bosch (BSH)', 'Candy', 'Canon', 'CAT', 'Caterpillar', 'Clatronic', 'Constructa', 'Cubot', 'DELL', 'Doro', 'Electrolux', 'Elektra Bregenz', 'Epson', 'Exquisit', 'Fagor', 'Fairphone', 'Fujifilm', 'Fujitsu', 'Gaggenau', 'Gigaset', 'Google', 'GoPro', 'Gorenje', 'Grundig', 'Haier', 'Hewlett Packard/HP', 'Honor', 'Hoover', 'HTC', 'Ignis', 'Ikea', 'Indesit', 'ISY', 'Juno', 'Koenic', 'Körting', 'Küppersbusch', 'Leica', 'Lenovo', 'LG', 'Liebherr', 'Microsoft', 'Miele', 'Motorola', 'Neff', 'Nikon', 'Nokia', 'ok', 'Olympus', 'OnePlus', 'OPPO', 'Oranier', 'Panasonic', 'PEAQ', 'Privileg', 'Progress', 'Schaub Lorenz', 'Sharp', 'Sibir', 'Siemens', 'Smeg', 'Sony', 'Teka', 'Termikel', 'UleFone', 'Vivo', 'Whirlpool', 'Wiko', 'Zanker', 'Zanussi', 'ZTE', 'Sonstige'], 'title': 'Hersteller', 'type': 'string'}, 'attribute_217': {'anyOf': [{'type': 'string'}, {'type': 'null'}], 'default': '', 'description': '', 'title': 'Herstellername'}, 'attribute_130': {'default': '', 'description': '', 'title': 'Modell', 'type': 'string'}, 'attribute_16': {'default': 24, 'description': ' (must be integer)', 'title': 'Herstellergarantie (Monate)', 'type': 'integer'}}, 'required': ['attribute_70'], 'title': 'Modules', 'type': 'object'}}, 'properties': {'attributes': {'$ref': '#/$defs/Attributes'}, 'modules': {'$ref': '#/$defs/Modules'}}, 'required': ['attributes', 'modules'], 'title': 'Form', 'type': 'object'}\n"
     ]
    }
   ],
   "source": [
    "from pydantic import ValidationError\n",
    "\n",
    "try: \n",
    "    form = Form(**json.loads(json_form))\n",
    "    print(f\"successfully processed {form.model_dump_json()}\")\n",
    "except ValidationError as e:\n",
    "    schema = Form.model_json_schema()\n",
    "    suggestions = []\n",
    "    for err in e.errors():\n",
    "        loc = err[\"loc\"]\n",
    "        title, description, choices = _extract_field_info(schema, loc)\n",
    "        suggestion = f\"Please provide a value for '{loc[-1]} ({title})'\"\n",
    "        if description:\n",
    "            suggestion += f\" {description}\"\n",
    "        if choices:\n",
    "            suggestion += f\". Possible values: {', '.join(choices)}\"\n",
    "        suggestions.append(suggestion)\n",
    "    print(\"submission failed:\\n\" + \"\\n\".join(suggestions) + f\"\\nThis is the full schema: {schema}\") "
   ]
  },
  {
   "cell_type": "markdown",
   "metadata": {},
   "source": [
    "# get dynamic schema from MCP and submit compliant form"
   ]
  },
  {
   "cell_type": "code",
   "execution_count": 99,
   "metadata": {},
   "outputs": [
    {
     "name": "stdout",
     "output_type": "stream",
     "text": [
      "{\"$defs\": {\"Address\": {\"properties\": {\"typeId\": {\"description\": \"Address type. -10 = Private, -11 = Business, -12 = Billing, -13 = Delivery\", \"title\": \"Typeid\", \"type\": \"integer\"}, \"street\": {\"description\": \"Street (without house number)\", \"title\": \"Street\", \"type\": \"string\"}, \"streetNumber\": {\"description\": \"House number\", \"title\": \"Streetnumber\", \"type\": \"string\"}, \"addition\": {\"anyOf\": [{\"type\": \"string\"}, {\"type\": \"null\"}], \"default\": null, \"description\": \"Additional info (e.g. '2nd floor')\", \"title\": \"Addition\"}, \"zipcode\": {\"description\": \"Postal code\", \"title\": \"Zipcode\", \"type\": \"string\"}, \"city\": {\"description\": \"City name\", \"title\": \"City\", \"type\": \"string\"}, \"countryCode\": {\"description\": \"2-char ISO country code (e.g. DE)\", \"maxLength\": 2, \"minLength\": 2, \"title\": \"Countrycode\", \"type\": \"string\"}}, \"required\": [\"typeId\", \"street\", \"streetNumber\", \"zipcode\", \"city\", \"countryCode\"], \"title\": \"Address\", \"type\": \"object\"}, \"Attributes\": {\"properties\": {\"attribute_331\": {\"default\": \"Handy/Smartphone\", \"description\": \" (allowed: Handy/Smartphone, Tablet, Smartwatch)\", \"enum\": [\"Handy/Smartphone\", \"Tablet\", \"Smartwatch\"], \"title\": \"Ger\\u00e4tetyp\", \"type\": \"string\"}}, \"title\": \"Attributes\", \"type\": \"object\"}, \"ContactInfo\": {\"properties\": {\"typeId\": {\"description\": \"Contact type. -21=Mobile, -20=Landline, -23=Email, -22=Fax\", \"title\": \"Typeid\", \"type\": \"integer\"}, \"value\": {\"description\": \"Contact value: phone/email/etc.\", \"title\": \"Value\", \"type\": \"string\"}}, \"required\": [\"typeId\", \"value\"], \"title\": \"ContactInfo\", \"type\": \"object\"}, \"Modules\": {\"properties\": {\"attribute_604\": {\"anyOf\": [{\"type\": \"boolean\"}, {\"type\": \"null\"}], \"default\": false, \"description\": \"\", \"title\": \"Ich kenne meine IMEI-/Seriennummer noch nicht\"}, \"attribute_67\": {\"anyOf\": [{\"type\": \"string\"}, {\"type\": \"null\"}], \"default\": \"\", \"description\": \"\", \"title\": \"IMEI-/Seriennummer\"}, \"attribute_3730\": {\"default\": \"501 - 750 \\u20ac\", \"description\": \" (allowed: 0 - 250 \\u20ac, 251 - 500 \\u20ac, 501 - 750 \\u20ac, 751 - 1.000 \\u20ac, 1.001 - 1.250 \\u20ac, 1.251 - 1.500 \\u20ac, 1.501 - 1.750 \\u20ac, 1.751 - 2.000 \\u20ac, 2.001 - 2.500 \\u20ac, 2.501 - 3.000 \\u20ac)\", \"enum\": [\"0 - 250 \\u20ac\", \"251 - 500 \\u20ac\", \"501 - 750 \\u20ac\", \"751 - 1.000 \\u20ac\", \"1.001 - 1.250 \\u20ac\", \"1.251 - 1.500 \\u20ac\", \"1.501 - 1.750 \\u20ac\", \"1.751 - 2.000 \\u20ac\", \"2.001 - 2.500 \\u20ac\", \"2.501 - 3.000 \\u20ac\"], \"title\": \"Unsubventionierter Kaufpreis\", \"type\": \"string\"}, \"attribute_3733\": {\"default\": \"bis 2 Wochen\", \"description\": \" (allowed: bis 2 Wochen, 2 Wochen bis 6 Wochen, 6 Wochen bis halbes Jahr, halbes Jahr bis 1 Jahr, 1 Jahr bis 2 Jahre, \\u00e4lter als 2 Jahre)\", \"enum\": [\"bis 2 Wochen\", \"2 Wochen bis 6 Wochen\", \"6 Wochen bis halbes Jahr\", \"halbes Jahr bis 1 Jahr\", \"1 Jahr bis 2 Jahre\", \"\\u00e4lter als 2 Jahre\"], \"title\": \"Ger\\u00e4tealter\", \"type\": \"string\"}, \"attribute_70\": {\"description\": \" (allowed: Samsung, Apple, Huawei, Xiaomi, Acer, AEG, Alcatel, Allview, Amica, Asus, ATAG, Bauknecht, BEKO, Blackberry, Blomberg, Bomann, Bosch (BSH), Candy, Canon, CAT, Caterpillar, Clatronic, Constructa, Cubot, DELL, Doro, Electrolux, Elektra Bregenz, Epson, Exquisit, Fagor, Fairphone, Fujifilm, Fujitsu, Gaggenau, Gigaset, Google, GoPro, Gorenje, Grundig, Haier, Hewlett Packard/HP, Honor, Hoover, HTC, Ignis, Ikea, Indesit, ISY, Juno, Koenic, K\\u00f6rting, K\\u00fcppersbusch, Leica, Lenovo, LG, Liebherr, Microsoft, Miele, Motorola, Neff, Nikon, Nokia, ok, Olympus, OnePlus, OPPO, Oranier, Panasonic, PEAQ, Privileg, Progress, Schaub Lorenz, Sharp, Sibir, Siemens, Smeg, Sony, Teka, Termikel, UleFone, Vivo, Whirlpool, Wiko, Zanker, Zanussi, ZTE, Sonstige)\", \"enum\": [\"Samsung\", \"Apple\", \"Huawei\", \"Xiaomi\", \"Acer\", \"AEG\", \"Alcatel\", \"Allview\", \"Amica\", \"Asus\", \"ATAG\", \"Bauknecht\", \"BEKO\", \"Blackberry\", \"Blomberg\", \"Bomann\", \"Bosch (BSH)\", \"Candy\", \"Canon\", \"CAT\", \"Caterpillar\", \"Clatronic\", \"Constructa\", \"Cubot\", \"DELL\", \"Doro\", \"Electrolux\", \"Elektra Bregenz\", \"Epson\", \"Exquisit\", \"Fagor\", \"Fairphone\", \"Fujifilm\", \"Fujitsu\", \"Gaggenau\", \"Gigaset\", \"Google\", \"GoPro\", \"Gorenje\", \"Grundig\", \"Haier\", \"Hewlett Packard/HP\", \"Honor\", \"Hoover\", \"HTC\", \"Ignis\", \"Ikea\", \"Indesit\", \"ISY\", \"Juno\", \"Koenic\", \"K\\u00f6rting\", \"K\\u00fcppersbusch\", \"Leica\", \"Lenovo\", \"LG\", \"Liebherr\", \"Microsoft\", \"Miele\", \"Motorola\", \"Neff\", \"Nikon\", \"Nokia\", \"ok\", \"Olympus\", \"OnePlus\", \"OPPO\", \"Oranier\", \"Panasonic\", \"PEAQ\", \"Privileg\", \"Progress\", \"Schaub Lorenz\", \"Sharp\", \"Sibir\", \"Siemens\", \"Smeg\", \"Sony\", \"Teka\", \"Termikel\", \"UleFone\", \"Vivo\", \"Whirlpool\", \"Wiko\", \"Zanker\", \"Zanussi\", \"ZTE\", \"Sonstige\"], \"title\": \"Hersteller\", \"type\": \"string\"}, \"attribute_217\": {\"anyOf\": [{\"type\": \"string\"}, {\"type\": \"null\"}], \"default\": \"\", \"description\": \"\", \"title\": \"Herstellername\"}, \"attribute_130\": {\"default\": \"\", \"description\": \"\", \"title\": \"Modell\", \"type\": \"string\"}, \"attribute_16\": {\"default\": 24, \"description\": \" (must be integer)\", \"title\": \"Herstellergarantie (Monate)\", \"type\": \"integer\"}}, \"required\": [\"attribute_70\"], \"title\": \"Modules\", \"type\": \"object\"}, \"PaymentProvider\": {\"properties\": {\"providerType\": {\"description\": \"Type of payment service provider. Possible values: -160 = Credit card, -161 = Bank, -162 = Amazon Pay, -163 = PayPal, -165 = Google Pay\", \"title\": \"Providertype\", \"type\": \"integer\"}, \"providerNumber\": {\"anyOf\": [{\"type\": \"string\"}, {\"type\": \"null\"}], \"default\": null, \"description\": \"BIC of the bank, necessary for intern'ational accounts only\", \"title\": \"Providernumber\"}, \"providerName\": {\"anyOf\": [{\"type\": \"string\"}, {\"type\": \"null\"}], \"default\": null, \"description\": \"Possible values: Name of bank, 'VISA', 'AMEX', ...\", \"title\": \"Providername\"}, \"accountNumber\": {\"anyOf\": [{\"type\": \"string\"}, {\"type\": \"null\"}], \"default\": null, \"description\": \"IBAN, credit card number or payment id (associated email for online payment services)\", \"title\": \"Accountnumber\"}, \"accountOwner\": {\"anyOf\": [{\"type\": \"string\"}, {\"type\": \"null\"}], \"default\": null, \"description\": \"Name of account owner\", \"title\": \"Accountowner\"}, \"expirationDate\": {\"anyOf\": [{\"type\": \"string\"}, {\"type\": \"null\"}], \"default\": null, \"description\": \"Needed when providerType=-160\", \"title\": \"Expirationdate\"}}, \"required\": [\"providerType\"], \"title\": \"PaymentProvider\", \"type\": \"object\"}, \"Person\": {\"properties\": {\"typeId\": {\"description\": \"Person type: -2101 main, -30 company\", \"title\": \"Typeid\", \"type\": \"integer\"}, \"salutationId\": {\"anyOf\": [{\"type\": \"integer\"}, {\"type\": \"null\"}], \"default\": null, \"description\": \"Salutation ID, required for individuals\", \"title\": \"Salutationid\"}, \"title\": {\"anyOf\": [{\"type\": \"string\"}, {\"type\": \"null\"}], \"default\": null, \"description\": \"Title such as Dr., Prof., etc.\", \"title\": \"Title\"}, \"firstName\": {\"anyOf\": [{\"type\": \"string\"}, {\"type\": \"null\"}], \"default\": null, \"description\": \"First name. Not for companies.\", \"title\": \"Firstname\"}, \"lastName\": {\"description\": \"Last name or company name\", \"title\": \"Lastname\", \"type\": \"string\"}, \"dateOfBirth\": {\"anyOf\": [{\"pattern\": \"^\\\\d{4}-\\\\d{2}-\\\\d{2}$\", \"type\": \"string\"}, {\"type\": \"null\"}], \"default\": null, \"description\": \"Date of birth (YYYY-MM-DD)\", \"title\": \"Dateofbirth\"}, \"addresses\": {\"description\": \"Addresses of the person\", \"items\": {\"$ref\": \"#/$defs/Address\"}, \"title\": \"Addresses\", \"type\": \"array\"}, \"contactInformations\": {\"description\": \"Contact info (phone, email, etc.)\", \"items\": {\"$ref\": \"#/$defs/ContactInfo\"}, \"title\": \"Contactinformations\", \"type\": \"array\"}}, \"required\": [\"typeId\", \"lastName\"], \"title\": \"Person\", \"type\": \"object\"}}, \"properties\": {\"Person\": {\"$ref\": \"#/$defs/Person\"}, \"Payment\": {\"$ref\": \"#/$defs/PaymentProvider\"}, \"Attributes\": {\"$ref\": \"#/$defs/Attributes\"}, \"Modules\": {\"$ref\": \"#/$defs/Modules\"}}, \"required\": [\"Person\", \"Payment\", \"Attributes\", \"Modules\"], \"title\": \"Form_3424\", \"type\": \"object\"}\n"
     ]
    }
   ],
   "source": [
    "from fastmcp.client.transports import StreamableHttpTransport\n",
    "\n",
    "# id = 64\n",
    "# id = 3415\n",
    "id = 3424\n",
    "# id = 3436\n",
    "# id = 3448\n",
    "# id = 3571\n",
    "# id = 3610\n",
    "\n",
    "transport = StreamableHttpTransport(\n",
    "    url=server_url,\n",
    "    headers={\n",
    "        \"X-Mantix-Session\": \"my-mantix-backend-session\"\n",
    "    }\n",
    ")\n",
    "\n",
    "async with Client(transport) as client:\n",
    "    params = {\"form_id\": str(id)}\n",
    "    result = await client.call_tool_mcp(\"get_form\", params)\n",
    "    json_schema = result.content[0].text\n",
    "    print(json_schema)"
   ]
  },
  {
   "cell_type": "code",
   "execution_count": 100,
   "metadata": {},
   "outputs": [
    {
     "name": "stdout",
     "output_type": "stream",
     "text": [
      "```\n",
      "{\n",
      "  \"Modules\": {\n",
      "    \"attribute_70\": \"Samsung\",\n",
      "    \"attribute_16\": 12,\n",
      "    \"attribute_67\": \"123456789012345\",\n",
      "    \"attribute_3730\": \"501 - 750 €\"\n",
      "  }\n",
      "}\n",
      "```\n"
     ]
    }
   ],
   "source": [
    "# generate data \n",
    "from openai import OpenAI\n",
    "import os\n",
    "import sys\n",
    "sys.path.append(os.path.abspath(\"..\"))\n",
    "from dotenv import load_dotenv\n",
    "load_dotenv()\n",
    "\n",
    "model = os.getenv(\"STACKIT_MODEL_ID\")\n",
    "key = os.getenv(\"STACKIT_KEY\")\n",
    "base = os.getenv(\"STACKIT_BASE\")\n",
    "\n",
    "messages = [\n",
    "    {\"role\":\"system\", \"content\": (f\"You are a technical function that converts user information into this pydantic object: {json_schema}\"\n",
    "                                  \"Ommitt missing fields, unless their values are obvious. Rather respond with incomplete objects (but valid json)\"\n",
    "                                  \"Do not comment on the response, do not provide different options - just return the object.\")}, \n",
    "    {\"role\":\"user\", \"content\": f\"Ich hab gestern für 650€ ein neues Samsung Handy mit 12 Monaten Garantie gekauft. Die IMEI ist 123456789012345.\"},     \n",
    "    # {\"role\":\"assistant\", \"content\": '{\"Modules\": {\"attribute_67\": \"123456789012345\", \"attribute_70\": \"Samsung\", \"attribute_16\": 12, \"attribute_3730\": \"501 - 750 €\"}'},     \n",
    "    # {\"role\":\"tool\", \"content\": \"submission failed: Please provide a value for 'Attributes (Attributes)' This is the full schema: {'$defs': {'Attributes': {'properties': {'attribute_331': {'default': 'Handy/Smartphone', 'description': ' (allowed: Handy/Smartphone, Tablet, Smartwatch)', 'enum': ['Handy/Smartphone', 'Tablet', 'Smartwatch'], 'title': 'Gerätetyp', 'type': 'string'}}, 'title': 'Attributes', 'type': 'object'}, 'Modules': {'properties': {'attribute_604': {'anyOf': [{'type': 'boolean'}, {'type': 'null'}], 'default': False, 'description': '', 'title': 'Ich kenne meine IMEI-/Seriennummer noch nicht'}, 'attribute_67': {'anyOf': [{'type': 'string'}, {'type': 'null'}], 'default': '', 'description': '', 'title': 'IMEI-/Seriennummer'}, 'attribute_3730': {'default': '501 - 750 €', 'description': ' (allowed: 0 - 250 €, 251 - 500 €, 501 - 750 €, 751 - 1.000 €, 1.001 - 1.250 €, 1.251 - 1.500 €, 1.501 - 1.750 €, 1.751 - 2.000 €, 2.001 - 2.500 €, 2.501 - 3.000 €)', 'enum': ['0 - 250 €', '251 - 500 €', '501 - 750 €', '751 - 1.000 €', '1.001 - 1.250 €', '1.251 - 1.500 €', '1.501 - 1.750 €', '1.751 - 2.000 €', '2.001 - 2.500 €', '2.501 - 3.000 €'], 'title': 'Unsubventionierter Kaufpreis', 'type': 'string'}, 'attribute_3733': {'default': 'bis 2 Wochen', 'description': ' (allowed: bis 2 Wochen, 2 Wochen bis 6 Wochen, 6 Wochen bis halbes Jahr, halbes Jahr bis 1 Jahr, 1 Jahr bis 2 Jahre, älter als 2 Jahre)', 'enum': ['bis 2 Wochen', '2 Wochen bis 6 Wochen', '6 Wochen bis halbes Jahr', 'halbes Jahr bis 1 Jahr', '1 Jahr bis 2 Jahre', 'älter als 2 Jahre'], 'title': 'Gerätealter', 'type': 'string'}, 'attribute_70': {'description': ' (allowed: Samsung, Apple, Huawei, Xiaomi, Acer, AEG, Alcatel, Allview, Amica, Asus, ATAG, Bauknecht, BEKO, Blackberry, Blomberg, Bomann, Bosch (BSH), Candy, Canon, CAT, Caterpillar, Clatronic, Constructa, Cubot, DELL, Doro, Electrolux, Elektra Bregenz, Epson, Exquisit, Fagor, Fairphone, Fujifilm, Fujitsu, Gaggenau, Gigaset, Google, GoPro, Gorenje, Grundig, Haier, Hewlett Packard/HP, Honor, Hoover, HTC, Ignis, Ikea, Indesit, ISY, Juno, Koenic, Körting, Küppersbusch, Leica, Lenovo, LG, Liebherr, Microsoft, Miele, Motorola, Neff, Nikon, Nokia, ok, Olympus, OnePlus, OPPO, Oranier, Panasonic, PEAQ, Privileg, Progress, Schaub Lorenz, Sharp, Sibir, Siemens, Smeg, Sony, Teka, Termikel, UleFone, Vivo, Whirlpool, Wiko, Zanker, Zanussi, ZTE, Sonstige)', 'enum': ['Samsung', 'Apple', 'Huawei', 'Xiaomi', 'Acer', 'AEG', 'Alcatel', 'Allview', 'Amica', 'Asus', 'ATAG', 'Bauknecht', 'BEKO', 'Blackberry', 'Blomberg', 'Bomann', 'Bosch (BSH)', 'Candy', 'Canon', 'CAT', 'Caterpillar', 'Clatronic', 'Constructa', 'Cubot', 'DELL', 'Doro', 'Electrolux', 'Elektra Bregenz', 'Epson', 'Exquisit', 'Fagor', 'Fairphone', 'Fujifilm', 'Fujitsu', 'Gaggenau', 'Gigaset', 'Google', 'GoPro', 'Gorenje', 'Grundig', 'Haier', 'Hewlett Packard/HP', 'Honor', 'Hoover', 'HTC', 'Ignis', 'Ikea', 'Indesit', 'ISY', 'Juno', 'Koenic', 'Körting', 'Küppersbusch', 'Leica', 'Lenovo', 'LG', 'Liebherr', 'Microsoft', 'Miele', 'Motorola', 'Neff', 'Nikon', 'Nokia', 'ok', 'Olympus', 'OnePlus', 'OPPO', 'Oranier', 'Panasonic', 'PEAQ', 'Privileg', 'Progress', 'Schaub Lorenz', 'Sharp', 'Sibir', 'Siemens', 'Smeg', 'Sony', 'Teka', 'Termikel', 'UleFone', 'Vivo', 'Whirlpool', 'Wiko', 'Zanker', 'Zanussi', 'ZTE', 'Sonstige'], 'title': 'Hersteller', 'type': 'string'}, 'attribute_217': {'anyOf': [{'type': 'string'}, {'type': 'null'}], 'default': '', 'description': '', 'title': 'Herstellername'}, 'attribute_130': {'default': '', 'description': '', 'title': 'Modell', 'type': 'string'}, 'attribute_16': {'default': 24, 'description': ' (must be integer)', 'title': 'Herstellergarantie (Monate)', 'type': 'integer'}}, 'required': ['attribute_70'], 'title': 'Modules', 'type': 'object'}}, 'properties': {'Attributes': {'$ref': '#/$defs/Attributes'}, 'Modules': {'$ref': '#/$defs/Modules'}}, 'required': ['Attributes', 'Modules'], 'title': 'Form_3424', 'type': 'object'}\"},     \n",
    "]\n",
    "\n",
    "client = OpenAI(base_url=base, api_key=key)\n",
    "response = client.chat.completions.create(model=model, messages=messages)\n",
    "json_form = response.choices[0].message.content\n",
    "print(json_form)"
   ]
  },
  {
   "cell_type": "code",
   "execution_count": 101,
   "metadata": {},
   "outputs": [
    {
     "name": "stdout",
     "output_type": "stream",
     "text": [
      "submission failed:\n",
      "Please provide a value for 'Person (Person)'\n",
      "Please provide a value for 'Payment (PaymentProvider)'\n",
      "Please provide a value for 'Attributes (Attributes)'\n",
      "This is the full schema: {'$defs': {'Address': {'properties': {'typeId': {'description': 'Address type. -10 = Private, -11 = Business, -12 = Billing, -13 = Delivery', 'title': 'Typeid', 'type': 'integer'}, 'street': {'description': 'Street (without house number)', 'title': 'Street', 'type': 'string'}, 'streetNumber': {'description': 'House number', 'title': 'Streetnumber', 'type': 'string'}, 'addition': {'anyOf': [{'type': 'string'}, {'type': 'null'}], 'default': None, 'description': \"Additional info (e.g. '2nd floor')\", 'title': 'Addition'}, 'zipcode': {'description': 'Postal code', 'title': 'Zipcode', 'type': 'string'}, 'city': {'description': 'City name', 'title': 'City', 'type': 'string'}, 'countryCode': {'description': '2-char ISO country code (e.g. DE)', 'maxLength': 2, 'minLength': 2, 'title': 'Countrycode', 'type': 'string'}}, 'required': ['typeId', 'street', 'streetNumber', 'zipcode', 'city', 'countryCode'], 'title': 'Address', 'type': 'object'}, 'Attributes': {'properties': {'attribute_331': {'default': 'Handy/Smartphone', 'description': ' (allowed: Handy/Smartphone, Tablet, Smartwatch)', 'enum': ['Handy/Smartphone', 'Tablet', 'Smartwatch'], 'title': 'Gerätetyp', 'type': 'string'}}, 'title': 'Attributes', 'type': 'object'}, 'ContactInfo': {'properties': {'typeId': {'description': 'Contact type. -21=Mobile, -20=Landline, -23=Email, -22=Fax', 'title': 'Typeid', 'type': 'integer'}, 'value': {'description': 'Contact value: phone/email/etc.', 'title': 'Value', 'type': 'string'}}, 'required': ['typeId', 'value'], 'title': 'ContactInfo', 'type': 'object'}, 'Modules': {'properties': {'attribute_604': {'anyOf': [{'type': 'boolean'}, {'type': 'null'}], 'default': False, 'description': '', 'title': 'Ich kenne meine IMEI-/Seriennummer noch nicht'}, 'attribute_67': {'anyOf': [{'type': 'string'}, {'type': 'null'}], 'default': '', 'description': '', 'title': 'IMEI-/Seriennummer'}, 'attribute_3730': {'default': '501 - 750 €', 'description': ' (allowed: 0 - 250 €, 251 - 500 €, 501 - 750 €, 751 - 1.000 €, 1.001 - 1.250 €, 1.251 - 1.500 €, 1.501 - 1.750 €, 1.751 - 2.000 €, 2.001 - 2.500 €, 2.501 - 3.000 €)', 'enum': ['0 - 250 €', '251 - 500 €', '501 - 750 €', '751 - 1.000 €', '1.001 - 1.250 €', '1.251 - 1.500 €', '1.501 - 1.750 €', '1.751 - 2.000 €', '2.001 - 2.500 €', '2.501 - 3.000 €'], 'title': 'Unsubventionierter Kaufpreis', 'type': 'string'}, 'attribute_3733': {'default': 'bis 2 Wochen', 'description': ' (allowed: bis 2 Wochen, 2 Wochen bis 6 Wochen, 6 Wochen bis halbes Jahr, halbes Jahr bis 1 Jahr, 1 Jahr bis 2 Jahre, älter als 2 Jahre)', 'enum': ['bis 2 Wochen', '2 Wochen bis 6 Wochen', '6 Wochen bis halbes Jahr', 'halbes Jahr bis 1 Jahr', '1 Jahr bis 2 Jahre', 'älter als 2 Jahre'], 'title': 'Gerätealter', 'type': 'string'}, 'attribute_70': {'description': ' (allowed: Samsung, Apple, Huawei, Xiaomi, Acer, AEG, Alcatel, Allview, Amica, Asus, ATAG, Bauknecht, BEKO, Blackberry, Blomberg, Bomann, Bosch (BSH), Candy, Canon, CAT, Caterpillar, Clatronic, Constructa, Cubot, DELL, Doro, Electrolux, Elektra Bregenz, Epson, Exquisit, Fagor, Fairphone, Fujifilm, Fujitsu, Gaggenau, Gigaset, Google, GoPro, Gorenje, Grundig, Haier, Hewlett Packard/HP, Honor, Hoover, HTC, Ignis, Ikea, Indesit, ISY, Juno, Koenic, Körting, Küppersbusch, Leica, Lenovo, LG, Liebherr, Microsoft, Miele, Motorola, Neff, Nikon, Nokia, ok, Olympus, OnePlus, OPPO, Oranier, Panasonic, PEAQ, Privileg, Progress, Schaub Lorenz, Sharp, Sibir, Siemens, Smeg, Sony, Teka, Termikel, UleFone, Vivo, Whirlpool, Wiko, Zanker, Zanussi, ZTE, Sonstige)', 'enum': ['Samsung', 'Apple', 'Huawei', 'Xiaomi', 'Acer', 'AEG', 'Alcatel', 'Allview', 'Amica', 'Asus', 'ATAG', 'Bauknecht', 'BEKO', 'Blackberry', 'Blomberg', 'Bomann', 'Bosch (BSH)', 'Candy', 'Canon', 'CAT', 'Caterpillar', 'Clatronic', 'Constructa', 'Cubot', 'DELL', 'Doro', 'Electrolux', 'Elektra Bregenz', 'Epson', 'Exquisit', 'Fagor', 'Fairphone', 'Fujifilm', 'Fujitsu', 'Gaggenau', 'Gigaset', 'Google', 'GoPro', 'Gorenje', 'Grundig', 'Haier', 'Hewlett Packard/HP', 'Honor', 'Hoover', 'HTC', 'Ignis', 'Ikea', 'Indesit', 'ISY', 'Juno', 'Koenic', 'Körting', 'Küppersbusch', 'Leica', 'Lenovo', 'LG', 'Liebherr', 'Microsoft', 'Miele', 'Motorola', 'Neff', 'Nikon', 'Nokia', 'ok', 'Olympus', 'OnePlus', 'OPPO', 'Oranier', 'Panasonic', 'PEAQ', 'Privileg', 'Progress', 'Schaub Lorenz', 'Sharp', 'Sibir', 'Siemens', 'Smeg', 'Sony', 'Teka', 'Termikel', 'UleFone', 'Vivo', 'Whirlpool', 'Wiko', 'Zanker', 'Zanussi', 'ZTE', 'Sonstige'], 'title': 'Hersteller', 'type': 'string'}, 'attribute_217': {'anyOf': [{'type': 'string'}, {'type': 'null'}], 'default': '', 'description': '', 'title': 'Herstellername'}, 'attribute_130': {'default': '', 'description': '', 'title': 'Modell', 'type': 'string'}, 'attribute_16': {'default': 24, 'description': ' (must be integer)', 'title': 'Herstellergarantie (Monate)', 'type': 'integer'}}, 'required': ['attribute_70'], 'title': 'Modules', 'type': 'object'}, 'PaymentProvider': {'properties': {'providerType': {'description': 'Type of payment service provider. Possible values: -160 = Credit card, -161 = Bank, -162 = Amazon Pay, -163 = PayPal, -165 = Google Pay', 'title': 'Providertype', 'type': 'integer'}, 'providerNumber': {'anyOf': [{'type': 'string'}, {'type': 'null'}], 'default': None, 'description': \"BIC of the bank, necessary for intern'ational accounts only\", 'title': 'Providernumber'}, 'providerName': {'anyOf': [{'type': 'string'}, {'type': 'null'}], 'default': None, 'description': \"Possible values: Name of bank, 'VISA', 'AMEX', ...\", 'title': 'Providername'}, 'accountNumber': {'anyOf': [{'type': 'string'}, {'type': 'null'}], 'default': None, 'description': 'IBAN, credit card number or payment id (associated email for online payment services)', 'title': 'Accountnumber'}, 'accountOwner': {'anyOf': [{'type': 'string'}, {'type': 'null'}], 'default': None, 'description': 'Name of account owner', 'title': 'Accountowner'}, 'expirationDate': {'anyOf': [{'type': 'string'}, {'type': 'null'}], 'default': None, 'description': 'Needed when providerType=-160', 'title': 'Expirationdate'}}, 'required': ['providerType'], 'title': 'PaymentProvider', 'type': 'object'}, 'Person': {'properties': {'typeId': {'description': 'Person type: -2101 main, -30 company', 'title': 'Typeid', 'type': 'integer'}, 'salutationId': {'anyOf': [{'type': 'integer'}, {'type': 'null'}], 'default': None, 'description': 'Salutation ID, required for individuals', 'title': 'Salutationid'}, 'title': {'anyOf': [{'type': 'string'}, {'type': 'null'}], 'default': None, 'description': 'Title such as Dr., Prof., etc.', 'title': 'Title'}, 'firstName': {'anyOf': [{'type': 'string'}, {'type': 'null'}], 'default': None, 'description': 'First name. Not for companies.', 'title': 'Firstname'}, 'lastName': {'description': 'Last name or company name', 'title': 'Lastname', 'type': 'string'}, 'dateOfBirth': {'anyOf': [{'pattern': '^\\\\d{4}-\\\\d{2}-\\\\d{2}$', 'type': 'string'}, {'type': 'null'}], 'default': None, 'description': 'Date of birth (YYYY-MM-DD)', 'title': 'Dateofbirth'}, 'addresses': {'description': 'Addresses of the person', 'items': {'$ref': '#/$defs/Address'}, 'title': 'Addresses', 'type': 'array'}, 'contactInformations': {'description': 'Contact info (phone, email, etc.)', 'items': {'$ref': '#/$defs/ContactInfo'}, 'title': 'Contactinformations', 'type': 'array'}}, 'required': ['typeId', 'lastName'], 'title': 'Person', 'type': 'object'}}, 'properties': {'Person': {'$ref': '#/$defs/Person'}, 'Payment': {'$ref': '#/$defs/PaymentProvider'}, 'Attributes': {'$ref': '#/$defs/Attributes'}, 'Modules': {'$ref': '#/$defs/Modules'}}, 'required': ['Person', 'Payment', 'Attributes', 'Modules'], 'title': 'Form_3424', 'type': 'object'}\n"
     ]
    }
   ],
   "source": [
    "async with Client(transport) as client:\n",
    "    params = {\"form_id\": str(id), \"data\":json_form}\n",
    "    result = await client.call_tool_mcp(\"submit_form\", params)\n",
    "    json_schema = result.content[0].text\n",
    "    print(json_schema)"
   ]
  },
  {
   "cell_type": "code",
   "execution_count": null,
   "metadata": {},
   "outputs": [],
   "source": []
  },
  {
   "cell_type": "code",
   "execution_count": null,
   "metadata": {},
   "outputs": [],
   "source": []
  },
  {
   "cell_type": "code",
   "execution_count": null,
   "metadata": {},
   "outputs": [],
   "source": []
  },
  {
   "cell_type": "code",
   "execution_count": null,
   "metadata": {},
   "outputs": [],
   "source": []
  },
  {
   "cell_type": "code",
   "execution_count": null,
   "metadata": {},
   "outputs": [],
   "source": []
  },
  {
   "cell_type": "code",
   "execution_count": null,
   "metadata": {},
   "outputs": [],
   "source": []
  },
  {
   "cell_type": "code",
   "execution_count": 22,
   "metadata": {},
   "outputs": [
    {
     "name": "stdout",
     "output_type": "stream",
     "text": [
      "Status code: 200\n",
      "Response headers: Headers({'date': 'Fri, 25 Jul 2025 16:25:16 GMT', 'server': 'uvicorn', 'cache-control': 'no-cache, no-transform', 'connection': 'keep-alive', 'content-type': 'text/event-stream', 'mcp-session-id': '27c73a666a6447fbbf03e6282b6e4e99', 'x-accel-buffering': 'no', 'transfer-encoding': 'chunked'})\n",
      "Response body: event: message\n",
      "data: {\"jsonrpc\":\"2.0\",\"id\":1,\"result\":{\"protocolVersion\":\"2025-06-18\",\"capabilities\":{\"experimental\":{},\"prompts\":{\"listChanged\":true},\"resources\":{\"subscribe\":false,\"listChanged\":true},\"tools\":{\"listChanged\":true}},\"serverInfo\":{\"name\":\"statefull-MCP\",\"version\":\"1.11.0\"}}}\n",
      "\n",
      "\n",
      "Established MCP Session ID: 27c73a666a6447fbbf03e6282b6e4e99\n",
      "Tool call result: event: message\n",
      "data: {\"jsonrpc\":\"2.0\",\"id\":2,\"error\":{\"code\":-32602,\"message\":\"Invalid request parameters\",\"data\":\"\"}}\n",
      "\n",
      "\n"
     ]
    }
   ],
   "source": [
    "import httpx\n",
    "import json\n",
    "\n",
    "url = \"http://localhost:8005/stateful_mcp/\"  # Adjust to your MCP server endpoint\n",
    "\n",
    "# The official MCP initialization request\n",
    "payload = {\n",
    "    \"jsonrpc\": \"2.0\",\n",
    "    \"id\": 1,\n",
    "    \"method\": \"initialize\",\n",
    "    \"params\": {\n",
    "        \"protocolVersion\": \"2025-06-18\",\n",
    "        \"capabilities\": {},\n",
    "        \"clientInfo\": {\"name\": \"httpx\", \"version\": \"0.27\"}\n",
    "    }\n",
    "}\n",
    "\n",
    "headers = {\"Content-Type\": \"application/json\", \"Accept\": \"application/json, text/event-stream\"}\n",
    "\n",
    "with httpx.Client() as client:\n",
    "    resp = client.post(url, data=json.dumps(payload), headers=headers)\n",
    "    print(\"Status code:\", resp.status_code)\n",
    "    print(\"Response headers:\", resp.headers)\n",
    "    print(\"Response body:\", resp.text)\n",
    "    \n",
    "    # ✅ Retrieve the session id from the headers!\n",
    "    session_id = resp.headers.get(\"mcp-session-id\")\n",
    "    print(\"Established MCP Session ID:\", session_id)\n",
    "\n",
    "tool_payload = {\n",
    "    \"jsonrpc\": \"2.0\",\n",
    "    \"id\": 2,\n",
    "    \"method\": \"tools/call\",\n",
    "    \"params\": {\n",
    "        \"name\": \"select_product\",\n",
    "        \"input\": {\"product_id\": 17}\n",
    "    }\n",
    "}\n",
    "\n",
    "tool_headers = {\n",
    "    \"Content-Type\": \"application/json\",\n",
    "    \"Accept\": \"application/json, text/event-stream\",\n",
    "    \"mcp-session-id\": session_id   # <- The session token you received!\n",
    "}\n",
    "\n",
    "with httpx.Client() as client:\n",
    "    resp = client.post(url, data=json.dumps(tool_payload), headers=tool_headers)\n",
    "    print(\"Tool call result:\", resp.text)   "
   ]
  },
  {
   "cell_type": "code",
   "execution_count": 95,
   "metadata": {},
   "outputs": [
    {
     "name": "stdout",
     "output_type": "stream",
     "text": [
      "Status code: 200\n",
      "Response headers: Headers({'date': 'Fri, 25 Jul 2025 18:33:50 GMT', 'server': 'uvicorn', 'cache-control': 'no-cache, no-transform', 'connection': 'keep-alive', 'content-type': 'text/event-stream', 'mcp-session-id': '973eccae5d6d42adaa25be35498df84a', 'x-accel-buffering': 'no', 'transfer-encoding': 'chunked'})\n",
      "Response body: event: message\n",
      "data: {\"jsonrpc\":\"2.0\",\"id\":1,\"result\":{\"protocolVersion\":\"2025-06-18\",\"capabilities\":{\"experimental\":{},\"prompts\":{\"listChanged\":true},\"resources\":{\"subscribe\":false,\"listChanged\":true},\"tools\":{\"listChanged\":true}},\"serverInfo\":{\"name\":\"statefull-MCP\",\"version\":\"1.11.0\"}}}\n",
      "\n",
      "\n",
      "Established MCP Session ID: 973eccae5d6d42adaa25be35498df84a\n",
      "Status code: 202\n",
      "Response headers: Headers({'date': 'Fri, 25 Jul 2025 18:33:50 GMT', 'server': 'uvicorn', 'content-type': 'application/json', 'mcp-session-id': '973eccae5d6d42adaa25be35498df84a', 'content-length': '0'})\n",
      "Response body: \n",
      "Status code: 200\n",
      "Response headers: Headers({'date': 'Fri, 25 Jul 2025 18:33:50 GMT', 'server': 'uvicorn', 'cache-control': 'no-cache, no-transform', 'connection': 'keep-alive', 'content-type': 'text/event-stream', 'mcp-session-id': '973eccae5d6d42adaa25be35498df84a', 'x-accel-buffering': 'no', 'transfer-encoding': 'chunked'})\n",
      "Response body: event: message\n",
      "data: {\"jsonrpc\":\"2.0\",\"id\":2,\"result\":{\"tools\":[{\"name\":\"secure_operation\",\"description\":\"Tool can access state set by middleware.\",\"inputSchema\":{\"properties\":{\"data\":{\"title\":\"Data\",\"type\":\"string\"}},\"required\":[\"data\"],\"type\":\"object\"},\"outputSchema\":{\"properties\":{\"result\":{\"title\":\"Result\",\"type\":\"string\"}},\"required\":[\"result\"],\"title\":\"_WrappedResult\",\"type\":\"object\",\"x-fastmcp-wrap-result\":true}},{\"name\":\"select_product\",\"inputSchema\":{\"properties\":{\"product_id\":{\"title\":\"Product Id\",\"type\":\"string\"}},\"required\":[\"product_id\"],\"type\":\"object\"}},{\"name\":\"reset\",\"inputSchema\":{\"properties\":{},\"type\":\"object\"}},{\"name\":\"show_selection\",\"inputSchema\":{\"properties\":{},\"type\":\"object\"}}]}}\n",
      "\n",
      "\n",
      "Status code: 200\n",
      "Response headers: Headers({'date': 'Fri, 25 Jul 2025 18:33:50 GMT', 'server': 'uvicorn', 'cache-control': 'no-cache, no-transform', 'connection': 'keep-alive', 'content-type': 'text/event-stream', 'mcp-session-id': '973eccae5d6d42adaa25be35498df84a', 'x-accel-buffering': 'no', 'transfer-encoding': 'chunked'})\n",
      "Response body: event: message\n",
      "data: {\"jsonrpc\":\"2.0\",\"id\":1,\"result\":{\"content\":[{\"type\":\"text\",\"text\":\"cannot assign to field 'user_id'\"}],\"isError\":true}}\n",
      "\n",
      "\n",
      "Status code: 200\n",
      "Response headers: Headers({'date': 'Fri, 25 Jul 2025 18:33:50 GMT', 'server': 'uvicorn', 'cache-control': 'no-cache, no-transform', 'connection': 'keep-alive', 'content-type': 'text/event-stream', 'mcp-session-id': '973eccae5d6d42adaa25be35498df84a', 'x-accel-buffering': 'no', 'transfer-encoding': 'chunked'})\n",
      "Response body: event: message\n",
      "data: {\"jsonrpc\":\"2.0\",\"id\":3,\"result\":{\"content\":[{\"type\":\"text\",\"text\":\"cannot assign to field 'user_id'\"}],\"isError\":true}}\n",
      "\n",
      "\n"
     ]
    }
   ],
   "source": [
    "import httpx\n",
    "import json\n",
    "import time\n",
    "\n",
    "url = \"http://localhost:8005/stateful_mcp/\"  # Adjust to your MCP server endpoint\n",
    "\n",
    "# The official MCP initialization request\n",
    "payload = {\n",
    "    \"jsonrpc\": \"2.0\",\n",
    "    \"id\": 1,\n",
    "    \"method\": \"initialize\",\n",
    "    \"params\": {\n",
    "        \"protocolVersion\": \"2025-06-18\",\n",
    "        \"capabilities\": {},\n",
    "        \"clientInfo\": {\"name\": \"httpx\", \"version\": \"0.27\"}\n",
    "    }\n",
    "}\n",
    "\n",
    "initialized_payload = {\n",
    "    \"jsonrpc\": \"2.0\",\n",
    "    \"method\": \"notifications/initialized\",\n",
    "    \"params\": {\n",
    "        \"capabilities\": {}\n",
    "    }\n",
    "}\n",
    "\n",
    "list_tools_payload = {\n",
    "    \"jsonrpc\": \"2.0\",\n",
    "    \"id\": 2,\n",
    "    \"method\": \"tools/list\",\n",
    "    \"params\": {}   # no params needed\n",
    "}\n",
    "\n",
    "tool_payload = {\n",
    "    \"jsonrpc\": \"2.0\",\n",
    "    \"id\": 1,\n",
    "    \"method\": \"tools/call\",\n",
    "    \"params\": {\n",
    "        \"name\": \"secure_operation\",\n",
    "        \"arguments\": {\"data\": \"abc\"}\n",
    "    }\n",
    "}\n",
    "\n",
    "tool2_payload = {\n",
    "    \"jsonrpc\": \"2.0\",\n",
    "    \"id\": 3,\n",
    "    \"method\": \"tools/call\",\n",
    "    \"params\": {\n",
    "        \"name\": \"reset\",\n",
    "        \"input\": {}\n",
    "    }\n",
    "}\n",
    "\n",
    "headers = {\"Content-Type\": \"application/json\", \"Accept\": \"application/json, text/event-stream\"}\n",
    "session_id = 0\n",
    "\n",
    "with httpx.Client() as client:\n",
    "    resp = client.post(url, data=json.dumps(payload), headers=headers)\n",
    "    print(\"Status code:\", resp.status_code)\n",
    "    print(\"Response headers:\", resp.headers)\n",
    "    print(\"Response body:\", resp.text)\n",
    "    \n",
    "    # ✅ Retrieve the session id from the headers!\n",
    "    session_id = resp.headers.get(\"mcp-session-id\")\n",
    "    print(\"Established MCP Session ID:\", session_id)\n",
    "\n",
    "\n",
    "\n",
    "    tool_headers = {\n",
    "        \"Content-Type\": \"application/json\",\n",
    "        \"Accept\": \"application/json, text/event-stream\",\n",
    "        \"mcp-session-id\": session_id   # <- The session token you received!\n",
    "    }\n",
    "    resp = client.post(url, data=json.dumps(initialized_payload), headers=tool_headers)\n",
    "    print(\"Status code:\", resp.status_code)\n",
    "    print(\"Response headers:\", resp.headers)\n",
    "    print(\"Response body:\", resp.text)\n",
    "\n",
    "\n",
    "with httpx.Client() as client:\n",
    "    resp = client.post(url, data=json.dumps(list_tools_payload), headers=tool_headers)\n",
    "    print(\"Status code:\", resp.status_code)\n",
    "    print(\"Response headers:\", resp.headers)\n",
    "    print(\"Response body:\", resp.text)\n",
    "\n",
    "with httpx.Client() as client:\n",
    "    resp = client.post(url, data=json.dumps(tool_payload), headers=tool_headers)\n",
    "    print(\"Status code:\", resp.status_code)\n",
    "    print(\"Response headers:\", resp.headers)\n",
    "    print(\"Response body:\", resp.text)\n",
    "\n",
    "with httpx.Client() as client:\n",
    "    resp = client.post(url, data=json.dumps(tool2_payload), headers=tool_headers)\n",
    "    print(\"Status code:\", resp.status_code)\n",
    "    print(\"Response headers:\", resp.headers)\n",
    "    print(\"Response body:\", resp.text)\n",
    "    "
   ]
  },
  {
   "cell_type": "code",
   "execution_count": 33,
   "metadata": {},
   "outputs": [
    {
     "name": "stdout",
     "output_type": "stream",
     "text": [
      "Tool call result: event: message\n",
      "data: {\"jsonrpc\":\"2.0\",\"id\":2,\"error\":{\"code\":-32602,\"message\":\"Invalid request parameters\",\"data\":\"\"}}\n",
      "\n",
      "\n"
     ]
    }
   ],
   "source": [
    "tool_payload = {\n",
    "    \"jsonrpc\": \"2.0\",\n",
    "    \"id\": 2,\n",
    "    \"method\": \"tools/call\",\n",
    "    \"params\": {\n",
    "        \"name\": \"select_product\",\n",
    "        \"input\": {\"product_id\": 17}\n",
    "    }\n",
    "}\n",
    "\n",
    "headers = {\n",
    "    \"Content-Type\": \"application/json\",\n",
    "    \"Accept\": \"application/json, text/event-stream\",\n",
    "    \"mcp-session-id\": session_id   # <- The session token you received!\n",
    "}\n",
    "\n",
    "with httpx.Client() as client:\n",
    "    resp = client.post(url, data=json.dumps(tool_payload), headers=headers)\n",
    "    print(\"Tool call result:\", resp.text)   "
   ]
  },
  {
   "cell_type": "code",
   "execution_count": null,
   "metadata": {},
   "outputs": [],
   "source": [
    "async with streamablehttp_client(\"http://localhost:8005/stateful_mcp\") as (read, write, session_id):\n",
    "    async with ClientSession(read, write) as session:\n",
    "        print(f\"Session ID: {session_id()}\")\n",
    "        await session.initialize()\n",
    "        print(f\"Session ID: {session_id()}\")\n",
    "        tools_result = await session.list_tools()\n",
    "        print(\"Available tools:\", [tool.name for tool in tools_result.tools])\n",
    "        print(f\"Session ID: {session_id()}\")\n",
    "        result = await session.call_tool(\"select_product\", {\"product_id\": \"1234\"})\n",
    "        print(f\"Session ID: {session_id()}\")\n",
    "        id = session_id()"
   ]
  },
  {
   "cell_type": "code",
   "execution_count": 23,
   "metadata": {},
   "outputs": [
    {
     "ename": "AttributeError",
     "evalue": "'Client' object has no attribute 'session_id'",
     "output_type": "error",
     "traceback": [
      "\u001b[31m---------------------------------------------------------------------------\u001b[39m",
      "\u001b[31mAttributeError\u001b[39m                            Traceback (most recent call last)",
      "\u001b[36mCell\u001b[39m\u001b[36m \u001b[39m\u001b[32mIn[23]\u001b[39m\u001b[32m, line 4\u001b[39m\n\u001b[32m      2\u001b[39m \u001b[38;5;28;01masync\u001b[39;00m \u001b[38;5;28;01mwith\u001b[39;00m Client(server_url) \u001b[38;5;28;01mas\u001b[39;00m client:\n\u001b[32m      3\u001b[39m     mcp_tools = \u001b[38;5;28;01mawait\u001b[39;00m client.list_tools()\n\u001b[32m----> \u001b[39m\u001b[32m4\u001b[39m     \u001b[38;5;28mprint\u001b[39m(\u001b[33mf\u001b[39m\u001b[33m\"\u001b[39m\u001b[33mSession ID: \u001b[39m\u001b[38;5;132;01m{\u001b[39;00m\u001b[43mclient\u001b[49m\u001b[43m.\u001b[49m\u001b[43msession_id\u001b[49m\u001b[38;5;132;01m}\u001b[39;00m\u001b[33m\"\u001b[39m)\n\u001b[32m      5\u001b[39m     \u001b[38;5;28;01mfor\u001b[39;00m tool_info \u001b[38;5;129;01min\u001b[39;00m \u001b[38;5;28mlist\u001b[39m(mcp_tools):\n\u001b[32m      6\u001b[39m         \u001b[38;5;28mprint\u001b[39m(\u001b[33mf\u001b[39m\u001b[33m\"\u001b[39m\u001b[38;5;132;01m{\u001b[39;00mtool_info\u001b[38;5;132;01m}\u001b[39;00m\u001b[33m\"\u001b[39m)\n",
      "\u001b[31mAttributeError\u001b[39m: 'Client' object has no attribute 'session_id'"
     ]
    }
   ],
   "source": [
    "mcp_tools = []\n",
    "async with Client(server_url) as client:\n",
    "    mcp_tools = await client.list_tools()\n",
    "    print(f\"Session ID: {client.session_id}\")\n",
    "    for tool_info in list(mcp_tools):\n",
    "        print(f\"{tool_info}\")\n"
   ]
  },
  {
   "cell_type": "code",
   "execution_count": 22,
   "metadata": {},
   "outputs": [
    {
     "ename": "AttributeError",
     "evalue": "'Client' object has no attribute 'initialize'",
     "output_type": "error",
     "traceback": [
      "\u001b[31m---------------------------------------------------------------------------\u001b[39m",
      "\u001b[31mAttributeError\u001b[39m                            Traceback (most recent call last)",
      "\u001b[36mCell\u001b[39m\u001b[36m \u001b[39m\u001b[32mIn[22]\u001b[39m\u001b[32m, line 2\u001b[39m\n\u001b[32m      1\u001b[39m \u001b[38;5;28;01masync\u001b[39;00m \u001b[38;5;28;01mwith\u001b[39;00m Client(server_url) \u001b[38;5;28;01mas\u001b[39;00m client:\n\u001b[32m----> \u001b[39m\u001b[32m2\u001b[39m     response = \u001b[38;5;28;01mawait\u001b[39;00m \u001b[43mclient\u001b[49m\u001b[43m.\u001b[49m\u001b[43minitialize\u001b[49m()\n\u001b[32m      3\u001b[39m     \u001b[38;5;66;03m# params = {\"product_id\": 17}\u001b[39;00m\n\u001b[32m      4\u001b[39m     \u001b[38;5;66;03m# result = await client.call_tool_mcp(\"select_product\", params)\u001b[39;00m\n\u001b[32m      5\u001b[39m     \u001b[38;5;66;03m# print(f\"Session: {client.session}\")\u001b[39;00m\n\u001b[32m   (...)\u001b[39m\u001b[32m      8\u001b[39m     \u001b[38;5;66;03m# params = {\"product_id\": 18}\u001b[39;00m\n\u001b[32m      9\u001b[39m     \u001b[38;5;66;03m# result = await client.call_tool_mcp(\"select_product\", params)\u001b[39;00m\n",
      "\u001b[31mAttributeError\u001b[39m: 'Client' object has no attribute 'initialize'"
     ]
    }
   ],
   "source": [
    "async with Client(server_url) as client:\n",
    "    params = {\"product_id\": 17}\n",
    "    result = await client.call_tool_mcp(\"select_product\", params)\n",
    "    # print(f\"Session: {client.session}\")\n",
    "    # pretty = json.loads(result.content[0].text)\n",
    "    # print(json.dumps(pretty, indent=2, ensure_ascii=False))\n",
    "    # params = {\"product_id\": 18}\n",
    "    # result = await client.call_tool_mcp(\"select_product\", params)\n"
   ]
  },
  {
   "cell_type": "code",
   "execution_count": 19,
   "metadata": {},
   "outputs": [
    {
     "ename": "AttributeError",
     "evalue": "property 'session' of 'Client' object has no setter",
     "output_type": "error",
     "traceback": [
      "\u001b[31m---------------------------------------------------------------------------\u001b[39m",
      "\u001b[31mAttributeError\u001b[39m                            Traceback (most recent call last)",
      "\u001b[36mCell\u001b[39m\u001b[36m \u001b[39m\u001b[32mIn[19]\u001b[39m\u001b[32m, line 2\u001b[39m\n\u001b[32m      1\u001b[39m \u001b[38;5;28;01masync\u001b[39;00m \u001b[38;5;28;01mwith\u001b[39;00m Client(server_url) \u001b[38;5;28;01mas\u001b[39;00m client:\n\u001b[32m----> \u001b[39m\u001b[32m2\u001b[39m     \u001b[43mclient\u001b[49m\u001b[43m.\u001b[49m\u001b[43msession\u001b[49m = session\n\u001b[32m      3\u001b[39m     params = {\u001b[33m\"\u001b[39m\u001b[33mproduct_id\u001b[39m\u001b[33m\"\u001b[39m: \u001b[32m18\u001b[39m}\n\u001b[32m      4\u001b[39m     result = \u001b[38;5;28;01mawait\u001b[39;00m client.call_tool_mcp(\u001b[33m\"\u001b[39m\u001b[33mselect_product\u001b[39m\u001b[33m\"\u001b[39m, params)\n",
      "\u001b[31mAttributeError\u001b[39m: property 'session' of 'Client' object has no setter"
     ]
    }
   ],
   "source": [
    "async with Client(server_url) as client:\n",
    "    \n",
    "    params = {\"product_id\": 17}\n",
    "    result = await client.call_tool_mcp(\"select_product\", params)\n",
    "    session = client.session\n",
    "    print(f\"Session: {client.session}\")\n",
    "    pretty = json.loads(result.content[0].text)\n",
    "    print(json.dumps(pretty, indent=2, ensure_ascii=False))"
   ]
  },
  {
   "cell_type": "markdown",
   "metadata": {},
   "source": [
    "# Execute Tool Call"
   ]
  },
  {
   "cell_type": "code",
   "execution_count": 13,
   "metadata": {},
   "outputs": [
    {
     "ename": "JSONDecodeError",
     "evalue": "Expecting value: line 1 column 1 (char 0)",
     "output_type": "error",
     "traceback": [
      "\u001b[31m---------------------------------------------------------------------------\u001b[39m",
      "\u001b[31mJSONDecodeError\u001b[39m                           Traceback (most recent call last)",
      "\u001b[36mCell\u001b[39m\u001b[36m \u001b[39m\u001b[32mIn[13]\u001b[39m\u001b[32m, line 5\u001b[39m\n\u001b[32m      3\u001b[39m params = {\u001b[33m\"\u001b[39m\u001b[33mcustomer\u001b[39m\u001b[33m\"\u001b[39m: \u001b[33m\"\u001b[39m\u001b[33mSchutzgarant\u001b[39m\u001b[33m\"\u001b[39m}\n\u001b[32m      4\u001b[39m result = \u001b[38;5;28;01mawait\u001b[39;00m client.call_tool_mcp(\u001b[33m\"\u001b[39m\u001b[33mget_products\u001b[39m\u001b[33m\"\u001b[39m, params)\n\u001b[32m----> \u001b[39m\u001b[32m5\u001b[39m pretty = \u001b[43mjson\u001b[49m\u001b[43m.\u001b[49m\u001b[43mloads\u001b[49m\u001b[43m(\u001b[49m\u001b[43mresult\u001b[49m\u001b[43m.\u001b[49m\u001b[43mcontent\u001b[49m\u001b[43m[\u001b[49m\u001b[32;43m0\u001b[39;49m\u001b[43m]\u001b[49m\u001b[43m.\u001b[49m\u001b[43mtext\u001b[49m\u001b[43m)\u001b[49m\n\u001b[32m      6\u001b[39m \u001b[38;5;28mprint\u001b[39m(json.dumps(pretty, indent=\u001b[32m2\u001b[39m, ensure_ascii=\u001b[38;5;28;01mFalse\u001b[39;00m))\n",
      "\u001b[36mFile \u001b[39m\u001b[32m/opt/homebrew/Cellar/python@3.13/3.13.1/Frameworks/Python.framework/Versions/3.13/lib/python3.13/json/__init__.py:346\u001b[39m, in \u001b[36mloads\u001b[39m\u001b[34m(s, cls, object_hook, parse_float, parse_int, parse_constant, object_pairs_hook, **kw)\u001b[39m\n\u001b[32m    341\u001b[39m     s = s.decode(detect_encoding(s), \u001b[33m'\u001b[39m\u001b[33msurrogatepass\u001b[39m\u001b[33m'\u001b[39m)\n\u001b[32m    343\u001b[39m \u001b[38;5;28;01mif\u001b[39;00m (\u001b[38;5;28mcls\u001b[39m \u001b[38;5;129;01mis\u001b[39;00m \u001b[38;5;28;01mNone\u001b[39;00m \u001b[38;5;129;01mand\u001b[39;00m object_hook \u001b[38;5;129;01mis\u001b[39;00m \u001b[38;5;28;01mNone\u001b[39;00m \u001b[38;5;129;01mand\u001b[39;00m\n\u001b[32m    344\u001b[39m         parse_int \u001b[38;5;129;01mis\u001b[39;00m \u001b[38;5;28;01mNone\u001b[39;00m \u001b[38;5;129;01mand\u001b[39;00m parse_float \u001b[38;5;129;01mis\u001b[39;00m \u001b[38;5;28;01mNone\u001b[39;00m \u001b[38;5;129;01mand\u001b[39;00m\n\u001b[32m    345\u001b[39m         parse_constant \u001b[38;5;129;01mis\u001b[39;00m \u001b[38;5;28;01mNone\u001b[39;00m \u001b[38;5;129;01mand\u001b[39;00m object_pairs_hook \u001b[38;5;129;01mis\u001b[39;00m \u001b[38;5;28;01mNone\u001b[39;00m \u001b[38;5;129;01mand\u001b[39;00m \u001b[38;5;129;01mnot\u001b[39;00m kw):\n\u001b[32m--> \u001b[39m\u001b[32m346\u001b[39m     \u001b[38;5;28;01mreturn\u001b[39;00m \u001b[43m_default_decoder\u001b[49m\u001b[43m.\u001b[49m\u001b[43mdecode\u001b[49m\u001b[43m(\u001b[49m\u001b[43ms\u001b[49m\u001b[43m)\u001b[49m\n\u001b[32m    347\u001b[39m \u001b[38;5;28;01mif\u001b[39;00m \u001b[38;5;28mcls\u001b[39m \u001b[38;5;129;01mis\u001b[39;00m \u001b[38;5;28;01mNone\u001b[39;00m:\n\u001b[32m    348\u001b[39m     \u001b[38;5;28mcls\u001b[39m = JSONDecoder\n",
      "\u001b[36mFile \u001b[39m\u001b[32m/opt/homebrew/Cellar/python@3.13/3.13.1/Frameworks/Python.framework/Versions/3.13/lib/python3.13/json/decoder.py:345\u001b[39m, in \u001b[36mJSONDecoder.decode\u001b[39m\u001b[34m(self, s, _w)\u001b[39m\n\u001b[32m    340\u001b[39m \u001b[38;5;28;01mdef\u001b[39;00m\u001b[38;5;250m \u001b[39m\u001b[34mdecode\u001b[39m(\u001b[38;5;28mself\u001b[39m, s, _w=WHITESPACE.match):\n\u001b[32m    341\u001b[39m \u001b[38;5;250m    \u001b[39m\u001b[33;03m\"\"\"Return the Python representation of ``s`` (a ``str`` instance\u001b[39;00m\n\u001b[32m    342\u001b[39m \u001b[33;03m    containing a JSON document).\u001b[39;00m\n\u001b[32m    343\u001b[39m \n\u001b[32m    344\u001b[39m \u001b[33;03m    \"\"\"\u001b[39;00m\n\u001b[32m--> \u001b[39m\u001b[32m345\u001b[39m     obj, end = \u001b[38;5;28;43mself\u001b[39;49m\u001b[43m.\u001b[49m\u001b[43mraw_decode\u001b[49m\u001b[43m(\u001b[49m\u001b[43ms\u001b[49m\u001b[43m,\u001b[49m\u001b[43m \u001b[49m\u001b[43midx\u001b[49m\u001b[43m=\u001b[49m\u001b[43m_w\u001b[49m\u001b[43m(\u001b[49m\u001b[43ms\u001b[49m\u001b[43m,\u001b[49m\u001b[43m \u001b[49m\u001b[32;43m0\u001b[39;49m\u001b[43m)\u001b[49m\u001b[43m.\u001b[49m\u001b[43mend\u001b[49m\u001b[43m(\u001b[49m\u001b[43m)\u001b[49m\u001b[43m)\u001b[49m\n\u001b[32m    346\u001b[39m     end = _w(s, end).end()\n\u001b[32m    347\u001b[39m     \u001b[38;5;28;01mif\u001b[39;00m end != \u001b[38;5;28mlen\u001b[39m(s):\n",
      "\u001b[36mFile \u001b[39m\u001b[32m/opt/homebrew/Cellar/python@3.13/3.13.1/Frameworks/Python.framework/Versions/3.13/lib/python3.13/json/decoder.py:363\u001b[39m, in \u001b[36mJSONDecoder.raw_decode\u001b[39m\u001b[34m(self, s, idx)\u001b[39m\n\u001b[32m    361\u001b[39m     obj, end = \u001b[38;5;28mself\u001b[39m.scan_once(s, idx)\n\u001b[32m    362\u001b[39m \u001b[38;5;28;01mexcept\u001b[39;00m \u001b[38;5;167;01mStopIteration\u001b[39;00m \u001b[38;5;28;01mas\u001b[39;00m err:\n\u001b[32m--> \u001b[39m\u001b[32m363\u001b[39m     \u001b[38;5;28;01mraise\u001b[39;00m JSONDecodeError(\u001b[33m\"\u001b[39m\u001b[33mExpecting value\u001b[39m\u001b[33m\"\u001b[39m, s, err.value) \u001b[38;5;28;01mfrom\u001b[39;00m\u001b[38;5;250m \u001b[39m\u001b[38;5;28;01mNone\u001b[39;00m\n\u001b[32m    364\u001b[39m \u001b[38;5;28;01mreturn\u001b[39;00m obj, end\n",
      "\u001b[31mJSONDecodeError\u001b[39m: Expecting value: line 1 column 1 (char 0)"
     ]
    }
   ],
   "source": [
    "async with Client(server_url) as client:\n",
    "\n",
    "    params = {\"customer\": \"Schutzgarant\"}\n",
    "session = client.session\n",
    "    "
   ]
  },
  {
   "cell_type": "code",
   "execution_count": 6,
   "metadata": {},
   "outputs": [
    {
     "name": "stdout",
     "output_type": "stream",
     "text": [
      "{\n",
      "  \"voNumber\": \"C001006389\",\n",
      "  \"productVariantId\": 64,\n",
      "  \"contractCode\": \"Mantix\",\n",
      "  \"desiredActivationDate\": \"2025-07-24\",\n",
      "  \"payment\": {\n",
      "    \"typeId\": -5901,\n",
      "    \"provider\": {\n",
      "      \"__type\": \"object\",\n",
      "      \"__properties\": {\n",
      "        \"providerType\": {\n",
      "          \"__type\": \"integer\",\n",
      "          \"__enum\": [\n",
      "            -160,\n",
      "            -161,\n",
      "            -162,\n",
      "            -163,\n",
      "            -164,\n",
      "            -165\n",
      "          ],\n",
      "          \"__description\": \"Type of payment service provider. Possible values: -160 = Credit card, -161 = Bank, -162 = Amazon Pay, -163 = PayPal, -165 = Google Pay\"\n",
      "        },\n",
      "        \"providerNumber\": {\n",
      "          \"__type\": \"string\",\n",
      "          \"__description\": \"e.g. BIC\"\n",
      "        },\n",
      "        \"providerName\": {\n",
      "          \"__type\": \"string\",\n",
      "          \"__description\": \"Name of bank, VISA, AMEX, ...\"\n",
      "        },\n",
      "        \"accountNumber\": {\n",
      "          \"__type\": \"string\",\n",
      "          \"__description\": \"IBAN or credit card number\"\n",
      "        },\n",
      "        \"expirationDate\": {\n",
      "          \"__type\": \"string\",\n",
      "          \"__description\": \"expiration date of credit card number   \"\n",
      "        },\n",
      "        \"accountOwner\": {\n",
      "          \"__type\": \"string\",\n",
      "          \"__description\": \"Different account/credit card holder\"\n",
      "        }\n",
      "      },\n",
      "      \"__description\": \"Data of a payment service provider. It can be a bank, a credit card institution, or an online payment service.\",\n",
      "      \"__required\": [\n",
      "        \"providerType\",\n",
      "        \"providerNumber\",\n",
      "        \"providerName\",\n",
      "        \"accountNumber\",\n",
      "        \"accountOwner\"\n",
      "      ]\n",
      "    },\n",
      "    \"intervalId\": -5105\n",
      "  },\n",
      "  \"contactPersons\": [\n",
      "    {\n",
      "      \"__type\": \"object\",\n",
      "      \"__properties\": {\n",
      "        \"typeId\": -2101,\n",
      "        \"salutationId\": {\n",
      "          \"__type\": \"integer\",\n",
      "          \"__enum\": [\n",
      "            -30,\n",
      "            -31,\n",
      "            -32,\n",
      "            -39\n",
      "          ],\n",
      "          \"__description\": \"Possible values: -37 = Life Partnership, -36 = Shared Apartment, -35 = Community of Heirs, -34 = Ms. and Mr., -33 = Mr. and Ms., -32 = Ms., -31 = Mr., -30 = Company\"\n",
      "        },\n",
      "        \"title\": {\n",
      "          \"__type\": \"string\",\n",
      "          \"__description\": \"Title such as Dr., Prof., etc.\",\n",
      "          \"__required\": false\n",
      "        },\n",
      "        \"firstName\": {\n",
      "          \"__type\": \"string\",\n",
      "          \"__description\": \"First name. Not applicable for companies.\"\n",
      "        },\n",
      "        \"lastName\": {\n",
      "          \"__type\": \"string\",\n",
      "          \"__description\": \"Last name or company name.\"\n",
      "        },\n",
      "        \"addresses\": [\n",
      "          {\n",
      "            \"typeId\": -11,\n",
      "            \"street\": {\n",
      "              \"__type\": \"string\",\n",
      "              \"__description\": \"Street (without house number).\"\n",
      "            },\n",
      "            \"streetNumber\": {\n",
      "              \"__type\": \"string\",\n",
      "              \"__description\": \"House number.\"\n",
      "            },\n",
      "            \"addition\": {\n",
      "              \"__type\": \"string\",\n",
      "              \"__description\": \"Additional information such as '2nd floor'.\"\n",
      "            },\n",
      "            \"zipcode\": {\n",
      "              \"__type\": \"string\",\n",
      "              \"__description\": \"Postal code.\"\n",
      "            },\n",
      "            \"city\": {\n",
      "              \"__type\": \"string\",\n",
      "              \"__description\": \"City name\"\n",
      "            },\n",
      "            \"countryCode\": {\n",
      "              \"__type\": \"string\",\n",
      "              \"__description\": \"2-character ISO country code (e.g., DE for Germany).\"\n",
      "            }\n",
      "          }\n",
      "        ],\n",
      "        \"contactInformations\": [\n",
      "          {\n",
      "            \"typeId\": -23,\n",
      "            \"value\": {\n",
      "              \"__type\": \"string\",\n",
      "              \"__description\": \"corporate /business email\"\n",
      "            }\n",
      "          },\n",
      "          {\n",
      "            \"typeId\": -20,\n",
      "            \"value\": {\n",
      "              \"__type\": \"string\",\n",
      "              \"__description\": \"corporate /business phone number\"\n",
      "            }\n",
      "          }\n",
      "        ]\n",
      "      },\n",
      "      \"__description\": \"main customer, mainly a company. can be a person but needs to provide business-related information (address, mail...)\",\n",
      "      \"__required\": true\n",
      "    },\n",
      "    {\n",
      "      \"__type\": \"object\",\n",
      "      \"__properties\": {\n",
      "        \"typeId\": -101007,\n",
      "        \"title\": {\n",
      "          \"__type\": \"string\",\n",
      "          \"__description\": \"Title such as Dr., Prof., etc.\",\n",
      "          \"__required\": false\n",
      "        },\n",
      "        \"firstName\": {\n",
      "          \"__type\": \"string\",\n",
      "          \"__description\": \"First name. Not applicable for companies.\"\n",
      "        },\n",
      "        \"lastName\": {\n",
      "          \"__type\": \"string\",\n",
      "          \"__description\": \"Last name or company name.\"\n",
      "        },\n",
      "        \"contactInformations\": [\n",
      "          {\n",
      "            \"typeId\": -23,\n",
      "            \"value\": {\n",
      "              \"__type\": \"string\",\n",
      "              \"__description\": \"corporate /business email\"\n",
      "            }\n",
      "          },\n",
      "          {\n",
      "            \"typeId\": -20,\n",
      "            \"value\": {\n",
      "              \"__type\": \"string\",\n",
      "              \"__description\": \"corporate /business phone number\"\n",
      "            }\n",
      "          }\n",
      "        ]\n",
      "      },\n",
      "      \"__description\": \"main contact person at customer. only allowed if customer is a company\",\n",
      "      \"__required\": false\n",
      "    }\n",
      "  ],\n",
      "  \"attributes\": [\n",
      "    {\n",
      "      \"attributeId\": 7,\n",
      "      \"value\": {\n",
      "        \"__type\": \"string\",\n",
      "        \"__enum\": [\n",
      "          \"Smartphones & Handys\",\n",
      "          \"Notebooks & Tablets\",\n",
      "          \"Sonstige Geräte\"\n",
      "        ],\n",
      "        \"__description\": \"Gerätekategorie\",\n",
      "        \"__default\": \"Smartphones & Handys\",\n",
      "        \"__mandatory\": true\n",
      "      }\n",
      "    },\n",
      "    {\n",
      "      \"attributeId\": 4,\n",
      "      \"value\": {\n",
      "        \"__type\": \"integer\",\n",
      "        \"__description\": \"Laufzeit in Monaten\",\n",
      "        \"__default\": \"24\",\n",
      "        \"__mandatory\": true\n",
      "      }\n",
      "    }\n",
      "  ],\n",
      "  \"modules\": [\n",
      "    {\n",
      "      \"attributeId\": 13,\n",
      "      \"value\": {\n",
      "        \"__type\": \"integer\",\n",
      "        \"__description\": \"Anzahl der Geräte\",\n",
      "        \"__default\": \"\",\n",
      "        \"__mandatory\": true\n",
      "      }\n",
      "    },\n",
      "    {\n",
      "      \"attributeId\": 16,\n",
      "      \"value\": {\n",
      "        \"__type\": \"integer\",\n",
      "        \"__description\": \"Herstellergarantie (Monate)\",\n",
      "        \"__default\": \"24\",\n",
      "        \"__mandatory\": true\n",
      "      }\n",
      "    },\n",
      "    {\n",
      "      \"attributeId\": 226,\n",
      "      \"value\": {\n",
      "        \"__type\": \"integer\",\n",
      "        \"__description\": \"Garantie auf Akku (Monate)\",\n",
      "        \"__default\": \"24\",\n",
      "        \"__mandatory\": true\n",
      "      }\n",
      "    },\n",
      "    {\n",
      "      \"attributeId\": 1,\n",
      "      \"value\": {\n",
      "        \"__type\": \"string\",\n",
      "        \"__format\": \"date\",\n",
      "        \"__pattern\": \"^\\\\d{4}-\\\\d{2}-\\\\d{2}$\",\n",
      "        \"__description\": \"Lieferdatum\",\n",
      "        \"__default\": null,\n",
      "        \"mandatory\": true\n",
      "      }\n",
      "    },\n",
      "    {\n",
      "      \"attributeId\": 70,\n",
      "      \"value\": {\n",
      "        \"__type\": \"string\",\n",
      "        \"__enum\": [\n",
      "          \"Samsung\",\n",
      "          \"Apple\",\n",
      "          \"Huawei\",\n",
      "          \"Xiaomi\",\n",
      "          \"Acer\",\n",
      "          \"AEG\",\n",
      "          \"Alcatel\",\n",
      "          \"Allview\",\n",
      "          \"Amica\",\n",
      "          \"Asus\",\n",
      "          \"ATAG\",\n",
      "          \"Bauknecht\",\n",
      "          \"BEKO\",\n",
      "          \"Blackberry\",\n",
      "          \"Blomberg\",\n",
      "          \"Bomann\",\n",
      "          \"Bosch (BSH)\",\n",
      "          \"Candy\",\n",
      "          \"Canon\",\n",
      "          \"CAT\",\n",
      "          \"Caterpillar\",\n",
      "          \"Clatronic\",\n",
      "          \"Constructa\",\n",
      "          \"Cubot\",\n",
      "          \"DELL\",\n",
      "          \"Doro\",\n",
      "          \"Electrolux\",\n",
      "          \"Elektra Bregenz\",\n",
      "          \"Epson\",\n",
      "          \"Exquisit\",\n",
      "          \"Fagor\",\n",
      "          \"Fairphone\",\n",
      "          \"Fujifilm\",\n",
      "          \"Fujitsu\",\n",
      "          \"Gaggenau\",\n",
      "          \"Gigaset\",\n",
      "          \"Google\",\n",
      "          \"GoPro\",\n",
      "          \"Gorenje\",\n",
      "          \"Grundig\",\n",
      "          \"Haier\",\n",
      "          \"Hewlett Packard/HP\",\n",
      "          \"Honor\",\n",
      "          \"Hoover\",\n",
      "          \"HTC\",\n",
      "          \"Ignis\",\n",
      "          \"Ikea\",\n",
      "          \"Indesit\",\n",
      "          \"ISY\",\n",
      "          \"Juno\",\n",
      "          \"Koenic\",\n",
      "          \"Körting\",\n",
      "          \"Küppersbusch\",\n",
      "          \"Leica\",\n",
      "          \"Lenovo\",\n",
      "          \"LG\",\n",
      "          \"Liebherr\",\n",
      "          \"Microsoft\",\n",
      "          \"Miele\",\n",
      "          \"Motorola\",\n",
      "          \"Neff\",\n",
      "          \"Nikon\",\n",
      "          \"Nokia\",\n",
      "          \"ok\",\n",
      "          \"Olympus\",\n",
      "          \"OnePlus\",\n",
      "          \"OPPO\",\n",
      "          \"Oranier\",\n",
      "          \"Panasonic\",\n",
      "          \"PEAQ\",\n",
      "          \"Privileg\",\n",
      "          \"Progress\",\n",
      "          \"Schaub Lorenz\",\n",
      "          \"Sharp\",\n",
      "          \"Sibir\",\n",
      "          \"Siemens\",\n",
      "          \"Smeg\",\n",
      "          \"Sony\",\n",
      "          \"Teka\",\n",
      "          \"Termikel\",\n",
      "          \"UleFone\",\n",
      "          \"Vivo\",\n",
      "          \"Whirlpool\",\n",
      "          \"Wiko\",\n",
      "          \"Zanker\",\n",
      "          \"Zanussi\",\n",
      "          \"ZTE\",\n",
      "          \"Sonstige\"\n",
      "        ],\n",
      "        \"__description\": \"Hersteller\",\n",
      "        \"__default\": null,\n",
      "        \"__mandatory\": true\n",
      "      }\n",
      "    },\n",
      "    {\n",
      "      \"attributeId\": 217,\n",
      "      \"value\": {\n",
      "        \"__type\": \"string\",\n",
      "        \"__description\": \"Herstellername\",\n",
      "        \"__default\": \"\",\n",
      "        \"__mandatory\": false\n",
      "      }\n",
      "    },\n",
      "    {\n",
      "      \"attributeId\": 130,\n",
      "      \"value\": {\n",
      "        \"__type\": \"string\",\n",
      "        \"__description\": \"Modell\",\n",
      "        \"__default\": \"\",\n",
      "        \"__mandatory\": false\n",
      "      }\n",
      "    },\n",
      "    {\n",
      "      \"attributeId\": 25,\n",
      "      \"value\": {\n",
      "        \"__type\": \"string\",\n",
      "        \"__enum\": [\n",
      "          \"Bildschirmschaden\",\n",
      "          \"Alle Unfallschäden\"\n",
      "        ],\n",
      "        \"__description\": \"Deckungsumfang (Unfall)\",\n",
      "        \"__default\": \"Alle Unfallschäden\",\n",
      "        \"__mandatory\": true\n",
      "      }\n",
      "    },\n",
      "    {\n",
      "      \"attributeId\": 28,\n",
      "      \"value\": {\n",
      "        \"__type\": \"string\",\n",
      "        \"__enum\": [\n",
      "          \"Raub und Einbruch\",\n",
      "          \"Alle Arten von Diebstahl\"\n",
      "        ],\n",
      "        \"__description\": \"Deckungsumfang (Diebstahl)\",\n",
      "        \"__default\": \"Alle Arten von Diebstahl\",\n",
      "        \"__mandatory\": true\n",
      "      }\n",
      "    }\n",
      "  ]\n",
      "}\n"
     ]
    }
   ],
   "source": [
    "async with Client(server_url) as client:\n",
    "\n",
    "    params = {\"customer\": \"Schutzgarant\", \"displayName\":\"FirmenSchutzbrief by ELEMENT\"}\n",
    "    result = await client.call_tool_mcp(\"get_form\", params)\n",
    "    # print(result)\n",
    "    pretty = json.loads(result.content[0].text)\n",
    "    print(json.dumps(pretty, indent=2, ensure_ascii=False))"
   ]
  },
  {
   "cell_type": "code",
   "execution_count": 36,
   "metadata": {},
   "outputs": [],
   "source": [
    "from openai import OpenAI\n",
    "\n",
    "\n",
    "def parse_json(data):\n",
    "    model = os.getenv(\"STACKIT_MODEL_ID\")\n",
    "    key = os.getenv(\"STACKIT_KEY\")\n",
    "    base = os.getenv(\"STACKIT_BASE\")\n",
    "\n",
    "    j_object = None\n",
    "    if not data or len(data) < 5:\n",
    "        return None\n",
    "\n",
    "    js = data\n",
    "    for attempt in range(3):\n",
    "        # Find JSON braces\n",
    "        s = js.find(\"{\")\n",
    "        e = js.rfind(\"}\") + 1\n",
    "        if s == -1 or e <= s:\n",
    "            print(f\"Could not find valid JSON braces in: {js}\")\n",
    "            js = data  # reset for LLM\n",
    "        else:\n",
    "            try:\n",
    "                j_object = json.loads(js[s:e])\n",
    "                return j_object\n",
    "            except json.JSONDecodeError:\n",
    "                print(f\"Attempt {attempt+1}: JSON decode failed.\")\n",
    "\n",
    "        # Try LLM repair\n",
    "        try:\n",
    "            messages = [\n",
    "                {\n",
    "                    \"role\": \"system\",\n",
    "                    \"content\": (\n",
    "                        \"You are a JSON expert function that accepts malformed and broken JSON strings. \"\n",
    "                        \"You reply with the corrected version that requires the least changes and fully retains the content and structure. \"\n",
    "                        \"Do not comment or explain, just return the corrected JSON.\"\n",
    "                    ),\n",
    "                },\n",
    "                {\"role\": \"user\", \"content\": js},\n",
    "            ]\n",
    "            client = OpenAI(base_url=base, api_key=key)\n",
    "            response = client.chat.completions.create(model=model, messages=messages)\n",
    "            js = response.choices[0].message.content\n",
    "        except Exception as e:\n",
    "            print(f\"An error occurred with LLM: {str(e)}\")\n",
    "            continue\n",
    "\n",
    "    print(\n",
    "        f\"Failed to parse/fix JSON after 3 attempts. Original: {data}, Last attempt: {js}\"\n",
    "    )\n",
    "    return None"
   ]
  },
  {
   "cell_type": "code",
   "execution_count": 38,
   "metadata": {},
   "outputs": [
    {
     "name": "stdout",
     "output_type": "stream",
     "text": [
      "Could not find valid JSON braces in: abc{\"hello\"::\"world\"\n",
      "{'hello': 'world'}\n"
     ]
    }
   ],
   "source": [
    "test_data = '{\"hello\":\"world\"}'\n",
    "test_data = 'abc{\"hello\":\"world\"}'\n",
    "test_data = 'abc{\"hello\"::\"world\"}'\n",
    "test_data = 'abc{\"hello\"::\"world\"'\n",
    "\n",
    "\n",
    "result = parse_json(test_data)\n",
    "\n",
    "print(result)"
   ]
  }
 ],
 "metadata": {
  "kernelspec": {
   "display_name": ".venv",
   "language": "python",
   "name": "python3"
  },
  "language_info": {
   "codemirror_mode": {
    "name": "ipython",
    "version": 3
   },
   "file_extension": ".py",
   "mimetype": "text/x-python",
   "name": "python",
   "nbconvert_exporter": "python",
   "pygments_lexer": "ipython3",
   "version": "3.13.1"
  }
 },
 "nbformat": 4,
 "nbformat_minor": 2
}
